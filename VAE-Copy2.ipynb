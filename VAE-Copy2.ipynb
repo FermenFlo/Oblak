{
 "cells": [
  {
   "cell_type": "code",
   "execution_count": 1,
   "metadata": {},
   "outputs": [
    {
     "name": "stderr",
     "output_type": "stream",
     "text": [
      "Using TensorFlow backend.\n"
     ]
    }
   ],
   "source": [
    "from src.partition import Partition\n",
    "from src.generators import PartitionClass\n",
    "import numpy as np\n",
    "import os\n",
    "\n",
    "import plotly as py\n",
    "import plotly.graph_objects as go\n",
    "import matplotlib.pyplot as plt\n",
    "\n",
    "\n",
    "from sklearn.model_selection import train_test_split\n",
    "from sklearn.preprocessing import LabelBinarizer\n",
    "\n",
    "from keras import backend as K\n",
    "from keras.models import Sequential, Model, load_model\n",
    "from keras.layers import (\n",
    "    Dense, Conv2D, Flatten, \n",
    "    ConvLSTM2D, BatchNormalization,\n",
    "    Conv3D, Input, MaxPooling2D, UpSampling2D, Lambda\n",
    ")\n",
    "from keras.utils import plot_model\n",
    "from keras.callbacks.callbacks import EarlyStopping, ReduceLROnPlateau\n",
    "import keras"
   ]
  },
  {
   "cell_type": "code",
   "execution_count": 2,
   "metadata": {},
   "outputs": [],
   "source": [
    "n = 20"
   ]
  },
  {
   "cell_type": "code",
   "execution_count": 3,
   "metadata": {},
   "outputs": [],
   "source": [
    "training_partitions = set(max(p, p.conjugate) for p in PartitionClass(n).partitions)\n",
    "training_matrices = [p.matrix for p in training_partitions]\n",
    "training_targets = [p.oblak.matrix for p in training_partitions]\n",
    "\n",
    "X = np.array(training_matrices).reshape(-1, n, n, 1)\n",
    "y = np.array(training_targets).reshape(-1, n, n, 1)\n",
    "X_train, X_test, y_train, y_test = train_test_split(X, y)"
   ]
  },
  {
   "cell_type": "markdown",
   "metadata": {},
   "source": [
    "# VAE"
   ]
  },
  {
   "cell_type": "code",
   "execution_count": 4,
   "metadata": {},
   "outputs": [],
   "source": [
    "def sampling(args):\n",
    "    \"\"\"Reparameterization trick by sampling from an isotropic unit Gaussian.\n",
    "\n",
    "    # Arguments\n",
    "        args (tensor): mean and log of variance of Q(z|X)\n",
    "\n",
    "    # Returns\n",
    "        z (tensor): sampled latent vector\n",
    "    \"\"\"\n",
    "\n",
    "    z_mean, z_log_var = args\n",
    "    batch = K.shape(z_mean)[0]\n",
    "    dim = K.int_shape(z_mean)[1]\n",
    "    # by default, random_normal has mean = 0 and std = 1.0\n",
    "    epsilon = K.random_normal(shape=(batch, dim))\n",
    "    return z_mean + K.exp(0.5 * z_log_var) * epsilon"
   ]
  },
  {
   "cell_type": "code",
   "execution_count": 11,
   "metadata": {},
   "outputs": [],
   "source": [
    "X_train = X_train.reshape((-1, n*n))\n",
    "y_train = y_train.reshape((-1, n*n))\n",
    "X_test = X_test.reshape((-1, n*n))\n",
    "y_test = y_test.reshape((-1, n*n))"
   ]
  },
  {
   "cell_type": "code",
   "execution_count": 12,
   "metadata": {
    "scrolled": false
   },
   "outputs": [
    {
     "name": "stdout",
     "output_type": "stream",
     "text": [
      "Model: \"encoder\"\n",
      "__________________________________________________________________________________________________\n",
      "Layer (type)                    Output Shape         Param #     Connected to                     \n",
      "==================================================================================================\n",
      "encoder_input (InputLayer)      (None, 400)          0                                            \n",
      "__________________________________________________________________________________________________\n",
      "dense_4 (Dense)                 (None, 512)          205312      encoder_input[0][0]              \n",
      "__________________________________________________________________________________________________\n",
      "z_mean (Dense)                  (None, 3)            1539        dense_4[0][0]                    \n",
      "__________________________________________________________________________________________________\n",
      "z_log_var (Dense)               (None, 3)            1539        dense_4[0][0]                    \n",
      "__________________________________________________________________________________________________\n",
      "z (Lambda)                      (None, 3)            0           z_mean[0][0]                     \n",
      "                                                                 z_log_var[0][0]                  \n",
      "==================================================================================================\n",
      "Total params: 208,390\n",
      "Trainable params: 208,390\n",
      "Non-trainable params: 0\n",
      "__________________________________________________________________________________________________\n",
      "Model: \"decoder\"\n",
      "_________________________________________________________________\n",
      "Layer (type)                 Output Shape              Param #   \n",
      "=================================================================\n",
      "z_sampling (InputLayer)      (None, 3)                 0         \n",
      "_________________________________________________________________\n",
      "dense_5 (Dense)              (None, 512)               2048      \n",
      "_________________________________________________________________\n",
      "dense_6 (Dense)              (None, 400)               205200    \n",
      "=================================================================\n",
      "Total params: 207,248\n",
      "Trainable params: 207,248\n",
      "Non-trainable params: 0\n",
      "_________________________________________________________________\n"
     ]
    }
   ],
   "source": [
    "image_size = n\n",
    "original_dim = n * n\n",
    "\n",
    "# network parameters\n",
    "input_shape = (original_dim, )\n",
    "intermediate_dim = 512\n",
    "batch_size = 100\n",
    "latent_dim = 3\n",
    "epochs = 1000\n",
    "\n",
    "# VAE model = encoder + decoder\n",
    "# build encoder model\n",
    "inputs = Input(shape=input_shape, name='encoder_input')\n",
    "x = Dense(intermediate_dim, activation='relu')(inputs)\n",
    "z_mean = Dense(latent_dim, name='z_mean')(x)\n",
    "z_log_var = Dense(latent_dim, name='z_log_var')(x)\n",
    "\n",
    "# use reparameterization trick to push the sampling out as input\n",
    "# note that \"output_shape\" isn't necessary with the TensorFlow backend\n",
    "z = Lambda(sampling, output_shape=(latent_dim,), name='z')([z_mean, z_log_var])\n",
    "\n",
    "# instantiate encoder model\n",
    "encoder = Model(inputs, [z_mean, z_log_var, z], name='encoder')\n",
    "encoder.summary()\n",
    "plot_model(encoder, to_file='vae_mlp_encoder.png', show_shapes=True)\n",
    "\n",
    "# build decoder model\n",
    "latent_inputs = Input(shape=(latent_dim,), name='z_sampling')\n",
    "x = Dense(intermediate_dim, activation='relu')(latent_inputs)\n",
    "outputs = Dense(original_dim, activation='sigmoid')(x)\n",
    "\n",
    "# instantiate decoder model\n",
    "decoder = Model(latent_inputs, outputs, name='decoder')\n",
    "decoder.summary()\n",
    "plot_model(decoder, to_file='vae_mlp_decoder.png', show_shapes=True)\n",
    "\n",
    "# instantiate VAE model\n",
    "outputs = decoder(encoder(inputs)[2])\n",
    "vae = Model(inputs, outputs, name='vae_mlp')"
   ]
  },
  {
   "cell_type": "code",
   "execution_count": 15,
   "metadata": {},
   "outputs": [
    {
     "name": "stdout",
     "output_type": "stream",
     "text": [
      "Model: \"vae_mlp\"\n",
      "_________________________________________________________________\n",
      "Layer (type)                 Output Shape              Param #   \n",
      "=================================================================\n",
      "encoder_input (InputLayer)   (None, 400)               0         \n",
      "_________________________________________________________________\n",
      "encoder (Model)              [(None, 3), (None, 3), (N 208390    \n",
      "_________________________________________________________________\n",
      "decoder (Model)              (None, 400)               207248    \n",
      "=================================================================\n",
      "Total params: 415,638\n",
      "Trainable params: 415,638\n",
      "Non-trainable params: 0\n",
      "_________________________________________________________________\n"
     ]
    }
   ],
   "source": [
    "models = (encoder, decoder)\n",
    "data = (X_test, y_test)\n",
    "\n",
    "def vae_loss(inputs, outputs):\n",
    "    xent_loss = original_dim * keras.losses.binary_crossentropy(inputs, outputs)\n",
    "    kl_loss = - 0.5 * K.sum(1 + z_log_var - K.square(z_mean) - K.exp(z_log_var), axis=-1)\n",
    "    vae_loss = K.mean(xent_loss + kl_loss)\n",
    "    return vae_loss\n",
    "\n",
    "vae.compile(optimizer='adam', loss = vae_loss)\n",
    "vae.summary()\n",
    "plot_model(vae,\n",
    "           to_file='vae_mlp.png',\n",
    "           show_shapes=True)\n",
    "\n",
    "lr = ReduceLROnPlateau(monitor='val_loss', factor=0.2, patience=5, min_lr=0.000001)\n",
    "es = EarlyStopping(monitor='val_loss', min_delta=.001, patience=100, verbose=0, mode='auto', baseline=None, restore_best_weights=False)\n",
    "cbs = [es, lr]"
   ]
  },
  {
   "cell_type": "code",
   "execution_count": 16,
   "metadata": {
    "scrolled": true
   },
   "outputs": [
    {
     "name": "stdout",
     "output_type": "stream",
     "text": [
      "Train on 237 samples, validate on 80 samples\n",
      "Epoch 1/1000\n",
      "237/237 [==============================] - 0s 2ms/step - loss: 163.0570 - val_loss: 55.7598\n",
      "Epoch 2/1000\n",
      "237/237 [==============================] - 0s 437us/step - loss: 41.6874 - val_loss: 30.7983\n",
      "Epoch 3/1000\n",
      "237/237 [==============================] - 0s 456us/step - loss: 27.3722 - val_loss: 24.5738\n",
      "Epoch 4/1000\n",
      "237/237 [==============================] - 0s 454us/step - loss: 23.9341 - val_loss: 22.2777\n",
      "Epoch 5/1000\n",
      "237/237 [==============================] - 0s 501us/step - loss: 21.5339 - val_loss: 21.0876\n",
      "Epoch 6/1000\n",
      "237/237 [==============================] - 0s 449us/step - loss: 20.2761 - val_loss: 20.1105\n",
      "Epoch 7/1000\n",
      "237/237 [==============================] - 0s 435us/step - loss: 19.4127 - val_loss: 18.3669\n",
      "Epoch 8/1000\n",
      "237/237 [==============================] - 0s 444us/step - loss: 17.4553 - val_loss: 16.9939\n",
      "Epoch 9/1000\n",
      "237/237 [==============================] - 0s 445us/step - loss: 16.0277 - val_loss: 16.1745\n",
      "Epoch 10/1000\n",
      "237/237 [==============================] - 0s 491us/step - loss: 15.3490 - val_loss: 14.9908\n",
      "Epoch 11/1000\n",
      "237/237 [==============================] - 0s 483us/step - loss: 14.5891 - val_loss: 14.4669\n",
      "Epoch 12/1000\n",
      "237/237 [==============================] - 0s 479us/step - loss: 14.3130 - val_loss: 14.0087\n",
      "Epoch 13/1000\n",
      "237/237 [==============================] - 0s 469us/step - loss: 13.5265 - val_loss: 13.3953\n",
      "Epoch 14/1000\n",
      "237/237 [==============================] - 0s 429us/step - loss: 13.0414 - val_loss: 13.0049\n",
      "Epoch 15/1000\n",
      "237/237 [==============================] - 0s 418us/step - loss: 12.3914 - val_loss: 12.7261\n",
      "Epoch 16/1000\n",
      "237/237 [==============================] - 0s 459us/step - loss: 12.0580 - val_loss: 12.2730\n",
      "Epoch 17/1000\n",
      "237/237 [==============================] - 0s 398us/step - loss: 11.5317 - val_loss: 11.7793\n",
      "Epoch 18/1000\n",
      "237/237 [==============================] - 0s 415us/step - loss: 11.4116 - val_loss: 12.0981\n",
      "Epoch 19/1000\n",
      "237/237 [==============================] - 0s 415us/step - loss: 11.1194 - val_loss: 11.8065\n",
      "Epoch 20/1000\n",
      "237/237 [==============================] - 0s 404us/step - loss: 10.8964 - val_loss: 11.8718\n",
      "Epoch 21/1000\n",
      "237/237 [==============================] - 0s 404us/step - loss: 10.8977 - val_loss: 11.6653\n",
      "Epoch 22/1000\n",
      "237/237 [==============================] - 0s 406us/step - loss: 10.5684 - val_loss: 11.2668\n",
      "Epoch 23/1000\n",
      "237/237 [==============================] - 0s 514us/step - loss: 10.5685 - val_loss: 11.1562\n",
      "Epoch 24/1000\n",
      "237/237 [==============================] - 0s 475us/step - loss: 10.5584 - val_loss: 11.2024\n",
      "Epoch 25/1000\n",
      "237/237 [==============================] - 0s 448us/step - loss: 10.1286 - val_loss: 11.2314\n",
      "Epoch 26/1000\n",
      "237/237 [==============================] - 0s 429us/step - loss: 10.2570 - val_loss: 11.0662\n",
      "Epoch 27/1000\n",
      "237/237 [==============================] - 0s 426us/step - loss: 10.1789 - val_loss: 11.1295\n",
      "Epoch 28/1000\n",
      "237/237 [==============================] - 0s 484us/step - loss: 10.0335 - val_loss: 10.8353\n",
      "Epoch 29/1000\n",
      "237/237 [==============================] - 0s 646us/step - loss: 9.9922 - val_loss: 10.9731\n",
      "Epoch 30/1000\n",
      "237/237 [==============================] - 0s 570us/step - loss: 10.0393 - val_loss: 10.9123\n",
      "Epoch 31/1000\n",
      "237/237 [==============================] - 0s 446us/step - loss: 9.8708 - val_loss: 10.5215\n",
      "Epoch 32/1000\n",
      "237/237 [==============================] - 0s 418us/step - loss: 9.8901 - val_loss: 10.9847\n",
      "Epoch 33/1000\n",
      "237/237 [==============================] - 0s 705us/step - loss: 10.0401 - val_loss: 10.6006\n",
      "Epoch 34/1000\n",
      "237/237 [==============================] - 0s 572us/step - loss: 9.8307 - val_loss: 10.7153\n",
      "Epoch 35/1000\n",
      "237/237 [==============================] - 0s 481us/step - loss: 9.6092 - val_loss: 10.6383\n",
      "Epoch 36/1000\n",
      "237/237 [==============================] - 0s 463us/step - loss: 9.7164 - val_loss: 10.2632\n",
      "Epoch 37/1000\n",
      "237/237 [==============================] - 0s 429us/step - loss: 9.5036 - val_loss: 10.6901\n",
      "Epoch 38/1000\n",
      "237/237 [==============================] - 0s 441us/step - loss: 9.6210 - val_loss: 10.4638\n",
      "Epoch 39/1000\n",
      "237/237 [==============================] - 0s 498us/step - loss: 9.5752 - val_loss: 10.5781\n",
      "Epoch 40/1000\n",
      "237/237 [==============================] - 0s 598us/step - loss: 9.5597 - val_loss: 10.3616\n",
      "Epoch 41/1000\n",
      "237/237 [==============================] - 0s 448us/step - loss: 9.4429 - val_loss: 10.4898\n",
      "Epoch 42/1000\n",
      "237/237 [==============================] - 0s 408us/step - loss: 9.4966 - val_loss: 10.5046\n",
      "Epoch 43/1000\n",
      "237/237 [==============================] - 0s 442us/step - loss: 9.3062 - val_loss: 10.1757\n",
      "Epoch 44/1000\n",
      "237/237 [==============================] - 0s 435us/step - loss: 9.2010 - val_loss: 10.1051\n",
      "Epoch 45/1000\n",
      "237/237 [==============================] - 0s 437us/step - loss: 9.3557 - val_loss: 10.2429\n",
      "Epoch 46/1000\n",
      "237/237 [==============================] - 0s 428us/step - loss: 9.3848 - val_loss: 10.5468\n",
      "Epoch 47/1000\n",
      "237/237 [==============================] - 0s 467us/step - loss: 9.3213 - val_loss: 10.3584\n",
      "Epoch 48/1000\n",
      "237/237 [==============================] - 0s 442us/step - loss: 9.1834 - val_loss: 10.1495\n",
      "Epoch 49/1000\n",
      "237/237 [==============================] - 0s 428us/step - loss: 9.3310 - val_loss: 10.4585\n",
      "Epoch 50/1000\n",
      "237/237 [==============================] - 0s 406us/step - loss: 9.1932 - val_loss: 10.2734\n",
      "Epoch 51/1000\n",
      "237/237 [==============================] - 0s 478us/step - loss: 9.0991 - val_loss: 10.4777\n",
      "Epoch 52/1000\n",
      "237/237 [==============================] - 0s 490us/step - loss: 9.3070 - val_loss: 10.3610\n",
      "Epoch 53/1000\n",
      "237/237 [==============================] - 0s 434us/step - loss: 9.2129 - val_loss: 10.5131\n",
      "Epoch 54/1000\n",
      "237/237 [==============================] - 0s 410us/step - loss: 9.0897 - val_loss: 10.0649\n",
      "Epoch 55/1000\n",
      "237/237 [==============================] - 0s 400us/step - loss: 9.2871 - val_loss: 10.4490\n",
      "Epoch 56/1000\n",
      "237/237 [==============================] - 0s 409us/step - loss: 9.2217 - val_loss: 10.4454\n",
      "Epoch 57/1000\n",
      "237/237 [==============================] - 0s 416us/step - loss: 9.2739 - val_loss: 10.1908\n",
      "Epoch 58/1000\n",
      "237/237 [==============================] - 0s 431us/step - loss: 9.3524 - val_loss: 10.2388\n",
      "Epoch 59/1000\n",
      "237/237 [==============================] - 0s 444us/step - loss: 9.3263 - val_loss: 10.2759\n",
      "Epoch 60/1000\n",
      "237/237 [==============================] - 0s 408us/step - loss: 9.1852 - val_loss: 10.2319\n",
      "Epoch 61/1000\n",
      "237/237 [==============================] - 0s 413us/step - loss: 9.1312 - val_loss: 10.2079\n",
      "Epoch 62/1000\n",
      "237/237 [==============================] - 0s 413us/step - loss: 9.2501 - val_loss: 10.3630\n",
      "Epoch 63/1000\n",
      "237/237 [==============================] - 0s 409us/step - loss: 9.2420 - val_loss: 10.3177\n",
      "Epoch 64/1000\n",
      "237/237 [==============================] - 0s 412us/step - loss: 9.1582 - val_loss: 10.3372\n",
      "Epoch 65/1000\n",
      "237/237 [==============================] - 0s 394us/step - loss: 9.2769 - val_loss: 10.2610\n",
      "Epoch 66/1000\n",
      "237/237 [==============================] - 0s 404us/step - loss: 9.1938 - val_loss: 10.1876\n",
      "Epoch 67/1000\n",
      "237/237 [==============================] - 0s 407us/step - loss: 9.2916 - val_loss: 10.3313\n",
      "Epoch 68/1000\n",
      "237/237 [==============================] - 0s 411us/step - loss: 9.1534 - val_loss: 10.1395\n",
      "Epoch 69/1000\n",
      "237/237 [==============================] - 0s 415us/step - loss: 9.3091 - val_loss: 10.2626\n",
      "Epoch 70/1000\n",
      "237/237 [==============================] - 0s 410us/step - loss: 9.3154 - val_loss: 10.6556\n",
      "Epoch 71/1000\n",
      "237/237 [==============================] - 0s 411us/step - loss: 9.2361 - val_loss: 10.4032\n",
      "Epoch 72/1000\n",
      "237/237 [==============================] - 0s 416us/step - loss: 9.1962 - val_loss: 10.2709\n",
      "Epoch 73/1000\n",
      "237/237 [==============================] - 0s 419us/step - loss: 9.3084 - val_loss: 10.1868\n",
      "Epoch 74/1000\n",
      "237/237 [==============================] - 0s 456us/step - loss: 9.1699 - val_loss: 10.2766\n",
      "Epoch 75/1000\n",
      "237/237 [==============================] - 0s 439us/step - loss: 9.0761 - val_loss: 10.2306\n",
      "Epoch 76/1000\n",
      "237/237 [==============================] - 0s 421us/step - loss: 9.3024 - val_loss: 10.1423\n",
      "Epoch 77/1000\n",
      "237/237 [==============================] - 0s 406us/step - loss: 9.2658 - val_loss: 10.1528\n",
      "Epoch 78/1000\n",
      "237/237 [==============================] - 0s 400us/step - loss: 9.2110 - val_loss: 10.3362\n",
      "Epoch 79/1000\n",
      "237/237 [==============================] - 0s 398us/step - loss: 9.3564 - val_loss: 10.2946\n",
      "Epoch 80/1000\n",
      "237/237 [==============================] - 0s 426us/step - loss: 9.1935 - val_loss: 10.0039\n",
      "Epoch 81/1000\n",
      "237/237 [==============================] - 0s 420us/step - loss: 9.1845 - val_loss: 10.0529\n",
      "Epoch 82/1000\n",
      "237/237 [==============================] - 0s 414us/step - loss: 9.2109 - val_loss: 10.4424\n",
      "Epoch 83/1000\n",
      "237/237 [==============================] - 0s 417us/step - loss: 9.0198 - val_loss: 10.1710\n",
      "Epoch 84/1000\n",
      "237/237 [==============================] - 0s 419us/step - loss: 9.1857 - val_loss: 10.4878\n",
      "Epoch 85/1000\n",
      "237/237 [==============================] - 0s 417us/step - loss: 9.2280 - val_loss: 10.3813\n",
      "Epoch 86/1000\n",
      "237/237 [==============================] - 0s 544us/step - loss: 9.1837 - val_loss: 10.2904\n",
      "Epoch 87/1000\n",
      "237/237 [==============================] - 0s 555us/step - loss: 9.0804 - val_loss: 10.1063\n",
      "Epoch 88/1000\n",
      "237/237 [==============================] - 0s 464us/step - loss: 9.2451 - val_loss: 10.2702\n",
      "Epoch 89/1000\n",
      "237/237 [==============================] - 0s 448us/step - loss: 9.1503 - val_loss: 10.3323\n",
      "Epoch 90/1000\n",
      "237/237 [==============================] - 0s 418us/step - loss: 9.2848 - val_loss: 10.2691\n",
      "Epoch 91/1000\n",
      "237/237 [==============================] - 0s 395us/step - loss: 9.0806 - val_loss: 10.2092\n",
      "Epoch 92/1000\n",
      "237/237 [==============================] - 0s 416us/step - loss: 9.0895 - val_loss: 10.2264\n",
      "Epoch 93/1000\n",
      "237/237 [==============================] - 0s 430us/step - loss: 9.2078 - val_loss: 10.2404\n",
      "Epoch 94/1000\n",
      "237/237 [==============================] - 0s 459us/step - loss: 9.2325 - val_loss: 10.2104\n",
      "Epoch 95/1000\n",
      "237/237 [==============================] - 0s 428us/step - loss: 9.2265 - val_loss: 10.2390\n",
      "Epoch 96/1000\n",
      "237/237 [==============================] - 0s 397us/step - loss: 9.3469 - val_loss: 10.0243\n",
      "Epoch 97/1000\n",
      "237/237 [==============================] - 0s 403us/step - loss: 9.0614 - val_loss: 10.1476\n",
      "Epoch 98/1000\n",
      "237/237 [==============================] - 0s 412us/step - loss: 9.0088 - val_loss: 10.4952\n",
      "Epoch 99/1000\n",
      "237/237 [==============================] - 0s 407us/step - loss: 9.2361 - val_loss: 10.1037\n",
      "Epoch 100/1000\n",
      "237/237 [==============================] - 0s 403us/step - loss: 9.2029 - val_loss: 10.2716\n",
      "Epoch 101/1000\n",
      "237/237 [==============================] - 0s 412us/step - loss: 9.1649 - val_loss: 10.4789\n",
      "Epoch 102/1000\n",
      "237/237 [==============================] - 0s 438us/step - loss: 8.9788 - val_loss: 10.5580\n",
      "Epoch 103/1000\n",
      "237/237 [==============================] - 0s 449us/step - loss: 9.1391 - val_loss: 10.1163\n",
      "Epoch 104/1000\n",
      "237/237 [==============================] - 0s 427us/step - loss: 9.1178 - val_loss: 10.2465\n",
      "Epoch 105/1000\n",
      "237/237 [==============================] - 0s 405us/step - loss: 9.2107 - val_loss: 10.2337\n",
      "Epoch 106/1000\n",
      "237/237 [==============================] - 0s 411us/step - loss: 9.2545 - val_loss: 10.2059\n",
      "Epoch 107/1000\n",
      "237/237 [==============================] - 0s 400us/step - loss: 9.2536 - val_loss: 9.7972\n",
      "Epoch 108/1000\n",
      "237/237 [==============================] - 0s 404us/step - loss: 9.1801 - val_loss: 10.1308\n",
      "Epoch 109/1000\n",
      "237/237 [==============================] - 0s 402us/step - loss: 8.9630 - val_loss: 9.9518\n",
      "Epoch 110/1000\n",
      "237/237 [==============================] - 0s 400us/step - loss: 9.1511 - val_loss: 10.1550\n",
      "Epoch 111/1000\n",
      "237/237 [==============================] - 0s 395us/step - loss: 9.2033 - val_loss: 10.1112\n",
      "Epoch 112/1000\n",
      "237/237 [==============================] - 0s 405us/step - loss: 9.1561 - val_loss: 10.2053\n",
      "Epoch 113/1000\n",
      "237/237 [==============================] - 0s 408us/step - loss: 9.2608 - val_loss: 10.6742\n",
      "Epoch 114/1000\n",
      "237/237 [==============================] - 0s 432us/step - loss: 9.1586 - val_loss: 9.9626\n",
      "Epoch 115/1000\n",
      "237/237 [==============================] - 0s 447us/step - loss: 9.3359 - val_loss: 10.1879\n",
      "Epoch 116/1000\n",
      "237/237 [==============================] - 0s 423us/step - loss: 9.1893 - val_loss: 10.2013\n",
      "Epoch 117/1000\n",
      "237/237 [==============================] - 0s 459us/step - loss: 9.0558 - val_loss: 10.1514\n",
      "Epoch 118/1000\n",
      "237/237 [==============================] - 0s 458us/step - loss: 9.2108 - val_loss: 10.1289\n",
      "Epoch 119/1000\n",
      "237/237 [==============================] - 0s 487us/step - loss: 9.1909 - val_loss: 10.1880\n",
      "Epoch 120/1000\n",
      "237/237 [==============================] - 0s 485us/step - loss: 9.1726 - val_loss: 10.2969\n",
      "Epoch 121/1000\n",
      "237/237 [==============================] - 0s 473us/step - loss: 9.2990 - val_loss: 10.3941\n",
      "Epoch 122/1000\n",
      "237/237 [==============================] - 0s 507us/step - loss: 9.1507 - val_loss: 10.0683\n",
      "Epoch 123/1000\n",
      "237/237 [==============================] - 0s 498us/step - loss: 9.1534 - val_loss: 10.1211\n",
      "Epoch 124/1000\n",
      "237/237 [==============================] - 0s 480us/step - loss: 9.4886 - val_loss: 9.9921\n",
      "Epoch 125/1000\n",
      "237/237 [==============================] - 0s 478us/step - loss: 9.1861 - val_loss: 10.2592\n",
      "Epoch 126/1000\n",
      "237/237 [==============================] - 0s 416us/step - loss: 9.0710 - val_loss: 10.5396\n",
      "Epoch 127/1000\n",
      "237/237 [==============================] - 0s 394us/step - loss: 9.2347 - val_loss: 10.5854\n",
      "Epoch 128/1000\n",
      "237/237 [==============================] - 0s 402us/step - loss: 9.2711 - val_loss: 10.1181\n",
      "Epoch 129/1000\n",
      "237/237 [==============================] - 0s 405us/step - loss: 9.2094 - val_loss: 10.1145\n",
      "Epoch 130/1000\n",
      "237/237 [==============================] - 0s 424us/step - loss: 9.0675 - val_loss: 10.6454\n",
      "Epoch 131/1000\n",
      "237/237 [==============================] - 0s 464us/step - loss: 9.4400 - val_loss: 10.5239\n",
      "Epoch 132/1000\n",
      "237/237 [==============================] - 0s 447us/step - loss: 9.2933 - val_loss: 10.5662\n",
      "Epoch 133/1000\n",
      "237/237 [==============================] - 0s 468us/step - loss: 9.3370 - val_loss: 10.0963\n",
      "Epoch 134/1000\n",
      "237/237 [==============================] - 0s 475us/step - loss: 9.1624 - val_loss: 9.9653\n",
      "Epoch 135/1000\n",
      "237/237 [==============================] - 0s 479us/step - loss: 9.1648 - val_loss: 10.4194\n",
      "Epoch 136/1000\n",
      "237/237 [==============================] - 0s 473us/step - loss: 9.2091 - val_loss: 10.2989\n",
      "Epoch 137/1000\n",
      "237/237 [==============================] - 0s 423us/step - loss: 9.3253 - val_loss: 10.2974\n",
      "Epoch 138/1000\n",
      "237/237 [==============================] - 0s 418us/step - loss: 9.2121 - val_loss: 10.2359\n",
      "Epoch 139/1000\n",
      "237/237 [==============================] - 0s 440us/step - loss: 9.2716 - val_loss: 10.1234\n",
      "Epoch 140/1000\n",
      "237/237 [==============================] - 0s 452us/step - loss: 9.1998 - val_loss: 10.4077\n",
      "Epoch 141/1000\n",
      "237/237 [==============================] - 0s 401us/step - loss: 9.0453 - val_loss: 10.5276\n",
      "Epoch 142/1000\n",
      "237/237 [==============================] - 0s 397us/step - loss: 9.1118 - val_loss: 10.0237\n",
      "Epoch 143/1000\n",
      "237/237 [==============================] - 0s 399us/step - loss: 9.3230 - val_loss: 9.8363\n",
      "Epoch 144/1000\n",
      "237/237 [==============================] - 0s 409us/step - loss: 9.1638 - val_loss: 10.3613\n",
      "Epoch 145/1000\n",
      "237/237 [==============================] - 0s 425us/step - loss: 9.3155 - val_loss: 10.3354\n",
      "Epoch 146/1000\n",
      "237/237 [==============================] - 0s 433us/step - loss: 9.0601 - val_loss: 10.1952\n",
      "Epoch 147/1000\n",
      "237/237 [==============================] - 0s 421us/step - loss: 9.1329 - val_loss: 10.1853\n",
      "Epoch 148/1000\n",
      "237/237 [==============================] - 0s 401us/step - loss: 8.9931 - val_loss: 10.1206\n",
      "Epoch 149/1000\n",
      "237/237 [==============================] - 0s 402us/step - loss: 9.0652 - val_loss: 9.9100\n",
      "Epoch 150/1000\n",
      "237/237 [==============================] - 0s 420us/step - loss: 9.3050 - val_loss: 9.9531\n",
      "Epoch 151/1000\n",
      "237/237 [==============================] - 0s 414us/step - loss: 9.3076 - val_loss: 10.0731\n",
      "Epoch 152/1000\n",
      "237/237 [==============================] - 0s 429us/step - loss: 9.1495 - val_loss: 10.0113\n",
      "Epoch 153/1000\n",
      "237/237 [==============================] - 0s 480us/step - loss: 9.1601 - val_loss: 9.9747\n"
     ]
    },
    {
     "name": "stdout",
     "output_type": "stream",
     "text": [
      "Epoch 154/1000\n",
      "237/237 [==============================] - 0s 488us/step - loss: 9.0113 - val_loss: 10.1294\n",
      "Epoch 155/1000\n",
      "237/237 [==============================] - 0s 487us/step - loss: 9.1025 - val_loss: 10.0167\n",
      "Epoch 156/1000\n",
      "237/237 [==============================] - 0s 474us/step - loss: 9.0833 - val_loss: 10.4661\n",
      "Epoch 157/1000\n",
      "237/237 [==============================] - 0s 520us/step - loss: 9.0506 - val_loss: 10.0028\n",
      "Epoch 158/1000\n",
      "237/237 [==============================] - 0s 510us/step - loss: 9.1603 - val_loss: 10.2989\n",
      "Epoch 159/1000\n",
      "237/237 [==============================] - 0s 470us/step - loss: 9.2142 - val_loss: 10.0132\n",
      "Epoch 160/1000\n",
      "237/237 [==============================] - 0s 462us/step - loss: 9.0379 - val_loss: 10.1144\n",
      "Epoch 161/1000\n",
      "237/237 [==============================] - 0s 427us/step - loss: 9.1000 - val_loss: 10.5500\n",
      "Epoch 162/1000\n",
      "237/237 [==============================] - 0s 422us/step - loss: 9.2155 - val_loss: 10.0601\n",
      "Epoch 163/1000\n",
      "237/237 [==============================] - 0s 401us/step - loss: 9.0979 - val_loss: 10.1744\n",
      "Epoch 164/1000\n",
      "237/237 [==============================] - 0s 405us/step - loss: 9.2080 - val_loss: 9.9624\n",
      "Epoch 165/1000\n",
      "237/237 [==============================] - 0s 428us/step - loss: 9.0213 - val_loss: 10.5814\n",
      "Epoch 166/1000\n",
      "237/237 [==============================] - 0s 428us/step - loss: 9.1882 - val_loss: 10.3455\n",
      "Epoch 167/1000\n",
      "237/237 [==============================] - 0s 484us/step - loss: 9.3341 - val_loss: 10.4287\n",
      "Epoch 168/1000\n",
      "237/237 [==============================] - 0s 406us/step - loss: 9.1275 - val_loss: 10.1989\n",
      "Epoch 169/1000\n",
      "237/237 [==============================] - 0s 414us/step - loss: 9.2736 - val_loss: 10.0530\n",
      "Epoch 170/1000\n",
      "237/237 [==============================] - 0s 421us/step - loss: 9.2532 - val_loss: 9.9904\n",
      "Epoch 171/1000\n",
      "237/237 [==============================] - 0s 405us/step - loss: 9.0626 - val_loss: 10.1881\n",
      "Epoch 172/1000\n",
      "237/237 [==============================] - 0s 450us/step - loss: 9.2048 - val_loss: 10.3270\n",
      "Epoch 173/1000\n",
      "237/237 [==============================] - 0s 526us/step - loss: 9.2814 - val_loss: 10.2754\n",
      "Epoch 174/1000\n",
      "237/237 [==============================] - 0s 510us/step - loss: 9.2438 - val_loss: 10.2041\n",
      "Epoch 175/1000\n",
      "237/237 [==============================] - 0s 508us/step - loss: 9.2250 - val_loss: 10.2292\n",
      "Epoch 176/1000\n",
      "237/237 [==============================] - 0s 474us/step - loss: 9.1781 - val_loss: 10.2031\n",
      "Epoch 177/1000\n",
      "237/237 [==============================] - 0s 489us/step - loss: 9.1905 - val_loss: 9.9721\n",
      "Epoch 178/1000\n",
      "237/237 [==============================] - 0s 451us/step - loss: 9.1947 - val_loss: 9.9232\n",
      "Epoch 179/1000\n",
      "237/237 [==============================] - 0s 489us/step - loss: 9.2035 - val_loss: 10.0793\n",
      "Epoch 180/1000\n",
      "237/237 [==============================] - 0s 557us/step - loss: 9.0975 - val_loss: 10.1993\n",
      "Epoch 181/1000\n",
      "237/237 [==============================] - 0s 462us/step - loss: 9.1558 - val_loss: 10.3140\n",
      "Epoch 182/1000\n",
      "237/237 [==============================] - 0s 397us/step - loss: 9.3076 - val_loss: 9.8237\n",
      "Epoch 183/1000\n",
      "237/237 [==============================] - 0s 383us/step - loss: 9.1983 - val_loss: 10.2764\n",
      "Epoch 184/1000\n",
      "237/237 [==============================] - 0s 444us/step - loss: 9.3350 - val_loss: 9.9853\n",
      "Epoch 185/1000\n",
      "237/237 [==============================] - 0s 492us/step - loss: 9.2264 - val_loss: 10.5896\n",
      "Epoch 186/1000\n",
      "237/237 [==============================] - 0s 420us/step - loss: 9.2249 - val_loss: 10.3460\n",
      "Epoch 187/1000\n",
      "237/237 [==============================] - 0s 415us/step - loss: 9.2252 - val_loss: 9.9031\n",
      "Epoch 188/1000\n",
      "237/237 [==============================] - 0s 420us/step - loss: 9.1692 - val_loss: 10.0598\n",
      "Epoch 189/1000\n",
      "237/237 [==============================] - 0s 409us/step - loss: 9.2026 - val_loss: 10.2230\n",
      "Epoch 190/1000\n",
      "237/237 [==============================] - 0s 408us/step - loss: 9.3748 - val_loss: 10.1930\n",
      "Epoch 191/1000\n",
      "237/237 [==============================] - 0s 369us/step - loss: 9.1953 - val_loss: 10.2865\n",
      "Epoch 192/1000\n",
      "237/237 [==============================] - 0s 416us/step - loss: 8.9697 - val_loss: 9.9957\n",
      "Epoch 193/1000\n",
      "237/237 [==============================] - 0s 439us/step - loss: 9.3213 - val_loss: 10.4799\n",
      "Epoch 194/1000\n",
      "237/237 [==============================] - 0s 430us/step - loss: 9.0958 - val_loss: 10.0666\n",
      "Epoch 195/1000\n",
      "237/237 [==============================] - 0s 418us/step - loss: 9.2732 - val_loss: 10.3266\n",
      "Epoch 196/1000\n",
      "237/237 [==============================] - 0s 407us/step - loss: 9.3466 - val_loss: 10.3150\n",
      "Epoch 197/1000\n",
      "237/237 [==============================] - 0s 414us/step - loss: 9.2434 - val_loss: 10.4443\n",
      "Epoch 198/1000\n",
      "237/237 [==============================] - 0s 424us/step - loss: 9.1218 - val_loss: 9.9957\n",
      "Epoch 199/1000\n",
      "237/237 [==============================] - 0s 417us/step - loss: 9.2614 - val_loss: 10.3362\n",
      "Epoch 200/1000\n",
      "237/237 [==============================] - 0s 419us/step - loss: 9.1306 - val_loss: 9.8858\n",
      "Epoch 201/1000\n",
      "237/237 [==============================] - 0s 426us/step - loss: 9.1868 - val_loss: 10.4236\n",
      "Epoch 202/1000\n",
      "237/237 [==============================] - 0s 412us/step - loss: 9.1875 - val_loss: 10.5047\n",
      "Epoch 203/1000\n",
      "237/237 [==============================] - 0s 412us/step - loss: 9.2807 - val_loss: 10.3101\n",
      "Epoch 204/1000\n",
      "237/237 [==============================] - 0s 430us/step - loss: 9.2243 - val_loss: 10.1509\n",
      "Epoch 205/1000\n",
      "237/237 [==============================] - 0s 470us/step - loss: 9.1251 - val_loss: 10.0614\n",
      "Epoch 206/1000\n",
      "237/237 [==============================] - 0s 426us/step - loss: 9.3257 - val_loss: 10.2441\n",
      "Epoch 207/1000\n",
      "237/237 [==============================] - 0s 407us/step - loss: 9.2475 - val_loss: 9.9849\n"
     ]
    }
   ],
   "source": [
    "vae.fit(X_train,\n",
    "        X_train,\n",
    "        epochs=epochs,\n",
    "        batch_size=10,#batch_size,\n",
    "        validation_data=(X_test, X_test),\n",
    "        callbacks = cbs,\n",
    "        workers = 4\n",
    "        )\n",
    "\n",
    "vae.save(f'serialization/models/vae_{n}.h5')"
   ]
  },
  {
   "cell_type": "code",
   "execution_count": 17,
   "metadata": {},
   "outputs": [],
   "source": [
    "partitions = []\n",
    "for ptn_matrix in np.concatenate([X_train, X_test]).reshape(-1, n, n):\n",
    "    parts = []\n",
    "    for row in ptn_matrix:\n",
    "        row_sum = sum(row)\n",
    "        if not row_sum:\n",
    "            break\n",
    "        parts.append(int(row_sum))\n",
    "        \n",
    "    partitions.append(Partition(parts))\n",
    "    \n",
    "\n",
    "colorings = [int(p.is_stable) for p in partitions]"
   ]
  },
  {
   "cell_type": "code",
   "execution_count": 37,
   "metadata": {
    "scrolled": false
   },
   "outputs": [
    {
     "data": {
      "application/vnd.plotly.v1+json": {
       "config": {
        "plotlyServerURL": "https://plot.ly"
       },
       "data": [
        {
         "marker": {
          "color": [
           0,
           0,
           0,
           0,
           0,
           0,
           0,
           1,
           0,
           1,
           0,
           0,
           0,
           0,
           0,
           0,
           0,
           0,
           1,
           0,
           0,
           0,
           0,
           0,
           0,
           0,
           0,
           0,
           0,
           0,
           0,
           1,
           0,
           0,
           0,
           0,
           0,
           0,
           0,
           0,
           0,
           0,
           0,
           0,
           0,
           0,
           0,
           0,
           0,
           0,
           0,
           0,
           0,
           0,
           0,
           0,
           0,
           0,
           1,
           0,
           0,
           1,
           1,
           0,
           0,
           0,
           1,
           0,
           1,
           0,
           0,
           0,
           0,
           0,
           0,
           0,
           0,
           0,
           0,
           0,
           0,
           0,
           0,
           0,
           0,
           0,
           0,
           0,
           0,
           0,
           0,
           0,
           0,
           0,
           1,
           1,
           0,
           0,
           0,
           1,
           0,
           0,
           0,
           0,
           0,
           0,
           0,
           0,
           0,
           0,
           0,
           0,
           0,
           0,
           0,
           0,
           0,
           0,
           0,
           0,
           0,
           0,
           0,
           0,
           0,
           0,
           0,
           0,
           0,
           0,
           1,
           0,
           0,
           0,
           0,
           1,
           1,
           0,
           0,
           0,
           0,
           0,
           0,
           0,
           0,
           0,
           0,
           0,
           0,
           0,
           0,
           0,
           0,
           0,
           0,
           0,
           0,
           0,
           0,
           0,
           0,
           1,
           0,
           0,
           0,
           0,
           0,
           0,
           0,
           1,
           0,
           0,
           0,
           0,
           0,
           0,
           0,
           1,
           0,
           0,
           0,
           0,
           0,
           0,
           0,
           0,
           0,
           0,
           0,
           0,
           0,
           0,
           0,
           0,
           0,
           0,
           0,
           0,
           0,
           0,
           0,
           0,
           0,
           0,
           0,
           0,
           0,
           0,
           0,
           0,
           0,
           0,
           0,
           0,
           1,
           0,
           0,
           0,
           0,
           1,
           0,
           1,
           0,
           1,
           1,
           0,
           1,
           0,
           0,
           0,
           0,
           0,
           0,
           0,
           0,
           0,
           0,
           0,
           0,
           0,
           0,
           0,
           0,
           0,
           0,
           0,
           0,
           1,
           0,
           1,
           0,
           0,
           0,
           0,
           0,
           0,
           0,
           0,
           0,
           0,
           1,
           0,
           0,
           0,
           0,
           1,
           0,
           0,
           0,
           0,
           0,
           1,
           0,
           0,
           0,
           0,
           0,
           0,
           0,
           0,
           0,
           0,
           0,
           0,
           0,
           0,
           0,
           0,
           0,
           0,
           0,
           0,
           0,
           0,
           0,
           0,
           0,
           0,
           0,
           0,
           0,
           0,
           0,
           1,
           1,
           0,
           0,
           0,
           0,
           0,
           0,
           0,
           0,
           0,
           0,
           0,
           0
          ],
          "colorscale": [
           [
            0,
            "#440154"
           ],
           [
            0.1111111111111111,
            "#482878"
           ],
           [
            0.2222222222222222,
            "#3e4989"
           ],
           [
            0.3333333333333333,
            "#31688e"
           ],
           [
            0.4444444444444444,
            "#26828e"
           ],
           [
            0.5555555555555556,
            "#1f9e89"
           ],
           [
            0.6666666666666666,
            "#35b779"
           ],
           [
            0.7777777777777778,
            "#6ece58"
           ],
           [
            0.8888888888888888,
            "#b5de2b"
           ],
           [
            1,
            "#fde725"
           ]
          ],
          "size": 10
         },
         "mode": "markers",
         "name": "z",
         "text": [
          "(10, 2, 2, 2, 2, 2)",
          "(10, 5, 4, 1)",
          "(8, 7, 3, 2)",
          "(8, 5, 4, 1, 1, 1)",
          "(9, 4, 3, 2, 1, 1)",
          "(13, 4, 3)",
          "(7, 5, 3, 3, 2)",
          "(11, 5, 3, 1)",
          "(8, 4, 3, 3, 1, 1)",
          "(10, 6, 4)",
          "(8, 6, 6)",
          "(9, 3, 2, 2, 2, 1, 1)",
          "(7, 6, 2, 2, 2, 1)",
          "(11, 2, 2, 2, 2, 1)",
          "(10, 2, 2, 2, 1, 1, 1, 1)",
          "(9, 5, 2, 2, 2)",
          "(13, 4, 2, 1)",
          "(7, 7, 4, 2)",
          "(11, 9)",
          "(7, 6, 2, 2, 1, 1, 1)",
          "(11, 4, 1, 1, 1, 1, 1)",
          "(14, 3, 3)",
          "(9, 3, 3, 2, 2, 1)",
          "(8, 5, 3, 2, 1, 1)",
          "(9, 4, 2, 2, 2, 1)",
          "(16, 2, 1, 1)",
          "(10, 2, 1, 1, 1, 1, 1, 1, 1, 1)",
          "(9, 4, 3, 3, 1)",
          "(8, 3, 3, 2, 2, 1, 1)",
          "(11, 4, 2, 1, 1, 1)",
          "(7, 6, 4, 2, 1)",
          "(13, 6, 1)",
          "(13, 2, 1, 1, 1, 1, 1)",
          "(12, 1, 1, 1, 1, 1, 1, 1, 1)",
          "(10, 9, 1)",
          "(12, 4, 2, 2)",
          "(11, 3, 2, 2, 1, 1)",
          "(6, 6, 3, 3, 1, 1)",
          "(10, 4, 4, 2)",
          "(8, 8, 4)",
          "(8, 7, 2, 2, 1)",
          "(8, 4, 4, 1, 1, 1, 1)",
          "(8, 6, 4, 1, 1)",
          "(9, 7, 1, 1, 1, 1)",
          "(12, 3, 2, 1, 1, 1)",
          "(9, 5, 2, 1, 1, 1, 1)",
          "(10, 3, 1, 1, 1, 1, 1, 1, 1)",
          "(11, 5, 1, 1, 1, 1)",
          "(9, 5, 4, 2)",
          "(13, 3, 2, 1, 1)",
          "(9, 8, 1, 1, 1)",
          "(15, 3, 2)",
          "(8, 6, 3, 2, 1)",
          "(18, 1, 1)",
          "(9, 4, 2, 1, 1, 1, 1, 1)",
          "(10, 2, 2, 2, 2, 1, 1)",
          "(8, 7, 5)",
          "(6, 4, 4, 3, 3)",
          "(14, 5, 1)",
          "(15, 1, 1, 1, 1, 1)",
          "(7, 4, 4, 2, 2, 1)",
          "(11, 8, 1)",
          "(10, 6, 3, 1)",
          "(10, 4, 3, 2, 1)",
          "(7, 7, 3, 2, 1)",
          "(8, 8, 2, 1, 1)",
          "(15, 5)",
          "(6, 4, 4, 4, 2)",
          "(10, 7, 3)",
          "(8, 4, 2, 2, 1, 1, 1, 1)",
          "(11, 2, 1, 1, 1, 1, 1, 1, 1)",
          "(11, 6, 1, 1, 1)",
          "(9, 5, 5, 1)",
          "(15, 3, 1, 1)",
          "(10, 3, 2, 2, 1, 1, 1)",
          "(6, 5, 4, 2, 2, 1)",
          "(8, 5, 3, 2, 2)",
          "(9, 6, 3, 1, 1)",
          "(7, 4, 4, 2, 1, 1, 1)",
          "(8, 3, 3, 3, 3)",
          "(11, 2, 2, 1, 1, 1, 1, 1)",
          "(6, 5, 4, 3, 1, 1)",
          "(12, 2, 1, 1, 1, 1, 1, 1)",
          "(10, 4, 4, 1, 1)",
          "(8, 6, 2, 2, 2)",
          "(9, 5, 1, 1, 1, 1, 1, 1)",
          "(7, 7, 2, 2, 1, 1)",
          "(5, 5, 5, 5)",
          "(9, 3, 3, 1, 1, 1, 1, 1)",
          "(9, 3, 2, 1, 1, 1, 1, 1, 1)",
          "(13, 5, 1, 1)",
          "(7, 6, 6, 1)",
          "(8, 8, 3, 1)",
          "(10, 6, 1, 1, 1, 1)",
          "(14, 4, 2)",
          "(13, 7)",
          "(10, 3, 2, 2, 2, 1)",
          "(9, 3, 2, 2, 2, 2)",
          "(7, 6, 3, 1, 1, 1, 1)",
          "(13, 5, 2)",
          "(6, 5, 4, 3, 2)",
          "(12, 4, 4)",
          "(6, 6, 4, 4)",
          "(7, 5, 3, 3, 1, 1)",
          "(10, 4, 2, 2, 1, 1)",
          "(8, 7, 4, 1)",
          "(12, 2, 2, 2, 2)",
          "(10, 5, 5)",
          "(7, 5, 4, 1, 1, 1, 1)",
          "(8, 3, 3, 2, 2, 2)",
          "(7, 7, 4, 1, 1)",
          "(8, 5, 5, 2)",
          "(9, 5, 4, 1, 1)",
          "(16, 2, 2)",
          "(5, 5, 4, 4, 2)",
          "(9, 6, 3, 2)",
          "(9, 2, 2, 2, 2, 2, 1)",
          "(7, 5, 4, 2, 1, 1)",
          "(14, 3, 1, 1, 1)",
          "(10, 2, 2, 1, 1, 1, 1, 1, 1)",
          "(9, 4, 1, 1, 1, 1, 1, 1, 1)",
          "(10, 3, 3, 2, 2)",
          "(7, 5, 2, 2, 2, 2)",
          "(9, 3, 3, 2, 1, 1, 1)",
          "(8, 6, 5, 1)",
          "(8, 5, 2, 2, 2, 1)",
          "(9, 4, 4, 2, 1)",
          "(12, 3, 1, 1, 1, 1, 1)",
          "(13, 3, 3, 1)",
          "(6, 5, 5, 2, 2)",
          "(18, 2)",
          "(10, 4, 3, 1, 1, 1)",
          "(13, 2, 2, 1, 1, 1)",
          "(8, 4, 4, 2, 1, 1)",
          "(9, 6, 2, 2, 1)",
          "(10, 8, 2)",
          "(12, 7, 1)",
          "(7, 5, 3, 2, 2, 1)",
          "(9, 8, 3)",
          "(7, 5, 4, 4)",
          "(7, 5, 5, 2, 1)",
          "(6, 6, 3, 2, 2, 1)",
          "(6, 4, 4, 4, 1, 1)",
          "(13, 1, 1, 1, 1, 1, 1, 1)",
          "(8, 5, 4, 3)",
          "(17, 1, 1, 1)",
          "(10, 7, 2, 1)",
          "(6, 6, 2, 2, 2, 2)",
          "(7, 4, 4, 4, 1)",
          "(7, 6, 3, 2, 1, 1)",
          "(8, 4, 4, 2, 2)",
          "(6, 5, 4, 4, 1)",
          "(8, 3, 3, 3, 2, 1)",
          "(9, 7, 2, 1, 1)",
          "(11, 7, 1, 1)",
          "(5, 5, 5, 4, 1)",
          "(6, 6, 5, 2, 1)",
          "(10, 5, 2, 1, 1, 1)",
          "(11, 4, 4, 1)",
          "(7, 5, 5, 3)",
          "(9, 4, 2, 2, 1, 1, 1)",
          "(12, 8)",
          "(11, 3, 2, 2, 2)",
          "(11, 1, 1, 1, 1, 1, 1, 1, 1, 1)",
          "(7, 6, 3, 3, 1)",
          "(7, 7, 3, 1, 1, 1)",
          "(11, 5, 4)",
          "(6, 6, 4, 3, 1)",
          "(12, 3, 2, 2, 1)",
          "(15, 4, 1)",
          "(7, 5, 3, 2, 1, 1, 1)",
          "(9, 9, 2)",
          "(12, 4, 2, 1, 1)",
          "(9, 4, 3, 1, 1, 1, 1)",
          "(6, 5, 5, 3, 1)",
          "(7, 6, 5, 1, 1)",
          "(12, 3, 3, 2)",
          "(16, 3, 1)",
          "(7, 3, 3, 3, 2, 2)",
          "(9, 5, 2, 2, 1, 1)",
          "(14, 2, 2, 1, 1)",
          "(8, 7, 2, 1, 1, 1)",
          "(11, 3, 3, 1, 1, 1)",
          "(6, 6, 3, 3, 2)",
          "(7, 5, 5, 1, 1, 1)",
          "(10, 4, 3, 3)",
          "(6, 6, 4, 2, 2)",
          "(14, 2, 1, 1, 1, 1)",
          "(10, 10)",
          "(8, 4, 3, 3, 2)",
          "(9, 4, 4, 1, 1, 1)",
          "(11, 2, 2, 2, 1, 1, 1)",
          "(6, 6, 6, 2)",
          "(11, 4, 3, 1, 1)",
          "(9, 6, 2, 1, 1, 1)",
          "(11, 3, 3, 2, 1)",
          "(5, 5, 5, 3, 2)",
          "(10, 3, 3, 2, 1, 1)",
          "(7, 4, 4, 3, 1, 1)",
          "(8, 6, 3, 3)",
          "(12, 4, 3, 1)",
          "(7, 5, 4, 3, 1)",
          "(8, 3, 3, 3, 1, 1, 1)",
          "(7, 4, 3, 2, 2, 2)",
          "(6, 6, 4, 2, 1, 1)",
          "(12, 2, 2, 1, 1, 1, 1)",
          "(7, 6, 4, 3)",
          "(10, 4, 1, 1, 1, 1, 1, 1)",
          "(6, 5, 5, 2, 1, 1)",
          "(7, 4, 4, 3, 2)",
          "(9, 7, 2, 2)",
          "(6, 6, 5, 3)",
          "(8, 5, 5, 1, 1)",
          "(10, 3, 3, 1, 1, 1, 1)",
          "(19, 1)",
          "(7, 7, 2, 1, 1, 1, 1)",
          "(8, 6, 2, 2, 1, 1)",
          "(13, 2, 2, 2, 1)",
          "(9, 8, 2, 1)",
          "(9, 7, 4)",
          "(12, 3, 3, 1, 1)",
          "(9, 6, 4, 1)",
          "(8, 6, 1, 1, 1, 1, 1, 1)",
          "(11, 6, 3)",
          "(11, 7, 2)",
          "(7, 4, 3, 3, 3)",
          "(14, 6)",
          "(10, 6, 2, 2)",
          "(13, 3, 1, 1, 1, 1)",
          "(10, 5, 3, 2)",
          "(9, 3, 2, 2, 1, 1, 1, 1)",
          "(15, 2, 2, 1)",
          "(7, 7, 5, 1)",
          "(10, 5, 3, 1, 1)",
          "(9, 6, 5)",
          "(8, 4, 2, 2, 2, 2)",
          "(12, 4, 1, 1, 1, 1)",
          "(8, 8, 2, 2)",
          "(9, 5, 3, 3)",
          "(8, 5, 2, 1, 1, 1, 1, 1)",
          "(8, 8, 1, 1, 1, 1)",
          "(14, 2, 2, 2)",
          "(8, 7, 1, 1, 1, 1, 1)",
          "(9, 5, 3, 1, 1, 1)",
          "(7, 7, 6)",
          "(15, 2, 1, 1, 1)",
          "(8, 5, 2, 2, 1, 1, 1)",
          "(12, 5, 3)",
          "(7, 5, 2, 2, 2, 1, 1)",
          "(9, 7, 3, 1)",
          "(11, 5, 2, 1, 1)",
          "(9, 3, 3, 3, 1, 1)",
          "(9, 4, 4, 3)",
          "(16, 1, 1, 1, 1)",
          "(8, 2, 2, 2, 2, 2, 2)",
          "(12, 6, 1, 1)",
          "(9, 3, 3, 3, 2)",
          "(12, 5, 2, 1)",
          "(11, 3, 2, 1, 1, 1, 1)",
          "(8, 3, 2, 2, 2, 2, 1)",
          "(20,)",
          "(6, 5, 5, 4)",
          "(10, 5, 2, 2, 1)",
          "(7, 6, 5, 2)",
          "(14, 3, 2, 1)",
          "(17, 3)",
          "(9, 4, 3, 2, 2)",
          "(6, 6, 5, 1, 1, 1)",
          "(11, 5, 2, 2)",
          "(10, 3, 3, 3, 1)",
          "(8, 4, 3, 2, 2, 1)",
          "(16, 4)",
          "(10, 3, 2, 1, 1, 1, 1, 1)",
          "(8, 6, 3, 1, 1, 1)",
          "(8, 7, 3, 1, 1)",
          "(9, 2, 2, 2, 2, 1, 1, 1)",
          "(9, 9, 1, 1)",
          "(7, 7, 3, 3)",
          "(11, 4, 2, 2, 1)",
          "(8, 5, 3, 3, 1)",
          "(8, 4, 3, 2, 1, 1, 1)",
          "(11, 4, 3, 2)",
          "(10, 6, 2, 1, 1)",
          "(9, 5, 3, 2, 1)",
          "(7, 6, 4, 1, 1, 1)",
          "(8, 4, 4, 3, 1)",
          "(10, 4, 2, 2, 2)",
          "(14, 4, 1, 1)",
          "(11, 3, 1, 1, 1, 1, 1, 1)",
          "(12, 5, 1, 1, 1)",
          "(13, 4, 1, 1, 1)",
          "(13, 3, 2, 2)",
          "(11, 3, 3, 3)",
          "(8, 4, 3, 1, 1, 1, 1, 1)",
          "(7, 4, 3, 3, 2, 1)",
          "(7, 5, 4, 2, 2)",
          "(6, 5, 3, 3, 3)",
          "(7, 3, 3, 3, 3, 1)",
          "(9, 6, 1, 1, 1, 1, 1)",
          "(17, 2, 1)",
          "(8, 5, 4, 2, 1)",
          "(10, 5, 1, 1, 1, 1, 1)",
          "(8, 5, 3, 1, 1, 1, 1)",
          "(8, 6, 4, 2)",
          "(12, 6, 2)",
          "(11, 6, 2, 1)",
          "(14, 1, 1, 1, 1, 1, 1)",
          "(10, 7, 1, 1, 1)",
          "(10, 4, 2, 1, 1, 1, 1)",
          "(10, 8, 1, 1)",
          "(7, 6, 3, 2, 2)",
          "(7, 7, 2, 2, 2)",
          "(12, 2, 2, 2, 1, 1)",
          "(8, 4, 4, 4)",
          "(8, 4, 2, 2, 2, 1, 1)",
          "(6, 6, 6, 1, 1)",
          "(8, 6, 2, 1, 1, 1, 1)"
         ],
         "type": "scatter3d",
         "x": [
          -0.08414801955223083,
          0.658948540687561,
          0.3072279691696167,
          0.16108253598213196,
          0.46688908338546753,
          1.3393197059631348,
          -1.024048924446106,
          1.1348073482513428,
          -0.3909473419189453,
          0.7300175428390503,
          -0.505305826663971,
          -0.03394566476345062,
          -0.19650712609291077,
          0.5814591646194458,
          0.2565462291240692,
          0.2676537334918976,
          1.4541988372802734,
          -0.19538268446922302,
          0.8768597841262817,
          0.06317567825317383,
          0.9855673909187317,
          1.2224409580230713,
          -0.013105522841215134,
          0.223922997713089,
          0.2077060043811798,
          0.966526210308075,
          -0.38177287578582764,
          -0.08597534149885178,
          -0.4546803832054138,
          1.2518022060394287,
          -0.25167885422706604,
          1.4553416967391968,
          0.9935773611068726,
          0.2743542492389679,
          0.6817907094955444,
          1.2762014865875244,
          1.014697790145874,
          -0.7601125836372375,
          0.5099195241928101,
          0.17498314380645752,
          0.47024092078208923,
          -0.012572482228279114,
          0.19758117198944092,
          0.8305134773254395,
          1.31229829788208,
          0.6556774377822876,
          0.008129879832267761,
          1.211923360824585,
          0.25665560364723206,
          1.3649513721466064,
          0.673076331615448,
          1.2466294765472412,
          0.27469074726104736,
          0.44420304894447327,
          0.3478792905807495,
          0.14927023649215698,
          -0.12622427940368652,
          -1.8778001070022583,
          1.3725817203521729,
          0.9667061567306519,
          -0.7385062575340271,
          1.0830724239349365,
          0.9618662595748901,
          0.750775933265686,
          0.06700680404901505,
          0.4894261956214905,
          1.2718185186386108,
          -2.06744384765625,
          0.991884171962738,
          -0.06032289192080498,
          0.15921157598495483,
          1.2471535205841064,
          -0.029975783079862595,
          1.1526671648025513,
          0.5929520726203918,
          -0.9626283645629883,
          -0.20861828327178955,
          0.7556897401809692,
          -0.46352285146713257,
          -1.2210501432418823,
          0.6376028060913086,
          -1.1128873825073242,
          0.7175522446632385,
          0.6790424585342407,
          0.0547022745013237,
          0.32958120107650757,
          0.21449697017669678,
          -2.380347728729248,
          0.13536396622657776,
          -0.1264149248600006,
          1.3825623989105225,
          -0.8293476104736328,
          0.3683297038078308,
          1.0494933128356934,
          1.4307465553283691,
          1.4161722660064697,
          0.39064836502075195,
          -0.26640528440475464,
          0.09577805548906326,
          1.4717049598693848,
          -1.5221328735351562,
          1.0461885929107666,
          -1.5772571563720703,
          -0.6051244139671326,
          0.8696353435516357,
          0.23719415068626404,
          0.7646421194076538,
          0.25445374846458435,
          -0.22624751925468445,
          -0.7123959064483643,
          0.0056845881044864655,
          -0.4745098054409027,
          0.4471702575683594,
          1.0582609176635742,
          -2.1241114139556885,
          0.5594235062599182,
          -0.46126019954681396,
          -0.30399858951568604,
          1.2430293560028076,
          -0.008487842977046967,
          -0.1336551010608673,
          0.27756810188293457,
          -0.6989835500717163,
          0.2308555543422699,
          -0.252681702375412,
          -0.05166061222553253,
          0.252010703086853,
          1.0615410804748535,
          1.2405552864074707,
          -1.3472576141357422,
          0.5072864890098572,
          0.9012857675552368,
          1.2486203908920288,
          -0.06032523512840271,
          0.736168622970581,
          0.9616757035255432,
          1.3960750102996826,
          -0.4774940609931946,
          0.6608315706253052,
          -1.4425171613693237,
          -0.7319010496139526,
          -0.6204623579978943,
          -1.6905006170272827,
          0.6772276163101196,
          -0.5666327476501465,
          0.6707672476768494,
          1.0747398138046265,
          -0.8420790433883667,
          -1.4610741138458252,
          0.033373333513736725,
          -0.4855225086212158,
          -1.730520248413086,
          -0.8484832048416138,
          0.9117541313171387,
          1.2082624435424805,
          -2.1186912059783936,
          -0.9005252718925476,
          1.056875467300415,
          0.8661168813705444,
          -1.2294318675994873,
          0.4424516558647156,
          1.2333388328552246,
          0.6755144596099854,
          -0.20494285225868225,
          -0.5251548886299133,
          0.27384012937545776,
          0.8992291688919067,
          -1.014582872390747,
          1.1849935054779053,
          1.2705988883972168,
          -0.18445906043052673,
          0.5505307912826538,
          1.4180006980895996,
          0.4766620397567749,
          -1.4992880821228027,
          -0.4692685008049011,
          1.0518836975097656,
          1.083951473236084,
          -1.416931390762329,
          0.6614402532577515,
          1.2445693016052246,
          0.6437976360321045,
          1.0507904291152954,
          -1.1744310855865479,
          -0.4907347559928894,
          0.2175939679145813,
          -0.8501287698745728,
          1.1411502361297607,
          0.534697413444519,
          -0.7990100383758545,
          0.4209151864051819,
          0.7441937923431396,
          -1.2400217056274414,
          1.1462700366973877,
          0.9062139987945557,
          0.8925563097000122,
          -1.9328067302703857,
          0.6538980007171631,
          -0.8589186668395996,
          -0.2545052468776703,
          1.2751731872558594,
          -0.8586863279342651,
          -0.5687392950057983,
          -0.903885006904602,
          -0.4625999331474304,
          1.0632950067520142,
          -0.7643016576766968,
          0.48462074995040894,
          -0.9587193727493286,
          -1.2609127759933472,
          0.720917284488678,
          -1.3879342079162598,
          -0.27831947803497314,
          0.6276648640632629,
          0.3980821371078491,
          0.2601066529750824,
          0.4567921757698059,
          1.1283290386199951,
          0.7387958765029907,
          0.538372814655304,
          1.197778582572937,
          0.4710689187049866,
          0.15688899159431458,
          1.1887969970703125,
          1.3020401000976562,
          -1.4193756580352783,
          1.3974666595458984,
          0.9358392357826233,
          1.263495922088623,
          0.776715099811554,
          0.11293508857488632,
          1.141553521156311,
          -0.41853082180023193,
          0.9357802867889404,
          0.07299817353487015,
          -0.486383855342865,
          1.3190937042236328,
          0.33834752440452576,
          -0.007391005754470825,
          0.15312212705612183,
          0.44260790944099426,
          1.1367549896240234,
          0.3961835503578186,
          0.692955732345581,
          -0.644431471824646,
          1.0185720920562744,
          0.21506661176681519,
          1.2957030534744263,
          -0.4498946964740753,
          0.7455301284790039,
          1.2836692333221436,
          -0.14757966995239258,
          -0.2640256881713867,
          0.881122350692749,
          -0.65190589427948,
          1.3833582401275635,
          -0.5453863143920898,
          1.4109135866165161,
          0.9755517244338989,
          -0.6602946519851685,
          0.3285023868083954,
          -2.0282180309295654,
          0.916818380355835,
          -0.6709595918655396,
          1.3397862911224365,
          0.8446087837219238,
          0.06875666230916977,
          -0.6601392030715942,
          1.1215767860412598,
          0.11554373055696487,
          -0.24838128685951233,
          1.1632510423660278,
          0.4672095775604248,
          0.49329161643981934,
          0.4980829358100891,
          -0.29228007793426514,
          0.420738160610199,
          -0.4450171887874603,
          1.1230417490005493,
          -0.34180721640586853,
          0.030806049704551697,
          0.9822026491165161,
          1.1110471487045288,
          0.5275803804397583,
          -0.020002353936433792,
          -0.6193256974220276,
          0.5085676908493042,
          1.3505862951278687,
          0.6380077600479126,
          1.3596794605255127,
          1.3661941289901733,
          1.238289713859558,
          0.36874186992645264,
          -0.046476878225803375,
          -1.042830228805542,
          -0.7102168798446655,
          -1.6546529531478882,
          -1.4307763576507568,
          0.656150221824646,
          0.7344349026679993,
          -0.03620704263448715,
          0.8144592046737671,
          0.2551119923591614,
          0.009426336735486984,
          1.4657491445541382,
          1.2881958484649658,
          0.9390335083007812,
          1.0300151109695435,
          0.8348743915557861,
          0.8573723435401917,
          -0.38201677799224854,
          -0.1501798927783966,
          1.0926704406738281,
          -1.1519474983215332,
          -0.23601317405700684,
          -1.0342328548431396,
          0.4738856554031372
         ],
         "y": [
          -1.5432385206222534,
          0.5310615301132202,
          0.6203399896621704,
          -0.3217511475086212,
          -0.8355374336242676,
          0.7325142025947571,
          -0.7047847509384155,
          0.4217621982097626,
          -0.9764021635055542,
          1.1437525749206543,
          1.6213626861572266,
          -1.593471646308899,
          -0.7632178068161011,
          -1.2543233633041382,
          -1.660906434059143,
          -0.5022626519203186,
          0.3487810790538788,
          0.7376514077186584,
          2.4446933269500732,
          -0.7679687738418579,
          -0.7793253660202026,
          0.691943347454071,
          -1.3037196397781372,
          -0.6609616875648499,
          -1.121273398399353,
          0.2670935094356537,
          -1.776661992073059,
          -0.5302861928939819,
          -1.6320520639419556,
          -0.560235857963562,
          0.07720848172903061,
          1.3899096250534058,
          -0.988916277885437,
          -1.5578337907791138,
          2.2634494304656982,
          0.16387680172920227,
          -0.9063172340393066,
          -0.5310871601104736,
          0.19255183637142181,
          1.7188267707824707,
          0.19062279164791107,
          -0.8730430006980896,
          0.2605651915073395,
          0.11218574643135071,
          -0.6915483474731445,
          -0.75827956199646,
          -1.6004289388656616,
          -0.21393661201000214,
          0.35392144322395325,
          -0.2448519915342331,
          0.9480187892913818,
          0.7811450958251953,
          -0.05672076344490051,
          0.8030361533164978,
          -1.2380810976028442,
          -1.6389580965042114,
          1.6153517961502075,
          -0.8960084319114685,
          1.3183226585388184,
          -0.46466806530952454,
          -1.0609804391860962,
          1.8451800346374512,
          0.5958642959594727,
          -0.37229499220848083,
          0.136630579829216,
          0.7930490374565125,
          1.6173914670944214,
          -0.6596851348876953,
          1.223854422569275,
          -1.4311598539352417,
          -1.6459685564041138,
          0.37683382630348206,
          0.8263846039772034,
          0.49432840943336487,
          -1.2890305519104004,
          -0.8271496295928955,
          -0.5717281699180603,
          0.13244123756885529,
          -1.0698953866958618,
          -1.1678231954574585,
          -1.487375259399414,
          -0.5880218744277954,
          -1.3332993984222412,
          -0.07528381049633026,
          -0.3383246958255768,
          -0.8745844960212708,
          -0.2669890224933624,
          0.708920955657959,
          -1.4394677877426147,
          -1.6936672925949097,
          0.75826096534729,
          1.2095311880111694,
          1.2158207893371582,
          -0.06650000810623169,
          0.9183010458946228,
          1.816595435142517,
          -1.2349172830581665,
          -1.5165818929672241,
          -0.5876411199569702,
          1.003521203994751,
          -0.5060635805130005,
          0.7628515958786011,
          0.5655869245529175,
          -0.7835173606872559,
          -0.7665554881095886,
          0.9258701205253601,
          -0.8014052510261536,
          1.2549327611923218,
          -0.642086386680603,
          -1.598404884338379,
          0.4768677353858948,
          0.6670416593551636,
          0.1069391518831253,
          0.549237847328186,
          -0.36004117131233215,
          0.39534780383110046,
          -1.8455246686935425,
          -0.5475230813026428,
          -0.014239175245165825,
          -1.7877353429794312,
          -1.3948352336883545,
          -0.8332110643386841,
          -1.2238928079605103,
          -1.3265389204025269,
          1.0319164991378784,
          -0.987047016620636,
          -0.27362260222435,
          -0.9268772602081299,
          0.13866671919822693,
          -0.11907199025154114,
          1.0428177118301392,
          -0.6124525666236877,
          -0.738500714302063,
          -0.7318357229232788,
          -0.00795760564506054,
          1.6418079137802124,
          1.5174401998519897,
          -1.0152602195739746,
          1.5979958772659302,
          0.3242599666118622,
          0.18474136292934418,
          -0.7546236515045166,
          -0.728973925113678,
          -1.2338377237319946,
          0.27379974722862244,
          0.228433758020401,
          0.826339602470398,
          -0.9645717144012451,
          -0.38066235184669495,
          -0.4909984767436981,
          -0.6384497284889221,
          -0.1178448349237442,
          -1.427847981452942,
          0.35682013630867004,
          1.0369865894317627,
          0.23761911690235138,
          0.4085465371608734,
          -0.41727033257484436,
          0.3360573351383209,
          0.5805023312568665,
          -1.1403522491455078,
          2.0760891437530518,
          -0.7650349736213684,
          -1.7306749820709229,
          -0.15828578174114227,
          -0.09148932993412018,
          0.9547328948974609,
          0.031012551859021187,
          -0.43535009026527405,
          1.1384779214859009,
          -1.0031319856643677,
          2.0418474674224854,
          -0.09754994511604309,
          -0.9970173835754395,
          0.12648259103298187,
          0.5790290236473083,
          -0.04476073384284973,
          0.8500754833221436,
          -1.587557077407837,
          -0.6196867227554321,
          -0.2663867175579071,
          -0.05530281364917755,
          -0.7556488513946533,
          -0.4488012492656708,
          -0.043219029903411865,
          -0.03690627962350845,
          -0.2081574946641922,
          -0.5438810586929321,
          2.7174108028411865,
          -0.8795647621154785,
          -0.5035489797592163,
          -1.350225567817688,
          1.0226287841796875,
          -0.16964052617549896,
          -0.23607969284057617,
          -0.5154386758804321,
          -0.147405207157135,
          -0.9532759189605713,
          -0.8415732383728027,
          0.33507609367370605,
          0.2669258117675781,
          -0.20689989626407623,
          -1.423496127128601,
          -1.4508038759231567,
          -0.2910221815109253,
          -1.1537997722625732,
          0.4621048867702484,
          -1.1032607555389404,
          -0.19312506914138794,
          -0.7667471766471863,
          0.6438659429550171,
          0.7912883162498474,
          0.39301884174346924,
          -1.1344685554504395,
          1.0891108512878418,
          -0.3761548101902008,
          -0.4547031819820404,
          -0.49738821387290955,
          1.2238103151321411,
          1.3227430582046509,
          -0.3152390420436859,
          0.7056512832641602,
          -0.6884027719497681,
          1.02376127243042,
          1.2574166059494019,
          -1.0515741109848022,
          1.742177128791809,
          0.44280409812927246,
          -0.5037376284599304,
          0.2436230480670929,
          -1.5706489086151123,
          0.21809053421020508,
          1.212222695350647,
          -0.01916479878127575,
          1.4225445985794067,
          -1.4337188005447388,
          -0.36543622612953186,
          1.0800405740737915,
          0.1524205356836319,
          -1.041943907737732,
          0.5307056307792664,
          0.02477833814918995,
          -0.1982172578573227,
          -0.44827091693878174,
          1.7456293106079102,
          -0.09854872524738312,
          -0.9771791696548462,
          0.8689234256744385,
          -1.3003361225128174,
          0.7895203232765198,
          0.026835346594452858,
          -1.0843299627304077,
          0.057882100343704224,
          -0.1698736995458603,
          -1.8541367053985596,
          0.87300044298172,
          -0.9804251790046692,
          0.48968687653541565,
          -1.103587031364441,
          -1.7984269857406616,
          1.111214518547058,
          0.6019149422645569,
          -0.17261014878749847,
          0.8493497967720032,
          0.3070340156555176,
          1.0367207527160645,
          -0.7279894948005676,
          0.19602814316749573,
          0.281523734331131,
          -0.6439205408096313,
          -1.2036062479019165,
          1.2652100324630737,
          -1.438585877418518,
          -0.2814513146877289,
          0.3405235707759857,
          -1.8428901433944702,
          1.8265613317489624,
          0.5348553657531738,
          -0.3044795095920563,
          -0.33775511384010315,
          -1.1967729330062866,
          0.0785161703824997,
          0.16673608124256134,
          -0.21464158594608307,
          -0.14605647325515747,
          -0.418430894613266,
          -0.644010603427887,
          0.6535432934761047,
          -1.2694348096847534,
          0.2323680967092514,
          0.07953809201717377,
          0.025981636717915535,
          -0.18813395500183105,
          -1.2750325202941895,
          -1.2856389284133911,
          -0.4435370862483978,
          -0.8108057975769043,
          -1.4686132669448853,
          -0.4027564823627472,
          0.658786952495575,
          -0.09394538402557373,
          -0.5866549015045166,
          -0.7963701486587524,
          0.5292545557022095,
          1.0929239988327026,
          0.632733941078186,
          -0.8554885387420654,
          0.5511293411254883,
          -0.9568536877632141,
          1.4188345670700073,
          -0.39494583010673523,
          -0.1451423019170761,
          -0.9464765787124634,
          0.09337793290615082,
          -1.4963407516479492,
          0.7758757472038269,
          -0.570448637008667
         ],
         "z": [
          -0.6519376039505005,
          0.33987686038017273,
          1.2351036071777344,
          0.9253566265106201,
          0.4331045150756836,
          -0.7416691780090332,
          0.9547860026359558,
          0.02502164989709854,
          0.5384643077850342,
          0.44494909048080444,
          1.0190670490264893,
          -0.12493989616632462,
          1.161489486694336,
          -0.7547534704208374,
          -0.7665459513664246,
          0.4909067749977112,
          -0.7263322472572327,
          1.4830317497253418,
          -0.10234146565198898,
          1.104642391204834,
          -0.3947484791278839,
          -1.138744592666626,
          0.07209240645170212,
          0.9353800415992737,
          0.2554641664028168,
          -1.9900087118148804,
          -1.4439289569854736,
          0.28053197264671326,
          0.1700451672077179,
          -0.1568746268749237,
          1.4358866214752197,
          -0.5352612137794495,
          -1.3975305557250977,
          -1.8247621059417725,
          0.25148406624794006,
          -0.5138087868690491,
          -0.42042839527130127,
          1.4010803699493408,
          0.07906174659729004,
          1.1114122867584229,
          1.1829278469085693,
          0.4991646409034729,
          1.1547973155975342,
          0.7858602404594421,
          -0.6564912796020508,
          0.45619574189186096,
          -0.9203593134880066,
          -0.060844309628009796,
          0.6336845755577087,
          -0.9158341288566589,
          0.8170994520187378,
          -1.4087337255477905,
          1.158606767654419,
          -2.621126651763916,
          -0.07476465404033661,
          -0.5848897099494934,
          1.1876887083053589,
          0.641671895980835,
          -0.9161137938499451,
          -1.910323143005371,
          0.8138429522514343,
          0.09284935146570206,
          0.5147271752357483,
          0.14793327450752258,
          1.5162379741668701,
          1.1380845308303833,
          -1.1845518350601196,
          0.8234178423881531,
          0.5550625920295715,
          0.13452725112438202,
          -1.42486572265625,
          0.1134657934308052,
          0.7248899936676025,
          -1.4629979133605957,
          -0.2541094124317169,
          1.2141168117523193,
          0.8230968117713928,
          0.8656149506568909,
          0.758769690990448,
          -0.01702750474214554,
          -1.0117181539535522,
          1.2079685926437378,
          -1.3992393016815186,
          0.15594185888767242,
          0.95191890001297,
          0.03232501074671745,
          1.3827463388442993,
          1.1245001554489136,
          -0.23379071056842804,
          -0.5600923895835876,
          -0.6194406747817993,
          1.360971212387085,
          1.169191837310791,
          0.40601009130477905,
          -1.007370948791504,
          -0.49753376841545105,
          -0.24356256425380707,
          -0.1874268800020218,
          1.1604893207550049,
          -0.6094098687171936,
          1.131408452987671,
          -0.4964044988155365,
          1.342536449432373,
          1.0453007221221924,
          0.12167631834745407,
          1.2392072677612305,
          -1.0254015922546387,
          0.341464102268219,
          0.9926376938819885,
          0.11186971515417099,
          1.512392520904541,
          1.0104044675827026,
          0.6818954348564148,
          -1.917251467704773,
          1.0817310810089111,
          0.8385418057441711,
          -0.5175137519836426,
          1.1942211389541626,
          -1.2377068996429443,
          -1.0170245170593262,
          -0.47267022728919983,
          -0.1939438134431839,
          0.7357873320579529,
          0.042473889887332916,
          1.1998872756958008,
          0.7394751310348511,
          0.43162861466407776,
          -0.893406867980957,
          -0.8797271847724915,
          1.343913197517395,
          -2.5170998573303223,
          0.17472536861896515,
          -1.1447912454605103,
          0.6971720457077026,
          0.8034277558326721,
          0.49860724806785583,
          -0.18083900213241577,
          1.0626468658447266,
          0.841555655002594,
          1.003961205482483,
          1.3085384368896484,
          1.4063470363616943,
          0.8947623372077942,
          -1.8269658088684082,
          0.7859990000724792,
          -2.384537696838379,
          0.5725398659706116,
          1.049189805984497,
          0.7821678519248962,
          1.3780525922775269,
          0.5674081444740295,
          1.178794503211975,
          0.20588111877441406,
          0.9046962857246399,
          0.16124115884304047,
          1.242133378982544,
          1.6569427251815796,
          0.3418005406856537,
          -0.18168480694293976,
          1.1556904315948486,
          0.2389083355665207,
          -0.21582922339439392,
          -0.5463588833808899,
          -1.8421955108642578,
          1.2907869815826416,
          1.4173154830932617,
          -0.04706033319234848,
          1.4666941165924072,
          -0.6772982478141785,
          -1.3088021278381348,
          1.006904125213623,
          0.5882084369659424,
          -0.43013662099838257,
          0.28091949224472046,
          1.3493678569793701,
          1.483137845993042,
          -0.6553695797920227,
          -1.805521011352539,
          0.27718502283096313,
          0.6163036227226257,
          -1.3733127117156982,
          1.1098741292953491,
          -0.34746095538139343,
          1.328568696975708,
          1.2290118932724,
          -0.04718363657593727,
          1.4643512964248657,
          -1.5011496543884277,
          -0.043577127158641815,
          0.43229612708091736,
          0.423716276884079,
          -0.7701882123947144,
          1.5226011276245117,
          -0.13482265174388885,
          0.7569228410720825,
          -0.37287670373916626,
          1.231149673461914,
          -0.07867313921451569,
          0.8045892119407654,
          0.9871802926063538,
          -0.42539867758750916,
          1.1003025770187378,
          0.14703363180160522,
          0.5693215131759644,
          1.5438683032989502,
          -0.9966196417808533,
          1.2725197076797485,
          -0.4353786110877991,
          1.4161949157714844,
          0.7156804203987122,
          0.8692144751548767,
          1.4853662252426147,
          1.038904070854187,
          -0.18223358690738678,
          -2.7625341415405273,
          1.1578819751739502,
          1.0467084646224976,
          -1.1505411863327026,
          0.8485668301582336,
          0.8711490035057068,
          -0.5970447659492493,
          0.8364656567573547,
          0.4092065691947937,
          0.12554912269115448,
          0.16945776343345642,
          0.4487673342227936,
          -0.8358879089355469,
          0.43377766013145447,
          -1.0299503803253174,
          0.3130238950252533,
          -0.29834017157554626,
          -1.6135032176971436,
          1.5036842823028564,
          0.3975696563720703,
          0.8178802132606506,
          0.2860749661922455,
          -0.5286690592765808,
          1.1051454544067383,
          0.48111385107040405,
          0.35867640376091003,
          1.0188395977020264,
          -1.408036708831787,
          0.867022693157196,
          0.6658441424369812,
          1.2962177991867065,
          -1.7098655700683594,
          0.6884527206420898,
          -0.296951562166214,
          0.798583984375,
          0.9516963362693787,
          0.02659442275762558,
          0.05397190898656845,
          0.252727746963501,
          -2.101621150970459,
          -0.32020053267478943,
          -0.20633217692375183,
          -0.03446970880031586,
          -0.2796321213245392,
          -0.5185514688491821,
          -0.07657808810472488,
          -2.5796494483947754,
          1.2280405759811401,
          0.3224523663520813,
          1.4517674446105957,
          -1.145946741104126,
          -2.100889205932617,
          0.306247740983963,
          1.5829432010650635,
          -0.06878172606229782,
          -0.20701411366462708,
          0.5586515069007874,
          -1.6129956245422363,
          -0.5181530117988586,
          1.0982756614685059,
          1.2508898973464966,
          -0.6287567019462585,
          0.6094531416893005,
          1.3317484855651855,
          -0.20136377215385437,
          0.8091874122619629,
          0.5007349848747253,
          -0.20818495750427246,
          0.4969160258769989,
          0.6782134175300598,
          1.35819673538208,
          0.571360170841217,
          -0.01683727651834488,
          -1.0369298458099365,
          -0.9295912384986877,
          -0.3211713433265686,
          -0.7973784804344177,
          -0.9570179581642151,
          -0.5405656695365906,
          0.1725439429283142,
          0.6740121245384216,
          1.0971660614013672,
          0.849439799785614,
          0.21869955956935883,
          0.5249893069267273,
          -2.3109092712402344,
          0.9621366858482361,
          0.11609571427106857,
          0.743098795413971,
          1.1368517875671387,
          -0.19808217883110046,
          0.1263311207294464,
          -1.779163122177124,
          0.5440132021903992,
          0.002956538461148739,
          0.4819762408733368,
          1.296296238899231,
          1.3217203617095947,
          -0.90687495470047,
          0.4979977607727051,
          0.3254295587539673,
          1.5407062768936157,
          0.8300735354423523
         ]
        }
       ],
       "layout": {
        "autosize": false,
        "height": 1000,
        "template": {
         "data": {
          "bar": [
           {
            "error_x": {
             "color": "#2a3f5f"
            },
            "error_y": {
             "color": "#2a3f5f"
            },
            "marker": {
             "line": {
              "color": "#E5ECF6",
              "width": 0.5
             }
            },
            "type": "bar"
           }
          ],
          "barpolar": [
           {
            "marker": {
             "line": {
              "color": "#E5ECF6",
              "width": 0.5
             }
            },
            "type": "barpolar"
           }
          ],
          "carpet": [
           {
            "aaxis": {
             "endlinecolor": "#2a3f5f",
             "gridcolor": "white",
             "linecolor": "white",
             "minorgridcolor": "white",
             "startlinecolor": "#2a3f5f"
            },
            "baxis": {
             "endlinecolor": "#2a3f5f",
             "gridcolor": "white",
             "linecolor": "white",
             "minorgridcolor": "white",
             "startlinecolor": "#2a3f5f"
            },
            "type": "carpet"
           }
          ],
          "choropleth": [
           {
            "colorbar": {
             "outlinewidth": 0,
             "ticks": ""
            },
            "type": "choropleth"
           }
          ],
          "contour": [
           {
            "colorbar": {
             "outlinewidth": 0,
             "ticks": ""
            },
            "colorscale": [
             [
              0,
              "#0d0887"
             ],
             [
              0.1111111111111111,
              "#46039f"
             ],
             [
              0.2222222222222222,
              "#7201a8"
             ],
             [
              0.3333333333333333,
              "#9c179e"
             ],
             [
              0.4444444444444444,
              "#bd3786"
             ],
             [
              0.5555555555555556,
              "#d8576b"
             ],
             [
              0.6666666666666666,
              "#ed7953"
             ],
             [
              0.7777777777777778,
              "#fb9f3a"
             ],
             [
              0.8888888888888888,
              "#fdca26"
             ],
             [
              1,
              "#f0f921"
             ]
            ],
            "type": "contour"
           }
          ],
          "contourcarpet": [
           {
            "colorbar": {
             "outlinewidth": 0,
             "ticks": ""
            },
            "type": "contourcarpet"
           }
          ],
          "heatmap": [
           {
            "colorbar": {
             "outlinewidth": 0,
             "ticks": ""
            },
            "colorscale": [
             [
              0,
              "#0d0887"
             ],
             [
              0.1111111111111111,
              "#46039f"
             ],
             [
              0.2222222222222222,
              "#7201a8"
             ],
             [
              0.3333333333333333,
              "#9c179e"
             ],
             [
              0.4444444444444444,
              "#bd3786"
             ],
             [
              0.5555555555555556,
              "#d8576b"
             ],
             [
              0.6666666666666666,
              "#ed7953"
             ],
             [
              0.7777777777777778,
              "#fb9f3a"
             ],
             [
              0.8888888888888888,
              "#fdca26"
             ],
             [
              1,
              "#f0f921"
             ]
            ],
            "type": "heatmap"
           }
          ],
          "heatmapgl": [
           {
            "colorbar": {
             "outlinewidth": 0,
             "ticks": ""
            },
            "colorscale": [
             [
              0,
              "#0d0887"
             ],
             [
              0.1111111111111111,
              "#46039f"
             ],
             [
              0.2222222222222222,
              "#7201a8"
             ],
             [
              0.3333333333333333,
              "#9c179e"
             ],
             [
              0.4444444444444444,
              "#bd3786"
             ],
             [
              0.5555555555555556,
              "#d8576b"
             ],
             [
              0.6666666666666666,
              "#ed7953"
             ],
             [
              0.7777777777777778,
              "#fb9f3a"
             ],
             [
              0.8888888888888888,
              "#fdca26"
             ],
             [
              1,
              "#f0f921"
             ]
            ],
            "type": "heatmapgl"
           }
          ],
          "histogram": [
           {
            "marker": {
             "colorbar": {
              "outlinewidth": 0,
              "ticks": ""
             }
            },
            "type": "histogram"
           }
          ],
          "histogram2d": [
           {
            "colorbar": {
             "outlinewidth": 0,
             "ticks": ""
            },
            "colorscale": [
             [
              0,
              "#0d0887"
             ],
             [
              0.1111111111111111,
              "#46039f"
             ],
             [
              0.2222222222222222,
              "#7201a8"
             ],
             [
              0.3333333333333333,
              "#9c179e"
             ],
             [
              0.4444444444444444,
              "#bd3786"
             ],
             [
              0.5555555555555556,
              "#d8576b"
             ],
             [
              0.6666666666666666,
              "#ed7953"
             ],
             [
              0.7777777777777778,
              "#fb9f3a"
             ],
             [
              0.8888888888888888,
              "#fdca26"
             ],
             [
              1,
              "#f0f921"
             ]
            ],
            "type": "histogram2d"
           }
          ],
          "histogram2dcontour": [
           {
            "colorbar": {
             "outlinewidth": 0,
             "ticks": ""
            },
            "colorscale": [
             [
              0,
              "#0d0887"
             ],
             [
              0.1111111111111111,
              "#46039f"
             ],
             [
              0.2222222222222222,
              "#7201a8"
             ],
             [
              0.3333333333333333,
              "#9c179e"
             ],
             [
              0.4444444444444444,
              "#bd3786"
             ],
             [
              0.5555555555555556,
              "#d8576b"
             ],
             [
              0.6666666666666666,
              "#ed7953"
             ],
             [
              0.7777777777777778,
              "#fb9f3a"
             ],
             [
              0.8888888888888888,
              "#fdca26"
             ],
             [
              1,
              "#f0f921"
             ]
            ],
            "type": "histogram2dcontour"
           }
          ],
          "mesh3d": [
           {
            "colorbar": {
             "outlinewidth": 0,
             "ticks": ""
            },
            "type": "mesh3d"
           }
          ],
          "parcoords": [
           {
            "line": {
             "colorbar": {
              "outlinewidth": 0,
              "ticks": ""
             }
            },
            "type": "parcoords"
           }
          ],
          "scatter": [
           {
            "marker": {
             "colorbar": {
              "outlinewidth": 0,
              "ticks": ""
             }
            },
            "type": "scatter"
           }
          ],
          "scatter3d": [
           {
            "line": {
             "colorbar": {
              "outlinewidth": 0,
              "ticks": ""
             }
            },
            "marker": {
             "colorbar": {
              "outlinewidth": 0,
              "ticks": ""
             }
            },
            "type": "scatter3d"
           }
          ],
          "scattercarpet": [
           {
            "marker": {
             "colorbar": {
              "outlinewidth": 0,
              "ticks": ""
             }
            },
            "type": "scattercarpet"
           }
          ],
          "scattergeo": [
           {
            "marker": {
             "colorbar": {
              "outlinewidth": 0,
              "ticks": ""
             }
            },
            "type": "scattergeo"
           }
          ],
          "scattergl": [
           {
            "marker": {
             "colorbar": {
              "outlinewidth": 0,
              "ticks": ""
             }
            },
            "type": "scattergl"
           }
          ],
          "scattermapbox": [
           {
            "marker": {
             "colorbar": {
              "outlinewidth": 0,
              "ticks": ""
             }
            },
            "type": "scattermapbox"
           }
          ],
          "scatterpolar": [
           {
            "marker": {
             "colorbar": {
              "outlinewidth": 0,
              "ticks": ""
             }
            },
            "type": "scatterpolar"
           }
          ],
          "scatterpolargl": [
           {
            "marker": {
             "colorbar": {
              "outlinewidth": 0,
              "ticks": ""
             }
            },
            "type": "scatterpolargl"
           }
          ],
          "scatterternary": [
           {
            "marker": {
             "colorbar": {
              "outlinewidth": 0,
              "ticks": ""
             }
            },
            "type": "scatterternary"
           }
          ],
          "surface": [
           {
            "colorbar": {
             "outlinewidth": 0,
             "ticks": ""
            },
            "colorscale": [
             [
              0,
              "#0d0887"
             ],
             [
              0.1111111111111111,
              "#46039f"
             ],
             [
              0.2222222222222222,
              "#7201a8"
             ],
             [
              0.3333333333333333,
              "#9c179e"
             ],
             [
              0.4444444444444444,
              "#bd3786"
             ],
             [
              0.5555555555555556,
              "#d8576b"
             ],
             [
              0.6666666666666666,
              "#ed7953"
             ],
             [
              0.7777777777777778,
              "#fb9f3a"
             ],
             [
              0.8888888888888888,
              "#fdca26"
             ],
             [
              1,
              "#f0f921"
             ]
            ],
            "type": "surface"
           }
          ],
          "table": [
           {
            "cells": {
             "fill": {
              "color": "#EBF0F8"
             },
             "line": {
              "color": "white"
             }
            },
            "header": {
             "fill": {
              "color": "#C8D4E3"
             },
             "line": {
              "color": "white"
             }
            },
            "type": "table"
           }
          ]
         },
         "layout": {
          "annotationdefaults": {
           "arrowcolor": "#2a3f5f",
           "arrowhead": 0,
           "arrowwidth": 1
          },
          "colorscale": {
           "diverging": [
            [
             0,
             "#8e0152"
            ],
            [
             0.1,
             "#c51b7d"
            ],
            [
             0.2,
             "#de77ae"
            ],
            [
             0.3,
             "#f1b6da"
            ],
            [
             0.4,
             "#fde0ef"
            ],
            [
             0.5,
             "#f7f7f7"
            ],
            [
             0.6,
             "#e6f5d0"
            ],
            [
             0.7,
             "#b8e186"
            ],
            [
             0.8,
             "#7fbc41"
            ],
            [
             0.9,
             "#4d9221"
            ],
            [
             1,
             "#276419"
            ]
           ],
           "sequential": [
            [
             0,
             "#0d0887"
            ],
            [
             0.1111111111111111,
             "#46039f"
            ],
            [
             0.2222222222222222,
             "#7201a8"
            ],
            [
             0.3333333333333333,
             "#9c179e"
            ],
            [
             0.4444444444444444,
             "#bd3786"
            ],
            [
             0.5555555555555556,
             "#d8576b"
            ],
            [
             0.6666666666666666,
             "#ed7953"
            ],
            [
             0.7777777777777778,
             "#fb9f3a"
            ],
            [
             0.8888888888888888,
             "#fdca26"
            ],
            [
             1,
             "#f0f921"
            ]
           ],
           "sequentialminus": [
            [
             0,
             "#0d0887"
            ],
            [
             0.1111111111111111,
             "#46039f"
            ],
            [
             0.2222222222222222,
             "#7201a8"
            ],
            [
             0.3333333333333333,
             "#9c179e"
            ],
            [
             0.4444444444444444,
             "#bd3786"
            ],
            [
             0.5555555555555556,
             "#d8576b"
            ],
            [
             0.6666666666666666,
             "#ed7953"
            ],
            [
             0.7777777777777778,
             "#fb9f3a"
            ],
            [
             0.8888888888888888,
             "#fdca26"
            ],
            [
             1,
             "#f0f921"
            ]
           ]
          },
          "colorway": [
           "#636efa",
           "#EF553B",
           "#00cc96",
           "#ab63fa",
           "#FFA15A",
           "#19d3f3",
           "#FF6692",
           "#B6E880",
           "#FF97FF",
           "#FECB52"
          ],
          "font": {
           "color": "#2a3f5f"
          },
          "geo": {
           "bgcolor": "white",
           "lakecolor": "white",
           "landcolor": "#E5ECF6",
           "showlakes": true,
           "showland": true,
           "subunitcolor": "white"
          },
          "hoverlabel": {
           "align": "left"
          },
          "hovermode": "closest",
          "mapbox": {
           "style": "light"
          },
          "paper_bgcolor": "white",
          "plot_bgcolor": "#E5ECF6",
          "polar": {
           "angularaxis": {
            "gridcolor": "white",
            "linecolor": "white",
            "ticks": ""
           },
           "bgcolor": "#E5ECF6",
           "radialaxis": {
            "gridcolor": "white",
            "linecolor": "white",
            "ticks": ""
           }
          },
          "scene": {
           "xaxis": {
            "backgroundcolor": "#E5ECF6",
            "gridcolor": "white",
            "gridwidth": 2,
            "linecolor": "white",
            "showbackground": true,
            "ticks": "",
            "zerolinecolor": "white"
           },
           "yaxis": {
            "backgroundcolor": "#E5ECF6",
            "gridcolor": "white",
            "gridwidth": 2,
            "linecolor": "white",
            "showbackground": true,
            "ticks": "",
            "zerolinecolor": "white"
           },
           "zaxis": {
            "backgroundcolor": "#E5ECF6",
            "gridcolor": "white",
            "gridwidth": 2,
            "linecolor": "white",
            "showbackground": true,
            "ticks": "",
            "zerolinecolor": "white"
           }
          },
          "shapedefaults": {
           "line": {
            "color": "#2a3f5f"
           }
          },
          "ternary": {
           "aaxis": {
            "gridcolor": "white",
            "linecolor": "white",
            "ticks": ""
           },
           "baxis": {
            "gridcolor": "white",
            "linecolor": "white",
            "ticks": ""
           },
           "bgcolor": "#E5ECF6",
           "caxis": {
            "gridcolor": "white",
            "linecolor": "white",
            "ticks": ""
           }
          },
          "title": {
           "x": 0.05
          },
          "xaxis": {
           "automargin": true,
           "gridcolor": "white",
           "linecolor": "white",
           "ticks": "",
           "zerolinecolor": "white",
           "zerolinewidth": 2
          },
          "yaxis": {
           "automargin": true,
           "gridcolor": "white",
           "linecolor": "white",
           "ticks": "",
           "zerolinecolor": "white",
           "zerolinewidth": 2
          }
         }
        },
        "width": 1000
       }
      },
      "text/html": [
       "<div>\n",
       "        \n",
       "        \n",
       "            <div id=\"93af1ec7-9d7e-428a-8600-aa5e05a2580d\" class=\"plotly-graph-div\" style=\"height:1000px; width:1000px;\"></div>\n",
       "            <script type=\"text/javascript\">\n",
       "                require([\"plotly\"], function(Plotly) {\n",
       "                    window.PLOTLYENV=window.PLOTLYENV || {};\n",
       "                    \n",
       "                if (document.getElementById(\"93af1ec7-9d7e-428a-8600-aa5e05a2580d\")) {\n",
       "                    Plotly.newPlot(\n",
       "                        '93af1ec7-9d7e-428a-8600-aa5e05a2580d',\n",
       "                        [{\"marker\": {\"color\": [0, 0, 0, 0, 0, 0, 0, 1, 0, 1, 0, 0, 0, 0, 0, 0, 0, 0, 1, 0, 0, 0, 0, 0, 0, 0, 0, 0, 0, 0, 0, 1, 0, 0, 0, 0, 0, 0, 0, 0, 0, 0, 0, 0, 0, 0, 0, 0, 0, 0, 0, 0, 0, 0, 0, 0, 0, 0, 1, 0, 0, 1, 1, 0, 0, 0, 1, 0, 1, 0, 0, 0, 0, 0, 0, 0, 0, 0, 0, 0, 0, 0, 0, 0, 0, 0, 0, 0, 0, 0, 0, 0, 0, 0, 1, 1, 0, 0, 0, 1, 0, 0, 0, 0, 0, 0, 0, 0, 0, 0, 0, 0, 0, 0, 0, 0, 0, 0, 0, 0, 0, 0, 0, 0, 0, 0, 0, 0, 0, 0, 1, 0, 0, 0, 0, 1, 1, 0, 0, 0, 0, 0, 0, 0, 0, 0, 0, 0, 0, 0, 0, 0, 0, 0, 0, 0, 0, 0, 0, 0, 0, 1, 0, 0, 0, 0, 0, 0, 0, 1, 0, 0, 0, 0, 0, 0, 0, 1, 0, 0, 0, 0, 0, 0, 0, 0, 0, 0, 0, 0, 0, 0, 0, 0, 0, 0, 0, 0, 0, 0, 0, 0, 0, 0, 0, 0, 0, 0, 0, 0, 0, 0, 0, 0, 1, 0, 0, 0, 0, 1, 0, 1, 0, 1, 1, 0, 1, 0, 0, 0, 0, 0, 0, 0, 0, 0, 0, 0, 0, 0, 0, 0, 0, 0, 0, 0, 0, 1, 0, 1, 0, 0, 0, 0, 0, 0, 0, 0, 0, 0, 1, 0, 0, 0, 0, 1, 0, 0, 0, 0, 0, 1, 0, 0, 0, 0, 0, 0, 0, 0, 0, 0, 0, 0, 0, 0, 0, 0, 0, 0, 0, 0, 0, 0, 0, 0, 0, 0, 0, 0, 0, 0, 0, 1, 1, 0, 0, 0, 0, 0, 0, 0, 0, 0, 0, 0, 0], \"colorscale\": [[0.0, \"#440154\"], [0.1111111111111111, \"#482878\"], [0.2222222222222222, \"#3e4989\"], [0.3333333333333333, \"#31688e\"], [0.4444444444444444, \"#26828e\"], [0.5555555555555556, \"#1f9e89\"], [0.6666666666666666, \"#35b779\"], [0.7777777777777778, \"#6ece58\"], [0.8888888888888888, \"#b5de2b\"], [1.0, \"#fde725\"]], \"size\": 10}, \"mode\": \"markers\", \"name\": \"z\", \"text\": [\"(10, 2, 2, 2, 2, 2)\", \"(10, 5, 4, 1)\", \"(8, 7, 3, 2)\", \"(8, 5, 4, 1, 1, 1)\", \"(9, 4, 3, 2, 1, 1)\", \"(13, 4, 3)\", \"(7, 5, 3, 3, 2)\", \"(11, 5, 3, 1)\", \"(8, 4, 3, 3, 1, 1)\", \"(10, 6, 4)\", \"(8, 6, 6)\", \"(9, 3, 2, 2, 2, 1, 1)\", \"(7, 6, 2, 2, 2, 1)\", \"(11, 2, 2, 2, 2, 1)\", \"(10, 2, 2, 2, 1, 1, 1, 1)\", \"(9, 5, 2, 2, 2)\", \"(13, 4, 2, 1)\", \"(7, 7, 4, 2)\", \"(11, 9)\", \"(7, 6, 2, 2, 1, 1, 1)\", \"(11, 4, 1, 1, 1, 1, 1)\", \"(14, 3, 3)\", \"(9, 3, 3, 2, 2, 1)\", \"(8, 5, 3, 2, 1, 1)\", \"(9, 4, 2, 2, 2, 1)\", \"(16, 2, 1, 1)\", \"(10, 2, 1, 1, 1, 1, 1, 1, 1, 1)\", \"(9, 4, 3, 3, 1)\", \"(8, 3, 3, 2, 2, 1, 1)\", \"(11, 4, 2, 1, 1, 1)\", \"(7, 6, 4, 2, 1)\", \"(13, 6, 1)\", \"(13, 2, 1, 1, 1, 1, 1)\", \"(12, 1, 1, 1, 1, 1, 1, 1, 1)\", \"(10, 9, 1)\", \"(12, 4, 2, 2)\", \"(11, 3, 2, 2, 1, 1)\", \"(6, 6, 3, 3, 1, 1)\", \"(10, 4, 4, 2)\", \"(8, 8, 4)\", \"(8, 7, 2, 2, 1)\", \"(8, 4, 4, 1, 1, 1, 1)\", \"(8, 6, 4, 1, 1)\", \"(9, 7, 1, 1, 1, 1)\", \"(12, 3, 2, 1, 1, 1)\", \"(9, 5, 2, 1, 1, 1, 1)\", \"(10, 3, 1, 1, 1, 1, 1, 1, 1)\", \"(11, 5, 1, 1, 1, 1)\", \"(9, 5, 4, 2)\", \"(13, 3, 2, 1, 1)\", \"(9, 8, 1, 1, 1)\", \"(15, 3, 2)\", \"(8, 6, 3, 2, 1)\", \"(18, 1, 1)\", \"(9, 4, 2, 1, 1, 1, 1, 1)\", \"(10, 2, 2, 2, 2, 1, 1)\", \"(8, 7, 5)\", \"(6, 4, 4, 3, 3)\", \"(14, 5, 1)\", \"(15, 1, 1, 1, 1, 1)\", \"(7, 4, 4, 2, 2, 1)\", \"(11, 8, 1)\", \"(10, 6, 3, 1)\", \"(10, 4, 3, 2, 1)\", \"(7, 7, 3, 2, 1)\", \"(8, 8, 2, 1, 1)\", \"(15, 5)\", \"(6, 4, 4, 4, 2)\", \"(10, 7, 3)\", \"(8, 4, 2, 2, 1, 1, 1, 1)\", \"(11, 2, 1, 1, 1, 1, 1, 1, 1)\", \"(11, 6, 1, 1, 1)\", \"(9, 5, 5, 1)\", \"(15, 3, 1, 1)\", \"(10, 3, 2, 2, 1, 1, 1)\", \"(6, 5, 4, 2, 2, 1)\", \"(8, 5, 3, 2, 2)\", \"(9, 6, 3, 1, 1)\", \"(7, 4, 4, 2, 1, 1, 1)\", \"(8, 3, 3, 3, 3)\", \"(11, 2, 2, 1, 1, 1, 1, 1)\", \"(6, 5, 4, 3, 1, 1)\", \"(12, 2, 1, 1, 1, 1, 1, 1)\", \"(10, 4, 4, 1, 1)\", \"(8, 6, 2, 2, 2)\", \"(9, 5, 1, 1, 1, 1, 1, 1)\", \"(7, 7, 2, 2, 1, 1)\", \"(5, 5, 5, 5)\", \"(9, 3, 3, 1, 1, 1, 1, 1)\", \"(9, 3, 2, 1, 1, 1, 1, 1, 1)\", \"(13, 5, 1, 1)\", \"(7, 6, 6, 1)\", \"(8, 8, 3, 1)\", \"(10, 6, 1, 1, 1, 1)\", \"(14, 4, 2)\", \"(13, 7)\", \"(10, 3, 2, 2, 2, 1)\", \"(9, 3, 2, 2, 2, 2)\", \"(7, 6, 3, 1, 1, 1, 1)\", \"(13, 5, 2)\", \"(6, 5, 4, 3, 2)\", \"(12, 4, 4)\", \"(6, 6, 4, 4)\", \"(7, 5, 3, 3, 1, 1)\", \"(10, 4, 2, 2, 1, 1)\", \"(8, 7, 4, 1)\", \"(12, 2, 2, 2, 2)\", \"(10, 5, 5)\", \"(7, 5, 4, 1, 1, 1, 1)\", \"(8, 3, 3, 2, 2, 2)\", \"(7, 7, 4, 1, 1)\", \"(8, 5, 5, 2)\", \"(9, 5, 4, 1, 1)\", \"(16, 2, 2)\", \"(5, 5, 4, 4, 2)\", \"(9, 6, 3, 2)\", \"(9, 2, 2, 2, 2, 2, 1)\", \"(7, 5, 4, 2, 1, 1)\", \"(14, 3, 1, 1, 1)\", \"(10, 2, 2, 1, 1, 1, 1, 1, 1)\", \"(9, 4, 1, 1, 1, 1, 1, 1, 1)\", \"(10, 3, 3, 2, 2)\", \"(7, 5, 2, 2, 2, 2)\", \"(9, 3, 3, 2, 1, 1, 1)\", \"(8, 6, 5, 1)\", \"(8, 5, 2, 2, 2, 1)\", \"(9, 4, 4, 2, 1)\", \"(12, 3, 1, 1, 1, 1, 1)\", \"(13, 3, 3, 1)\", \"(6, 5, 5, 2, 2)\", \"(18, 2)\", \"(10, 4, 3, 1, 1, 1)\", \"(13, 2, 2, 1, 1, 1)\", \"(8, 4, 4, 2, 1, 1)\", \"(9, 6, 2, 2, 1)\", \"(10, 8, 2)\", \"(12, 7, 1)\", \"(7, 5, 3, 2, 2, 1)\", \"(9, 8, 3)\", \"(7, 5, 4, 4)\", \"(7, 5, 5, 2, 1)\", \"(6, 6, 3, 2, 2, 1)\", \"(6, 4, 4, 4, 1, 1)\", \"(13, 1, 1, 1, 1, 1, 1, 1)\", \"(8, 5, 4, 3)\", \"(17, 1, 1, 1)\", \"(10, 7, 2, 1)\", \"(6, 6, 2, 2, 2, 2)\", \"(7, 4, 4, 4, 1)\", \"(7, 6, 3, 2, 1, 1)\", \"(8, 4, 4, 2, 2)\", \"(6, 5, 4, 4, 1)\", \"(8, 3, 3, 3, 2, 1)\", \"(9, 7, 2, 1, 1)\", \"(11, 7, 1, 1)\", \"(5, 5, 5, 4, 1)\", \"(6, 6, 5, 2, 1)\", \"(10, 5, 2, 1, 1, 1)\", \"(11, 4, 4, 1)\", \"(7, 5, 5, 3)\", \"(9, 4, 2, 2, 1, 1, 1)\", \"(12, 8)\", \"(11, 3, 2, 2, 2)\", \"(11, 1, 1, 1, 1, 1, 1, 1, 1, 1)\", \"(7, 6, 3, 3, 1)\", \"(7, 7, 3, 1, 1, 1)\", \"(11, 5, 4)\", \"(6, 6, 4, 3, 1)\", \"(12, 3, 2, 2, 1)\", \"(15, 4, 1)\", \"(7, 5, 3, 2, 1, 1, 1)\", \"(9, 9, 2)\", \"(12, 4, 2, 1, 1)\", \"(9, 4, 3, 1, 1, 1, 1)\", \"(6, 5, 5, 3, 1)\", \"(7, 6, 5, 1, 1)\", \"(12, 3, 3, 2)\", \"(16, 3, 1)\", \"(7, 3, 3, 3, 2, 2)\", \"(9, 5, 2, 2, 1, 1)\", \"(14, 2, 2, 1, 1)\", \"(8, 7, 2, 1, 1, 1)\", \"(11, 3, 3, 1, 1, 1)\", \"(6, 6, 3, 3, 2)\", \"(7, 5, 5, 1, 1, 1)\", \"(10, 4, 3, 3)\", \"(6, 6, 4, 2, 2)\", \"(14, 2, 1, 1, 1, 1)\", \"(10, 10)\", \"(8, 4, 3, 3, 2)\", \"(9, 4, 4, 1, 1, 1)\", \"(11, 2, 2, 2, 1, 1, 1)\", \"(6, 6, 6, 2)\", \"(11, 4, 3, 1, 1)\", \"(9, 6, 2, 1, 1, 1)\", \"(11, 3, 3, 2, 1)\", \"(5, 5, 5, 3, 2)\", \"(10, 3, 3, 2, 1, 1)\", \"(7, 4, 4, 3, 1, 1)\", \"(8, 6, 3, 3)\", \"(12, 4, 3, 1)\", \"(7, 5, 4, 3, 1)\", \"(8, 3, 3, 3, 1, 1, 1)\", \"(7, 4, 3, 2, 2, 2)\", \"(6, 6, 4, 2, 1, 1)\", \"(12, 2, 2, 1, 1, 1, 1)\", \"(7, 6, 4, 3)\", \"(10, 4, 1, 1, 1, 1, 1, 1)\", \"(6, 5, 5, 2, 1, 1)\", \"(7, 4, 4, 3, 2)\", \"(9, 7, 2, 2)\", \"(6, 6, 5, 3)\", \"(8, 5, 5, 1, 1)\", \"(10, 3, 3, 1, 1, 1, 1)\", \"(19, 1)\", \"(7, 7, 2, 1, 1, 1, 1)\", \"(8, 6, 2, 2, 1, 1)\", \"(13, 2, 2, 2, 1)\", \"(9, 8, 2, 1)\", \"(9, 7, 4)\", \"(12, 3, 3, 1, 1)\", \"(9, 6, 4, 1)\", \"(8, 6, 1, 1, 1, 1, 1, 1)\", \"(11, 6, 3)\", \"(11, 7, 2)\", \"(7, 4, 3, 3, 3)\", \"(14, 6)\", \"(10, 6, 2, 2)\", \"(13, 3, 1, 1, 1, 1)\", \"(10, 5, 3, 2)\", \"(9, 3, 2, 2, 1, 1, 1, 1)\", \"(15, 2, 2, 1)\", \"(7, 7, 5, 1)\", \"(10, 5, 3, 1, 1)\", \"(9, 6, 5)\", \"(8, 4, 2, 2, 2, 2)\", \"(12, 4, 1, 1, 1, 1)\", \"(8, 8, 2, 2)\", \"(9, 5, 3, 3)\", \"(8, 5, 2, 1, 1, 1, 1, 1)\", \"(8, 8, 1, 1, 1, 1)\", \"(14, 2, 2, 2)\", \"(8, 7, 1, 1, 1, 1, 1)\", \"(9, 5, 3, 1, 1, 1)\", \"(7, 7, 6)\", \"(15, 2, 1, 1, 1)\", \"(8, 5, 2, 2, 1, 1, 1)\", \"(12, 5, 3)\", \"(7, 5, 2, 2, 2, 1, 1)\", \"(9, 7, 3, 1)\", \"(11, 5, 2, 1, 1)\", \"(9, 3, 3, 3, 1, 1)\", \"(9, 4, 4, 3)\", \"(16, 1, 1, 1, 1)\", \"(8, 2, 2, 2, 2, 2, 2)\", \"(12, 6, 1, 1)\", \"(9, 3, 3, 3, 2)\", \"(12, 5, 2, 1)\", \"(11, 3, 2, 1, 1, 1, 1)\", \"(8, 3, 2, 2, 2, 2, 1)\", \"(20,)\", \"(6, 5, 5, 4)\", \"(10, 5, 2, 2, 1)\", \"(7, 6, 5, 2)\", \"(14, 3, 2, 1)\", \"(17, 3)\", \"(9, 4, 3, 2, 2)\", \"(6, 6, 5, 1, 1, 1)\", \"(11, 5, 2, 2)\", \"(10, 3, 3, 3, 1)\", \"(8, 4, 3, 2, 2, 1)\", \"(16, 4)\", \"(10, 3, 2, 1, 1, 1, 1, 1)\", \"(8, 6, 3, 1, 1, 1)\", \"(8, 7, 3, 1, 1)\", \"(9, 2, 2, 2, 2, 1, 1, 1)\", \"(9, 9, 1, 1)\", \"(7, 7, 3, 3)\", \"(11, 4, 2, 2, 1)\", \"(8, 5, 3, 3, 1)\", \"(8, 4, 3, 2, 1, 1, 1)\", \"(11, 4, 3, 2)\", \"(10, 6, 2, 1, 1)\", \"(9, 5, 3, 2, 1)\", \"(7, 6, 4, 1, 1, 1)\", \"(8, 4, 4, 3, 1)\", \"(10, 4, 2, 2, 2)\", \"(14, 4, 1, 1)\", \"(11, 3, 1, 1, 1, 1, 1, 1)\", \"(12, 5, 1, 1, 1)\", \"(13, 4, 1, 1, 1)\", \"(13, 3, 2, 2)\", \"(11, 3, 3, 3)\", \"(8, 4, 3, 1, 1, 1, 1, 1)\", \"(7, 4, 3, 3, 2, 1)\", \"(7, 5, 4, 2, 2)\", \"(6, 5, 3, 3, 3)\", \"(7, 3, 3, 3, 3, 1)\", \"(9, 6, 1, 1, 1, 1, 1)\", \"(17, 2, 1)\", \"(8, 5, 4, 2, 1)\", \"(10, 5, 1, 1, 1, 1, 1)\", \"(8, 5, 3, 1, 1, 1, 1)\", \"(8, 6, 4, 2)\", \"(12, 6, 2)\", \"(11, 6, 2, 1)\", \"(14, 1, 1, 1, 1, 1, 1)\", \"(10, 7, 1, 1, 1)\", \"(10, 4, 2, 1, 1, 1, 1)\", \"(10, 8, 1, 1)\", \"(7, 6, 3, 2, 2)\", \"(7, 7, 2, 2, 2)\", \"(12, 2, 2, 2, 1, 1)\", \"(8, 4, 4, 4)\", \"(8, 4, 2, 2, 2, 1, 1)\", \"(6, 6, 6, 1, 1)\", \"(8, 6, 2, 1, 1, 1, 1)\"], \"type\": \"scatter3d\", \"x\": [-0.08414801955223083, 0.658948540687561, 0.3072279691696167, 0.16108253598213196, 0.46688908338546753, 1.3393197059631348, -1.024048924446106, 1.1348073482513428, -0.3909473419189453, 0.7300175428390503, -0.505305826663971, -0.03394566476345062, -0.19650712609291077, 0.5814591646194458, 0.2565462291240692, 0.2676537334918976, 1.4541988372802734, -0.19538268446922302, 0.8768597841262817, 0.06317567825317383, 0.9855673909187317, 1.2224409580230713, -0.013105522841215134, 0.223922997713089, 0.2077060043811798, 0.966526210308075, -0.38177287578582764, -0.08597534149885178, -0.4546803832054138, 1.2518022060394287, -0.25167885422706604, 1.4553416967391968, 0.9935773611068726, 0.2743542492389679, 0.6817907094955444, 1.2762014865875244, 1.014697790145874, -0.7601125836372375, 0.5099195241928101, 0.17498314380645752, 0.47024092078208923, -0.012572482228279114, 0.19758117198944092, 0.8305134773254395, 1.31229829788208, 0.6556774377822876, 0.008129879832267761, 1.211923360824585, 0.25665560364723206, 1.3649513721466064, 0.673076331615448, 1.2466294765472412, 0.27469074726104736, 0.44420304894447327, 0.3478792905807495, 0.14927023649215698, -0.12622427940368652, -1.8778001070022583, 1.3725817203521729, 0.9667061567306519, -0.7385062575340271, 1.0830724239349365, 0.9618662595748901, 0.750775933265686, 0.06700680404901505, 0.4894261956214905, 1.2718185186386108, -2.06744384765625, 0.991884171962738, -0.06032289192080498, 0.15921157598495483, 1.2471535205841064, -0.029975783079862595, 1.1526671648025513, 0.5929520726203918, -0.9626283645629883, -0.20861828327178955, 0.7556897401809692, -0.46352285146713257, -1.2210501432418823, 0.6376028060913086, -1.1128873825073242, 0.7175522446632385, 0.6790424585342407, 0.0547022745013237, 0.32958120107650757, 0.21449697017669678, -2.380347728729248, 0.13536396622657776, -0.1264149248600006, 1.3825623989105225, -0.8293476104736328, 0.3683297038078308, 1.0494933128356934, 1.4307465553283691, 1.4161722660064697, 0.39064836502075195, -0.26640528440475464, 0.09577805548906326, 1.4717049598693848, -1.5221328735351562, 1.0461885929107666, -1.5772571563720703, -0.6051244139671326, 0.8696353435516357, 0.23719415068626404, 0.7646421194076538, 0.25445374846458435, -0.22624751925468445, -0.7123959064483643, 0.0056845881044864655, -0.4745098054409027, 0.4471702575683594, 1.0582609176635742, -2.1241114139556885, 0.5594235062599182, -0.46126019954681396, -0.30399858951568604, 1.2430293560028076, -0.008487842977046967, -0.1336551010608673, 0.27756810188293457, -0.6989835500717163, 0.2308555543422699, -0.252681702375412, -0.05166061222553253, 0.252010703086853, 1.0615410804748535, 1.2405552864074707, -1.3472576141357422, 0.5072864890098572, 0.9012857675552368, 1.2486203908920288, -0.06032523512840271, 0.736168622970581, 0.9616757035255432, 1.3960750102996826, -0.4774940609931946, 0.6608315706253052, -1.4425171613693237, -0.7319010496139526, -0.6204623579978943, -1.6905006170272827, 0.6772276163101196, -0.5666327476501465, 0.6707672476768494, 1.0747398138046265, -0.8420790433883667, -1.4610741138458252, 0.033373333513736725, -0.4855225086212158, -1.730520248413086, -0.8484832048416138, 0.9117541313171387, 1.2082624435424805, -2.1186912059783936, -0.9005252718925476, 1.056875467300415, 0.8661168813705444, -1.2294318675994873, 0.4424516558647156, 1.2333388328552246, 0.6755144596099854, -0.20494285225868225, -0.5251548886299133, 0.27384012937545776, 0.8992291688919067, -1.014582872390747, 1.1849935054779053, 1.2705988883972168, -0.18445906043052673, 0.5505307912826538, 1.4180006980895996, 0.4766620397567749, -1.4992880821228027, -0.4692685008049011, 1.0518836975097656, 1.083951473236084, -1.416931390762329, 0.6614402532577515, 1.2445693016052246, 0.6437976360321045, 1.0507904291152954, -1.1744310855865479, -0.4907347559928894, 0.2175939679145813, -0.8501287698745728, 1.1411502361297607, 0.534697413444519, -0.7990100383758545, 0.4209151864051819, 0.7441937923431396, -1.2400217056274414, 1.1462700366973877, 0.9062139987945557, 0.8925563097000122, -1.9328067302703857, 0.6538980007171631, -0.8589186668395996, -0.2545052468776703, 1.2751731872558594, -0.8586863279342651, -0.5687392950057983, -0.903885006904602, -0.4625999331474304, 1.0632950067520142, -0.7643016576766968, 0.48462074995040894, -0.9587193727493286, -1.2609127759933472, 0.720917284488678, -1.3879342079162598, -0.27831947803497314, 0.6276648640632629, 0.3980821371078491, 0.2601066529750824, 0.4567921757698059, 1.1283290386199951, 0.7387958765029907, 0.538372814655304, 1.197778582572937, 0.4710689187049866, 0.15688899159431458, 1.1887969970703125, 1.3020401000976562, -1.4193756580352783, 1.3974666595458984, 0.9358392357826233, 1.263495922088623, 0.776715099811554, 0.11293508857488632, 1.141553521156311, -0.41853082180023193, 0.9357802867889404, 0.07299817353487015, -0.486383855342865, 1.3190937042236328, 0.33834752440452576, -0.007391005754470825, 0.15312212705612183, 0.44260790944099426, 1.1367549896240234, 0.3961835503578186, 0.692955732345581, -0.644431471824646, 1.0185720920562744, 0.21506661176681519, 1.2957030534744263, -0.4498946964740753, 0.7455301284790039, 1.2836692333221436, -0.14757966995239258, -0.2640256881713867, 0.881122350692749, -0.65190589427948, 1.3833582401275635, -0.5453863143920898, 1.4109135866165161, 0.9755517244338989, -0.6602946519851685, 0.3285023868083954, -2.0282180309295654, 0.916818380355835, -0.6709595918655396, 1.3397862911224365, 0.8446087837219238, 0.06875666230916977, -0.6601392030715942, 1.1215767860412598, 0.11554373055696487, -0.24838128685951233, 1.1632510423660278, 0.4672095775604248, 0.49329161643981934, 0.4980829358100891, -0.29228007793426514, 0.420738160610199, -0.4450171887874603, 1.1230417490005493, -0.34180721640586853, 0.030806049704551697, 0.9822026491165161, 1.1110471487045288, 0.5275803804397583, -0.020002353936433792, -0.6193256974220276, 0.5085676908493042, 1.3505862951278687, 0.6380077600479126, 1.3596794605255127, 1.3661941289901733, 1.238289713859558, 0.36874186992645264, -0.046476878225803375, -1.042830228805542, -0.7102168798446655, -1.6546529531478882, -1.4307763576507568, 0.656150221824646, 0.7344349026679993, -0.03620704263448715, 0.8144592046737671, 0.2551119923591614, 0.009426336735486984, 1.4657491445541382, 1.2881958484649658, 0.9390335083007812, 1.0300151109695435, 0.8348743915557861, 0.8573723435401917, -0.38201677799224854, -0.1501798927783966, 1.0926704406738281, -1.1519474983215332, -0.23601317405700684, -1.0342328548431396, 0.4738856554031372], \"y\": [-1.5432385206222534, 0.5310615301132202, 0.6203399896621704, -0.3217511475086212, -0.8355374336242676, 0.7325142025947571, -0.7047847509384155, 0.4217621982097626, -0.9764021635055542, 1.1437525749206543, 1.6213626861572266, -1.593471646308899, -0.7632178068161011, -1.2543233633041382, -1.660906434059143, -0.5022626519203186, 0.3487810790538788, 0.7376514077186584, 2.4446933269500732, -0.7679687738418579, -0.7793253660202026, 0.691943347454071, -1.3037196397781372, -0.6609616875648499, -1.121273398399353, 0.2670935094356537, -1.776661992073059, -0.5302861928939819, -1.6320520639419556, -0.560235857963562, 0.07720848172903061, 1.3899096250534058, -0.988916277885437, -1.5578337907791138, 2.2634494304656982, 0.16387680172920227, -0.9063172340393066, -0.5310871601104736, 0.19255183637142181, 1.7188267707824707, 0.19062279164791107, -0.8730430006980896, 0.2605651915073395, 0.11218574643135071, -0.6915483474731445, -0.75827956199646, -1.6004289388656616, -0.21393661201000214, 0.35392144322395325, -0.2448519915342331, 0.9480187892913818, 0.7811450958251953, -0.05672076344490051, 0.8030361533164978, -1.2380810976028442, -1.6389580965042114, 1.6153517961502075, -0.8960084319114685, 1.3183226585388184, -0.46466806530952454, -1.0609804391860962, 1.8451800346374512, 0.5958642959594727, -0.37229499220848083, 0.136630579829216, 0.7930490374565125, 1.6173914670944214, -0.6596851348876953, 1.223854422569275, -1.4311598539352417, -1.6459685564041138, 0.37683382630348206, 0.8263846039772034, 0.49432840943336487, -1.2890305519104004, -0.8271496295928955, -0.5717281699180603, 0.13244123756885529, -1.0698953866958618, -1.1678231954574585, -1.487375259399414, -0.5880218744277954, -1.3332993984222412, -0.07528381049633026, -0.3383246958255768, -0.8745844960212708, -0.2669890224933624, 0.708920955657959, -1.4394677877426147, -1.6936672925949097, 0.75826096534729, 1.2095311880111694, 1.2158207893371582, -0.06650000810623169, 0.9183010458946228, 1.816595435142517, -1.2349172830581665, -1.5165818929672241, -0.5876411199569702, 1.003521203994751, -0.5060635805130005, 0.7628515958786011, 0.5655869245529175, -0.7835173606872559, -0.7665554881095886, 0.9258701205253601, -0.8014052510261536, 1.2549327611923218, -0.642086386680603, -1.598404884338379, 0.4768677353858948, 0.6670416593551636, 0.1069391518831253, 0.549237847328186, -0.36004117131233215, 0.39534780383110046, -1.8455246686935425, -0.5475230813026428, -0.014239175245165825, -1.7877353429794312, -1.3948352336883545, -0.8332110643386841, -1.2238928079605103, -1.3265389204025269, 1.0319164991378784, -0.987047016620636, -0.27362260222435, -0.9268772602081299, 0.13866671919822693, -0.11907199025154114, 1.0428177118301392, -0.6124525666236877, -0.738500714302063, -0.7318357229232788, -0.00795760564506054, 1.6418079137802124, 1.5174401998519897, -1.0152602195739746, 1.5979958772659302, 0.3242599666118622, 0.18474136292934418, -0.7546236515045166, -0.728973925113678, -1.2338377237319946, 0.27379974722862244, 0.228433758020401, 0.826339602470398, -0.9645717144012451, -0.38066235184669495, -0.4909984767436981, -0.6384497284889221, -0.1178448349237442, -1.427847981452942, 0.35682013630867004, 1.0369865894317627, 0.23761911690235138, 0.4085465371608734, -0.41727033257484436, 0.3360573351383209, 0.5805023312568665, -1.1403522491455078, 2.0760891437530518, -0.7650349736213684, -1.7306749820709229, -0.15828578174114227, -0.09148932993412018, 0.9547328948974609, 0.031012551859021187, -0.43535009026527405, 1.1384779214859009, -1.0031319856643677, 2.0418474674224854, -0.09754994511604309, -0.9970173835754395, 0.12648259103298187, 0.5790290236473083, -0.04476073384284973, 0.8500754833221436, -1.587557077407837, -0.6196867227554321, -0.2663867175579071, -0.05530281364917755, -0.7556488513946533, -0.4488012492656708, -0.043219029903411865, -0.03690627962350845, -0.2081574946641922, -0.5438810586929321, 2.7174108028411865, -0.8795647621154785, -0.5035489797592163, -1.350225567817688, 1.0226287841796875, -0.16964052617549896, -0.23607969284057617, -0.5154386758804321, -0.147405207157135, -0.9532759189605713, -0.8415732383728027, 0.33507609367370605, 0.2669258117675781, -0.20689989626407623, -1.423496127128601, -1.4508038759231567, -0.2910221815109253, -1.1537997722625732, 0.4621048867702484, -1.1032607555389404, -0.19312506914138794, -0.7667471766471863, 0.6438659429550171, 0.7912883162498474, 0.39301884174346924, -1.1344685554504395, 1.0891108512878418, -0.3761548101902008, -0.4547031819820404, -0.49738821387290955, 1.2238103151321411, 1.3227430582046509, -0.3152390420436859, 0.7056512832641602, -0.6884027719497681, 1.02376127243042, 1.2574166059494019, -1.0515741109848022, 1.742177128791809, 0.44280409812927246, -0.5037376284599304, 0.2436230480670929, -1.5706489086151123, 0.21809053421020508, 1.212222695350647, -0.01916479878127575, 1.4225445985794067, -1.4337188005447388, -0.36543622612953186, 1.0800405740737915, 0.1524205356836319, -1.041943907737732, 0.5307056307792664, 0.02477833814918995, -0.1982172578573227, -0.44827091693878174, 1.7456293106079102, -0.09854872524738312, -0.9771791696548462, 0.8689234256744385, -1.3003361225128174, 0.7895203232765198, 0.026835346594452858, -1.0843299627304077, 0.057882100343704224, -0.1698736995458603, -1.8541367053985596, 0.87300044298172, -0.9804251790046692, 0.48968687653541565, -1.103587031364441, -1.7984269857406616, 1.111214518547058, 0.6019149422645569, -0.17261014878749847, 0.8493497967720032, 0.3070340156555176, 1.0367207527160645, -0.7279894948005676, 0.19602814316749573, 0.281523734331131, -0.6439205408096313, -1.2036062479019165, 1.2652100324630737, -1.438585877418518, -0.2814513146877289, 0.3405235707759857, -1.8428901433944702, 1.8265613317489624, 0.5348553657531738, -0.3044795095920563, -0.33775511384010315, -1.1967729330062866, 0.0785161703824997, 0.16673608124256134, -0.21464158594608307, -0.14605647325515747, -0.418430894613266, -0.644010603427887, 0.6535432934761047, -1.2694348096847534, 0.2323680967092514, 0.07953809201717377, 0.025981636717915535, -0.18813395500183105, -1.2750325202941895, -1.2856389284133911, -0.4435370862483978, -0.8108057975769043, -1.4686132669448853, -0.4027564823627472, 0.658786952495575, -0.09394538402557373, -0.5866549015045166, -0.7963701486587524, 0.5292545557022095, 1.0929239988327026, 0.632733941078186, -0.8554885387420654, 0.5511293411254883, -0.9568536877632141, 1.4188345670700073, -0.39494583010673523, -0.1451423019170761, -0.9464765787124634, 0.09337793290615082, -1.4963407516479492, 0.7758757472038269, -0.570448637008667], \"z\": [-0.6519376039505005, 0.33987686038017273, 1.2351036071777344, 0.9253566265106201, 0.4331045150756836, -0.7416691780090332, 0.9547860026359558, 0.02502164989709854, 0.5384643077850342, 0.44494909048080444, 1.0190670490264893, -0.12493989616632462, 1.161489486694336, -0.7547534704208374, -0.7665459513664246, 0.4909067749977112, -0.7263322472572327, 1.4830317497253418, -0.10234146565198898, 1.104642391204834, -0.3947484791278839, -1.138744592666626, 0.07209240645170212, 0.9353800415992737, 0.2554641664028168, -1.9900087118148804, -1.4439289569854736, 0.28053197264671326, 0.1700451672077179, -0.1568746268749237, 1.4358866214752197, -0.5352612137794495, -1.3975305557250977, -1.8247621059417725, 0.25148406624794006, -0.5138087868690491, -0.42042839527130127, 1.4010803699493408, 0.07906174659729004, 1.1114122867584229, 1.1829278469085693, 0.4991646409034729, 1.1547973155975342, 0.7858602404594421, -0.6564912796020508, 0.45619574189186096, -0.9203593134880066, -0.060844309628009796, 0.6336845755577087, -0.9158341288566589, 0.8170994520187378, -1.4087337255477905, 1.158606767654419, -2.621126651763916, -0.07476465404033661, -0.5848897099494934, 1.1876887083053589, 0.641671895980835, -0.9161137938499451, -1.910323143005371, 0.8138429522514343, 0.09284935146570206, 0.5147271752357483, 0.14793327450752258, 1.5162379741668701, 1.1380845308303833, -1.1845518350601196, 0.8234178423881531, 0.5550625920295715, 0.13452725112438202, -1.42486572265625, 0.1134657934308052, 0.7248899936676025, -1.4629979133605957, -0.2541094124317169, 1.2141168117523193, 0.8230968117713928, 0.8656149506568909, 0.758769690990448, -0.01702750474214554, -1.0117181539535522, 1.2079685926437378, -1.3992393016815186, 0.15594185888767242, 0.95191890001297, 0.03232501074671745, 1.3827463388442993, 1.1245001554489136, -0.23379071056842804, -0.5600923895835876, -0.6194406747817993, 1.360971212387085, 1.169191837310791, 0.40601009130477905, -1.007370948791504, -0.49753376841545105, -0.24356256425380707, -0.1874268800020218, 1.1604893207550049, -0.6094098687171936, 1.131408452987671, -0.4964044988155365, 1.342536449432373, 1.0453007221221924, 0.12167631834745407, 1.2392072677612305, -1.0254015922546387, 0.341464102268219, 0.9926376938819885, 0.11186971515417099, 1.512392520904541, 1.0104044675827026, 0.6818954348564148, -1.917251467704773, 1.0817310810089111, 0.8385418057441711, -0.5175137519836426, 1.1942211389541626, -1.2377068996429443, -1.0170245170593262, -0.47267022728919983, -0.1939438134431839, 0.7357873320579529, 0.042473889887332916, 1.1998872756958008, 0.7394751310348511, 0.43162861466407776, -0.893406867980957, -0.8797271847724915, 1.343913197517395, -2.5170998573303223, 0.17472536861896515, -1.1447912454605103, 0.6971720457077026, 0.8034277558326721, 0.49860724806785583, -0.18083900213241577, 1.0626468658447266, 0.841555655002594, 1.003961205482483, 1.3085384368896484, 1.4063470363616943, 0.8947623372077942, -1.8269658088684082, 0.7859990000724792, -2.384537696838379, 0.5725398659706116, 1.049189805984497, 0.7821678519248962, 1.3780525922775269, 0.5674081444740295, 1.178794503211975, 0.20588111877441406, 0.9046962857246399, 0.16124115884304047, 1.242133378982544, 1.6569427251815796, 0.3418005406856537, -0.18168480694293976, 1.1556904315948486, 0.2389083355665207, -0.21582922339439392, -0.5463588833808899, -1.8421955108642578, 1.2907869815826416, 1.4173154830932617, -0.04706033319234848, 1.4666941165924072, -0.6772982478141785, -1.3088021278381348, 1.006904125213623, 0.5882084369659424, -0.43013662099838257, 0.28091949224472046, 1.3493678569793701, 1.483137845993042, -0.6553695797920227, -1.805521011352539, 0.27718502283096313, 0.6163036227226257, -1.3733127117156982, 1.1098741292953491, -0.34746095538139343, 1.328568696975708, 1.2290118932724, -0.04718363657593727, 1.4643512964248657, -1.5011496543884277, -0.043577127158641815, 0.43229612708091736, 0.423716276884079, -0.7701882123947144, 1.5226011276245117, -0.13482265174388885, 0.7569228410720825, -0.37287670373916626, 1.231149673461914, -0.07867313921451569, 0.8045892119407654, 0.9871802926063538, -0.42539867758750916, 1.1003025770187378, 0.14703363180160522, 0.5693215131759644, 1.5438683032989502, -0.9966196417808533, 1.2725197076797485, -0.4353786110877991, 1.4161949157714844, 0.7156804203987122, 0.8692144751548767, 1.4853662252426147, 1.038904070854187, -0.18223358690738678, -2.7625341415405273, 1.1578819751739502, 1.0467084646224976, -1.1505411863327026, 0.8485668301582336, 0.8711490035057068, -0.5970447659492493, 0.8364656567573547, 0.4092065691947937, 0.12554912269115448, 0.16945776343345642, 0.4487673342227936, -0.8358879089355469, 0.43377766013145447, -1.0299503803253174, 0.3130238950252533, -0.29834017157554626, -1.6135032176971436, 1.5036842823028564, 0.3975696563720703, 0.8178802132606506, 0.2860749661922455, -0.5286690592765808, 1.1051454544067383, 0.48111385107040405, 0.35867640376091003, 1.0188395977020264, -1.408036708831787, 0.867022693157196, 0.6658441424369812, 1.2962177991867065, -1.7098655700683594, 0.6884527206420898, -0.296951562166214, 0.798583984375, 0.9516963362693787, 0.02659442275762558, 0.05397190898656845, 0.252727746963501, -2.101621150970459, -0.32020053267478943, -0.20633217692375183, -0.03446970880031586, -0.2796321213245392, -0.5185514688491821, -0.07657808810472488, -2.5796494483947754, 1.2280405759811401, 0.3224523663520813, 1.4517674446105957, -1.145946741104126, -2.100889205932617, 0.306247740983963, 1.5829432010650635, -0.06878172606229782, -0.20701411366462708, 0.5586515069007874, -1.6129956245422363, -0.5181530117988586, 1.0982756614685059, 1.2508898973464966, -0.6287567019462585, 0.6094531416893005, 1.3317484855651855, -0.20136377215385437, 0.8091874122619629, 0.5007349848747253, -0.20818495750427246, 0.4969160258769989, 0.6782134175300598, 1.35819673538208, 0.571360170841217, -0.01683727651834488, -1.0369298458099365, -0.9295912384986877, -0.3211713433265686, -0.7973784804344177, -0.9570179581642151, -0.5405656695365906, 0.1725439429283142, 0.6740121245384216, 1.0971660614013672, 0.849439799785614, 0.21869955956935883, 0.5249893069267273, -2.3109092712402344, 0.9621366858482361, 0.11609571427106857, 0.743098795413971, 1.1368517875671387, -0.19808217883110046, 0.1263311207294464, -1.779163122177124, 0.5440132021903992, 0.002956538461148739, 0.4819762408733368, 1.296296238899231, 1.3217203617095947, -0.90687495470047, 0.4979977607727051, 0.3254295587539673, 1.5407062768936157, 0.8300735354423523]}],\n",
       "                        {\"autosize\": false, \"height\": 1000, \"template\": {\"data\": {\"bar\": [{\"error_x\": {\"color\": \"#2a3f5f\"}, \"error_y\": {\"color\": \"#2a3f5f\"}, \"marker\": {\"line\": {\"color\": \"#E5ECF6\", \"width\": 0.5}}, \"type\": \"bar\"}], \"barpolar\": [{\"marker\": {\"line\": {\"color\": \"#E5ECF6\", \"width\": 0.5}}, \"type\": \"barpolar\"}], \"carpet\": [{\"aaxis\": {\"endlinecolor\": \"#2a3f5f\", \"gridcolor\": \"white\", \"linecolor\": \"white\", \"minorgridcolor\": \"white\", \"startlinecolor\": \"#2a3f5f\"}, \"baxis\": {\"endlinecolor\": \"#2a3f5f\", \"gridcolor\": \"white\", \"linecolor\": \"white\", \"minorgridcolor\": \"white\", \"startlinecolor\": \"#2a3f5f\"}, \"type\": \"carpet\"}], \"choropleth\": [{\"colorbar\": {\"outlinewidth\": 0, \"ticks\": \"\"}, \"type\": \"choropleth\"}], \"contour\": [{\"colorbar\": {\"outlinewidth\": 0, \"ticks\": \"\"}, \"colorscale\": [[0.0, \"#0d0887\"], [0.1111111111111111, \"#46039f\"], [0.2222222222222222, \"#7201a8\"], [0.3333333333333333, \"#9c179e\"], [0.4444444444444444, \"#bd3786\"], [0.5555555555555556, \"#d8576b\"], [0.6666666666666666, \"#ed7953\"], [0.7777777777777778, \"#fb9f3a\"], [0.8888888888888888, \"#fdca26\"], [1.0, \"#f0f921\"]], \"type\": \"contour\"}], \"contourcarpet\": [{\"colorbar\": {\"outlinewidth\": 0, \"ticks\": \"\"}, \"type\": \"contourcarpet\"}], \"heatmap\": [{\"colorbar\": {\"outlinewidth\": 0, \"ticks\": \"\"}, \"colorscale\": [[0.0, \"#0d0887\"], [0.1111111111111111, \"#46039f\"], [0.2222222222222222, \"#7201a8\"], [0.3333333333333333, \"#9c179e\"], [0.4444444444444444, \"#bd3786\"], [0.5555555555555556, \"#d8576b\"], [0.6666666666666666, \"#ed7953\"], [0.7777777777777778, \"#fb9f3a\"], [0.8888888888888888, \"#fdca26\"], [1.0, \"#f0f921\"]], \"type\": \"heatmap\"}], \"heatmapgl\": [{\"colorbar\": {\"outlinewidth\": 0, \"ticks\": \"\"}, \"colorscale\": [[0.0, \"#0d0887\"], [0.1111111111111111, \"#46039f\"], [0.2222222222222222, \"#7201a8\"], [0.3333333333333333, \"#9c179e\"], [0.4444444444444444, \"#bd3786\"], [0.5555555555555556, \"#d8576b\"], [0.6666666666666666, \"#ed7953\"], [0.7777777777777778, \"#fb9f3a\"], [0.8888888888888888, \"#fdca26\"], [1.0, \"#f0f921\"]], \"type\": \"heatmapgl\"}], \"histogram\": [{\"marker\": {\"colorbar\": {\"outlinewidth\": 0, \"ticks\": \"\"}}, \"type\": \"histogram\"}], \"histogram2d\": [{\"colorbar\": {\"outlinewidth\": 0, \"ticks\": \"\"}, \"colorscale\": [[0.0, \"#0d0887\"], [0.1111111111111111, \"#46039f\"], [0.2222222222222222, \"#7201a8\"], [0.3333333333333333, \"#9c179e\"], [0.4444444444444444, \"#bd3786\"], [0.5555555555555556, \"#d8576b\"], [0.6666666666666666, \"#ed7953\"], [0.7777777777777778, \"#fb9f3a\"], [0.8888888888888888, \"#fdca26\"], [1.0, \"#f0f921\"]], \"type\": \"histogram2d\"}], \"histogram2dcontour\": [{\"colorbar\": {\"outlinewidth\": 0, \"ticks\": \"\"}, \"colorscale\": [[0.0, \"#0d0887\"], [0.1111111111111111, \"#46039f\"], [0.2222222222222222, \"#7201a8\"], [0.3333333333333333, \"#9c179e\"], [0.4444444444444444, \"#bd3786\"], [0.5555555555555556, \"#d8576b\"], [0.6666666666666666, \"#ed7953\"], [0.7777777777777778, \"#fb9f3a\"], [0.8888888888888888, \"#fdca26\"], [1.0, \"#f0f921\"]], \"type\": \"histogram2dcontour\"}], \"mesh3d\": [{\"colorbar\": {\"outlinewidth\": 0, \"ticks\": \"\"}, \"type\": \"mesh3d\"}], \"parcoords\": [{\"line\": {\"colorbar\": {\"outlinewidth\": 0, \"ticks\": \"\"}}, \"type\": \"parcoords\"}], \"scatter\": [{\"marker\": {\"colorbar\": {\"outlinewidth\": 0, \"ticks\": \"\"}}, \"type\": \"scatter\"}], \"scatter3d\": [{\"line\": {\"colorbar\": {\"outlinewidth\": 0, \"ticks\": \"\"}}, \"marker\": {\"colorbar\": {\"outlinewidth\": 0, \"ticks\": \"\"}}, \"type\": \"scatter3d\"}], \"scattercarpet\": [{\"marker\": {\"colorbar\": {\"outlinewidth\": 0, \"ticks\": \"\"}}, \"type\": \"scattercarpet\"}], \"scattergeo\": [{\"marker\": {\"colorbar\": {\"outlinewidth\": 0, \"ticks\": \"\"}}, \"type\": \"scattergeo\"}], \"scattergl\": [{\"marker\": {\"colorbar\": {\"outlinewidth\": 0, \"ticks\": \"\"}}, \"type\": \"scattergl\"}], \"scattermapbox\": [{\"marker\": {\"colorbar\": {\"outlinewidth\": 0, \"ticks\": \"\"}}, \"type\": \"scattermapbox\"}], \"scatterpolar\": [{\"marker\": {\"colorbar\": {\"outlinewidth\": 0, \"ticks\": \"\"}}, \"type\": \"scatterpolar\"}], \"scatterpolargl\": [{\"marker\": {\"colorbar\": {\"outlinewidth\": 0, \"ticks\": \"\"}}, \"type\": \"scatterpolargl\"}], \"scatterternary\": [{\"marker\": {\"colorbar\": {\"outlinewidth\": 0, \"ticks\": \"\"}}, \"type\": \"scatterternary\"}], \"surface\": [{\"colorbar\": {\"outlinewidth\": 0, \"ticks\": \"\"}, \"colorscale\": [[0.0, \"#0d0887\"], [0.1111111111111111, \"#46039f\"], [0.2222222222222222, \"#7201a8\"], [0.3333333333333333, \"#9c179e\"], [0.4444444444444444, \"#bd3786\"], [0.5555555555555556, \"#d8576b\"], [0.6666666666666666, \"#ed7953\"], [0.7777777777777778, \"#fb9f3a\"], [0.8888888888888888, \"#fdca26\"], [1.0, \"#f0f921\"]], \"type\": \"surface\"}], \"table\": [{\"cells\": {\"fill\": {\"color\": \"#EBF0F8\"}, \"line\": {\"color\": \"white\"}}, \"header\": {\"fill\": {\"color\": \"#C8D4E3\"}, \"line\": {\"color\": \"white\"}}, \"type\": \"table\"}]}, \"layout\": {\"annotationdefaults\": {\"arrowcolor\": \"#2a3f5f\", \"arrowhead\": 0, \"arrowwidth\": 1}, \"colorscale\": {\"diverging\": [[0, \"#8e0152\"], [0.1, \"#c51b7d\"], [0.2, \"#de77ae\"], [0.3, \"#f1b6da\"], [0.4, \"#fde0ef\"], [0.5, \"#f7f7f7\"], [0.6, \"#e6f5d0\"], [0.7, \"#b8e186\"], [0.8, \"#7fbc41\"], [0.9, \"#4d9221\"], [1, \"#276419\"]], \"sequential\": [[0.0, \"#0d0887\"], [0.1111111111111111, \"#46039f\"], [0.2222222222222222, \"#7201a8\"], [0.3333333333333333, \"#9c179e\"], [0.4444444444444444, \"#bd3786\"], [0.5555555555555556, \"#d8576b\"], [0.6666666666666666, \"#ed7953\"], [0.7777777777777778, \"#fb9f3a\"], [0.8888888888888888, \"#fdca26\"], [1.0, \"#f0f921\"]], \"sequentialminus\": [[0.0, \"#0d0887\"], [0.1111111111111111, \"#46039f\"], [0.2222222222222222, \"#7201a8\"], [0.3333333333333333, \"#9c179e\"], [0.4444444444444444, \"#bd3786\"], [0.5555555555555556, \"#d8576b\"], [0.6666666666666666, \"#ed7953\"], [0.7777777777777778, \"#fb9f3a\"], [0.8888888888888888, \"#fdca26\"], [1.0, \"#f0f921\"]]}, \"colorway\": [\"#636efa\", \"#EF553B\", \"#00cc96\", \"#ab63fa\", \"#FFA15A\", \"#19d3f3\", \"#FF6692\", \"#B6E880\", \"#FF97FF\", \"#FECB52\"], \"font\": {\"color\": \"#2a3f5f\"}, \"geo\": {\"bgcolor\": \"white\", \"lakecolor\": \"white\", \"landcolor\": \"#E5ECF6\", \"showlakes\": true, \"showland\": true, \"subunitcolor\": \"white\"}, \"hoverlabel\": {\"align\": \"left\"}, \"hovermode\": \"closest\", \"mapbox\": {\"style\": \"light\"}, \"paper_bgcolor\": \"white\", \"plot_bgcolor\": \"#E5ECF6\", \"polar\": {\"angularaxis\": {\"gridcolor\": \"white\", \"linecolor\": \"white\", \"ticks\": \"\"}, \"bgcolor\": \"#E5ECF6\", \"radialaxis\": {\"gridcolor\": \"white\", \"linecolor\": \"white\", \"ticks\": \"\"}}, \"scene\": {\"xaxis\": {\"backgroundcolor\": \"#E5ECF6\", \"gridcolor\": \"white\", \"gridwidth\": 2, \"linecolor\": \"white\", \"showbackground\": true, \"ticks\": \"\", \"zerolinecolor\": \"white\"}, \"yaxis\": {\"backgroundcolor\": \"#E5ECF6\", \"gridcolor\": \"white\", \"gridwidth\": 2, \"linecolor\": \"white\", \"showbackground\": true, \"ticks\": \"\", \"zerolinecolor\": \"white\"}, \"zaxis\": {\"backgroundcolor\": \"#E5ECF6\", \"gridcolor\": \"white\", \"gridwidth\": 2, \"linecolor\": \"white\", \"showbackground\": true, \"ticks\": \"\", \"zerolinecolor\": \"white\"}}, \"shapedefaults\": {\"line\": {\"color\": \"#2a3f5f\"}}, \"ternary\": {\"aaxis\": {\"gridcolor\": \"white\", \"linecolor\": \"white\", \"ticks\": \"\"}, \"baxis\": {\"gridcolor\": \"white\", \"linecolor\": \"white\", \"ticks\": \"\"}, \"bgcolor\": \"#E5ECF6\", \"caxis\": {\"gridcolor\": \"white\", \"linecolor\": \"white\", \"ticks\": \"\"}}, \"title\": {\"x\": 0.05}, \"xaxis\": {\"automargin\": true, \"gridcolor\": \"white\", \"linecolor\": \"white\", \"ticks\": \"\", \"zerolinecolor\": \"white\", \"zerolinewidth\": 2}, \"yaxis\": {\"automargin\": true, \"gridcolor\": \"white\", \"linecolor\": \"white\", \"ticks\": \"\", \"zerolinecolor\": \"white\", \"zerolinewidth\": 2}}}, \"width\": 1000},\n",
       "                        {\"responsive\": true}\n",
       "                    ).then(function(){\n",
       "                            \n",
       "var gd = document.getElementById('93af1ec7-9d7e-428a-8600-aa5e05a2580d');\n",
       "var x = new MutationObserver(function (mutations, observer) {{\n",
       "        var display = window.getComputedStyle(gd).display;\n",
       "        if (!display || display === 'none') {{\n",
       "            console.log([gd, 'removed!']);\n",
       "            Plotly.purge(gd);\n",
       "            observer.disconnect();\n",
       "        }}\n",
       "}});\n",
       "\n",
       "// Listen for the removal of the full notebook cells\n",
       "var notebookContainer = gd.closest('#notebook-container');\n",
       "if (notebookContainer) {{\n",
       "    x.observe(notebookContainer, {childList: true});\n",
       "}}\n",
       "\n",
       "// Listen for the clearing of the current output cell\n",
       "var outputEl = gd.closest('.output');\n",
       "if (outputEl) {{\n",
       "    x.observe(outputEl, {childList: true});\n",
       "}}\n",
       "\n",
       "                        })\n",
       "                };\n",
       "                });\n",
       "            </script>\n",
       "        </div>"
      ]
     },
     "metadata": {},
     "output_type": "display_data"
    }
   ],
   "source": [
    "z_mean, _, _ = encoder.predict(np.concatenate([X_train, X_test]),\n",
    "                                   batch_size=batch_size)\n",
    "\n",
    "fig = go.Figure((go.Scatter3d(\n",
    "    x=z_mean[:, 0],\n",
    "    y = z_mean[:, 1],\n",
    "    z = z_mean[:, 2],\n",
    "    name=\"z\",\n",
    "    mode='markers',\n",
    "    text = [repr(p) for p in partitions],\n",
    "    marker=dict(\n",
    "        size=10,\n",
    "        color = colorings,\n",
    "        colorscale='Viridis',\n",
    "    )\n",
    ")))\n",
    "\n",
    "fig.update_layout(\n",
    "    autosize=False,\n",
    "    width=1000,\n",
    "    height=1000,\n",
    ")\n",
    "\n",
    "fig.show()"
   ]
  },
  {
   "cell_type": "code",
   "execution_count": 70,
   "metadata": {},
   "outputs": [],
   "source": [
    "partitions = []\n",
    "for ptn_matrix in np.concatenate([y_train, y_test]).reshape(-1, n, n):\n",
    "    parts = []\n",
    "    for row in ptn_matrix:\n",
    "        row_sum = sum(row)\n",
    "        if not row_sum:\n",
    "            break\n",
    "        parts.append(int(row_sum))\n",
    "        \n",
    "    partitions.append(Partition(parts))\n",
    "    \n",
    "\n",
    "colorings = [p.is_stable for p in partitions]"
   ]
  },
  {
   "cell_type": "code",
   "execution_count": 71,
   "metadata": {
    "scrolled": false
   },
   "outputs": [
    {
     "data": {
      "image/png": "[encoded data removed]",
      "text/plain": [
       "<Figure size 864x720 with 2 Axes>"
      ]
     },
     "metadata": {
      "needs_background": "light"
     },
     "output_type": "display_data"
    },
    {
     "data": {
      "image/png": "[encoded data removed]",
      "text/plain": [
       "<Figure size 1440x1440 with 1 Axes>"
      ]
     },
     "metadata": {
      "needs_background": "light"
     },
     "output_type": "display_data"
    }
   ],
   "source": [
    "plot_results(models, (np.concatenate([X_train, X_test]), np.concatenate([y_train, y_test])),\n",
    "             batch_size=batch_size, model_name=\"vae_mlp\")"
   ]
  },
  {
   "cell_type": "code",
   "execution_count": 49,
   "metadata": {},
   "outputs": [
    {
     "name": "stdout",
     "output_type": "stream",
     "text": [
      "▢▢▢▢▢▢▢\n",
      "▢▢\n",
      "▢▢\n",
      "▢▢\n",
      "▢▢\n",
      "▢▢\n",
      "▢\n",
      "▢\n",
      "▢\n",
      "▢\n",
      "▢\n",
      "▢\n"
     ]
    }
   ],
   "source": [
    "print(list(PartitionClass(23).partitions)[234])"
   ]
  },
  {
   "cell_type": "code",
   "execution_count": 53,
   "metadata": {},
   "outputs": [],
   "source": [
    "def plot_results(models,\n",
    "                 data,\n",
    "                 batch_size=128,\n",
    "                 model_name=\"vae_mnist\"):\n",
    "    \"\"\"Plots labels and MNIST digits as a function of the 2D latent vector\n",
    "\n",
    "    # Arguments\n",
    "        models (tuple): encoder and decoder models\n",
    "        data (tuple): test data and label\n",
    "        batch_size (int): prediction batch size\n",
    "        model_name (string): which model is using this function\n",
    "    \"\"\"\n",
    "\n",
    "    encoder, decoder = models\n",
    "    X_test, y_test = data\n",
    "    os.makedirs(model_name, exist_ok=True)\n",
    "\n",
    "    filename = os.path.join(model_name, \"vae_mean.png\")\n",
    "    # display a 2D plot of the digit classes in the latent space\n",
    "    z_mean, _, _ = encoder.predict(X_test,\n",
    "                                   batch_size=batch_size)\n",
    "    plt.figure(figsize=(12, 10))\n",
    "    plt.scatter(z_mean[:, 0], z_mean[:, 1], c=colorings, cmap = 'winter')\n",
    "    plt.colorbar()\n",
    "    plt.xlabel(\"z[0]\")\n",
    "    plt.ylabel(\"z[1]\")\n",
    "    plt.savefig(filename, transparent = True)\n",
    "    plt.show()\n",
    "\n",
    "    filename = os.path.join(model_name, \"partitions_over_latent.png\")\n",
    "    # display a 30x30 2D manifold of digits\n",
    "    grid = 10\n",
    "    digit_size = n\n",
    "    figure = np.zeros((digit_size * grid, digit_size * grid))\n",
    "    # linearly spaced coordinates corresponding to the 2D plot\n",
    "    # of digit classes in the latent space\n",
    "    \n",
    "    if latent_dim == 2:\n",
    "        grid_x = np.linspace(-4, 4, grid)\n",
    "        grid_y = np.linspace(-4, 4, grid)[::-1]\n",
    "\n",
    "        for i, yi in enumerate(grid_y):\n",
    "            for j, xi in enumerate(grid_x):\n",
    "                z_sample = np.array([[xi, yi]])\n",
    "                x_decoded = decoder.predict(z_sample)\n",
    "                digit = x_decoded[0].reshape(digit_size, digit_size)\n",
    "                figure[i * digit_size: (i + 1) * digit_size,\n",
    "                       j * digit_size: (j + 1) * digit_size] = digit\n",
    "\n",
    "    else:\n",
    "        grid_x = np.linspace(-4, 4, grid)\n",
    "        grid_y = np.linspace(-4, 4, grid)[::-1]\n",
    "        grid_z = np.linspace(-4, 4, grid)[::-1]\n",
    "\n",
    "        for i, zi in enumerate(grid_z):\n",
    "            for i, yi in enumerate(grid_y):\n",
    "                for j, xi in enumerate(grid_x):\n",
    "                    z_sample = np.array([[xi, yi]])\n",
    "                    x_decoded = decoder.predict(z_sample)\n",
    "                    digit = x_decoded[0].reshape(digit_size, digit_size)\n",
    "                    figure[i * digit_size: (i + 1) * digit_size,\n",
    "                           j * digit_size: (j + 1) * digit_size] = digit\n",
    "                \n",
    "                \n",
    "    scale = 2\n",
    "    plt.figure(figsize=(grid * scale, grid * scale))\n",
    "    start_range = digit_size // 2\n",
    "    end_range = (grid - 1) * digit_size + start_range + 1\n",
    "    pixel_range = np.arange(start_range, end_range, digit_size)\n",
    "    sample_range_x = np.round(grid_x, 1)\n",
    "    sample_range_y = np.round(grid_y, 1)\n",
    "    plt.xticks(pixel_range, sample_range_x)\n",
    "    plt.yticks(pixel_range, sample_range_y)\n",
    "    plt.xlabel(\"z[0]\")\n",
    "    plt.ylabel(\"z[1]\")\n",
    "    plt.imshow(figure, cmap='Greys_r')\n",
    "    plt.savefig(filename, transparent = True)\n",
    "    plt.show()"
   ]
  },
  {
   "cell_type": "code",
   "execution_count": 171,
   "metadata": {
    "scrolled": false
   },
   "outputs": [
    {
     "data": {
      "application/vnd.plotly.v1+json": {
       "config": {
        "plotlyServerURL": "https://plot.ly"
       },
       "data": [
        {
         "name": "z",
         "type": "scatter3d",
         "x": [
          0,
          1,
          2
         ],
         "y": [
          0,
          1,
          2
         ],
         "z": [
          0,
          1,
          2
         ]
        },
        {
         "anchor": "tail",
         "colorbar": {
          "thickness": 20,
          "ticklen": 4
         },
         "colorscale": [
          [
           0,
           "rgb(39, 26, 44)"
          ],
          [
           0.1,
           "rgb(53, 41, 74)"
          ],
          [
           0.2,
           "rgb(63, 57, 108)"
          ],
          [
           0.3,
           "rgb(64, 77, 139)"
          ],
          [
           0.4,
           "rgb(61, 99, 148)"
          ],
          [
           0.5,
           "rgb(65, 121, 153)"
          ],
          [
           0.6,
           "rgb(72, 142, 157)"
          ],
          [
           0.7,
           "rgb(80, 164, 162)"
          ],
          [
           0.8,
           "rgb(92, 185, 163)"
          ],
          [
           0.9,
           "rgb(121, 206, 162)"
          ],
          [
           1,
           "rgb(165, 222, 166)"
          ]
         ],
         "showscale": true,
         "sizemode": "scaled",
         "sizeref": 0.025,
         "type": "cone",
         "u": [
          5
         ],
         "v": [
          5
         ],
         "w": [
          5
         ],
         "x": [
          0.85
         ],
         "y": [
          0.85
         ],
         "z": [
          0.85
         ]
        }
       ],
       "layout": {
        "scene": {
         "aspectratio": {
          "x": 1,
          "y": 1,
          "z": 1
         },
         "camera": {
          "center": {
           "x": 0,
           "y": 0,
           "z": 0
          },
          "eye": {
           "x": 1.96903462608,
           "y": -1.09022831971,
           "z": 0.405345349304
          },
          "up": {
           "x": 0,
           "y": 0,
           "z": 1
          }
         },
         "dragmode": "turntable"
        },
        "template": {
         "data": {
          "bar": [
           {
            "error_x": {
             "color": "#2a3f5f"
            },
            "error_y": {
             "color": "#2a3f5f"
            },
            "marker": {
             "line": {
              "color": "#E5ECF6",
              "width": 0.5
             }
            },
            "type": "bar"
           }
          ],
          "barpolar": [
           {
            "marker": {
             "line": {
              "color": "#E5ECF6",
              "width": 0.5
             }
            },
            "type": "barpolar"
           }
          ],
          "carpet": [
           {
            "aaxis": {
             "endlinecolor": "#2a3f5f",
             "gridcolor": "white",
             "linecolor": "white",
             "minorgridcolor": "white",
             "startlinecolor": "#2a3f5f"
            },
            "baxis": {
             "endlinecolor": "#2a3f5f",
             "gridcolor": "white",
             "linecolor": "white",
             "minorgridcolor": "white",
             "startlinecolor": "#2a3f5f"
            },
            "type": "carpet"
           }
          ],
          "choropleth": [
           {
            "colorbar": {
             "outlinewidth": 0,
             "ticks": ""
            },
            "type": "choropleth"
           }
          ],
          "contour": [
           {
            "colorbar": {
             "outlinewidth": 0,
             "ticks": ""
            },
            "colorscale": [
             [
              0,
              "#0d0887"
             ],
             [
              0.1111111111111111,
              "#46039f"
             ],
             [
              0.2222222222222222,
              "#7201a8"
             ],
             [
              0.3333333333333333,
              "#9c179e"
             ],
             [
              0.4444444444444444,
              "#bd3786"
             ],
             [
              0.5555555555555556,
              "#d8576b"
             ],
             [
              0.6666666666666666,
              "#ed7953"
             ],
             [
              0.7777777777777778,
              "#fb9f3a"
             ],
             [
              0.8888888888888888,
              "#fdca26"
             ],
             [
              1,
              "#f0f921"
             ]
            ],
            "type": "contour"
           }
          ],
          "contourcarpet": [
           {
            "colorbar": {
             "outlinewidth": 0,
             "ticks": ""
            },
            "type": "contourcarpet"
           }
          ],
          "heatmap": [
           {
            "colorbar": {
             "outlinewidth": 0,
             "ticks": ""
            },
            "colorscale": [
             [
              0,
              "#0d0887"
             ],
             [
              0.1111111111111111,
              "#46039f"
             ],
             [
              0.2222222222222222,
              "#7201a8"
             ],
             [
              0.3333333333333333,
              "#9c179e"
             ],
             [
              0.4444444444444444,
              "#bd3786"
             ],
             [
              0.5555555555555556,
              "#d8576b"
             ],
             [
              0.6666666666666666,
              "#ed7953"
             ],
             [
              0.7777777777777778,
              "#fb9f3a"
             ],
             [
              0.8888888888888888,
              "#fdca26"
             ],
             [
              1,
              "#f0f921"
             ]
            ],
            "type": "heatmap"
           }
          ],
          "heatmapgl": [
           {
            "colorbar": {
             "outlinewidth": 0,
             "ticks": ""
            },
            "colorscale": [
             [
              0,
              "#0d0887"
             ],
             [
              0.1111111111111111,
              "#46039f"
             ],
             [
              0.2222222222222222,
              "#7201a8"
             ],
             [
              0.3333333333333333,
              "#9c179e"
             ],
             [
              0.4444444444444444,
              "#bd3786"
             ],
             [
              0.5555555555555556,
              "#d8576b"
             ],
             [
              0.6666666666666666,
              "#ed7953"
             ],
             [
              0.7777777777777778,
              "#fb9f3a"
             ],
             [
              0.8888888888888888,
              "#fdca26"
             ],
             [
              1,
              "#f0f921"
             ]
            ],
            "type": "heatmapgl"
           }
          ],
          "histogram": [
           {
            "marker": {
             "colorbar": {
              "outlinewidth": 0,
              "ticks": ""
             }
            },
            "type": "histogram"
           }
          ],
          "histogram2d": [
           {
            "colorbar": {
             "outlinewidth": 0,
             "ticks": ""
            },
            "colorscale": [
             [
              0,
              "#0d0887"
             ],
             [
              0.1111111111111111,
              "#46039f"
             ],
             [
              0.2222222222222222,
              "#7201a8"
             ],
             [
              0.3333333333333333,
              "#9c179e"
             ],
             [
              0.4444444444444444,
              "#bd3786"
             ],
             [
              0.5555555555555556,
              "#d8576b"
             ],
             [
              0.6666666666666666,
              "#ed7953"
             ],
             [
              0.7777777777777778,
              "#fb9f3a"
             ],
             [
              0.8888888888888888,
              "#fdca26"
             ],
             [
              1,
              "#f0f921"
             ]
            ],
            "type": "histogram2d"
           }
          ],
          "histogram2dcontour": [
           {
            "colorbar": {
             "outlinewidth": 0,
             "ticks": ""
            },
            "colorscale": [
             [
              0,
              "#0d0887"
             ],
             [
              0.1111111111111111,
              "#46039f"
             ],
             [
              0.2222222222222222,
              "#7201a8"
             ],
             [
              0.3333333333333333,
              "#9c179e"
             ],
             [
              0.4444444444444444,
              "#bd3786"
             ],
             [
              0.5555555555555556,
              "#d8576b"
             ],
             [
              0.6666666666666666,
              "#ed7953"
             ],
             [
              0.7777777777777778,
              "#fb9f3a"
             ],
             [
              0.8888888888888888,
              "#fdca26"
             ],
             [
              1,
              "#f0f921"
             ]
            ],
            "type": "histogram2dcontour"
           }
          ],
          "mesh3d": [
           {
            "colorbar": {
             "outlinewidth": 0,
             "ticks": ""
            },
            "type": "mesh3d"
           }
          ],
          "parcoords": [
           {
            "line": {
             "colorbar": {
              "outlinewidth": 0,
              "ticks": ""
             }
            },
            "type": "parcoords"
           }
          ],
          "scatter": [
           {
            "marker": {
             "colorbar": {
              "outlinewidth": 0,
              "ticks": ""
             }
            },
            "type": "scatter"
           }
          ],
          "scatter3d": [
           {
            "line": {
             "colorbar": {
              "outlinewidth": 0,
              "ticks": ""
             }
            },
            "marker": {
             "colorbar": {
              "outlinewidth": 0,
              "ticks": ""
             }
            },
            "type": "scatter3d"
           }
          ],
          "scattercarpet": [
           {
            "marker": {
             "colorbar": {
              "outlinewidth": 0,
              "ticks": ""
             }
            },
            "type": "scattercarpet"
           }
          ],
          "scattergeo": [
           {
            "marker": {
             "colorbar": {
              "outlinewidth": 0,
              "ticks": ""
             }
            },
            "type": "scattergeo"
           }
          ],
          "scattergl": [
           {
            "marker": {
             "colorbar": {
              "outlinewidth": 0,
              "ticks": ""
             }
            },
            "type": "scattergl"
           }
          ],
          "scattermapbox": [
           {
            "marker": {
             "colorbar": {
              "outlinewidth": 0,
              "ticks": ""
             }
            },
            "type": "scattermapbox"
           }
          ],
          "scatterpolar": [
           {
            "marker": {
             "colorbar": {
              "outlinewidth": 0,
              "ticks": ""
             }
            },
            "type": "scatterpolar"
           }
          ],
          "scatterpolargl": [
           {
            "marker": {
             "colorbar": {
              "outlinewidth": 0,
              "ticks": ""
             }
            },
            "type": "scatterpolargl"
           }
          ],
          "scatterternary": [
           {
            "marker": {
             "colorbar": {
              "outlinewidth": 0,
              "ticks": ""
             }
            },
            "type": "scatterternary"
           }
          ],
          "surface": [
           {
            "colorbar": {
             "outlinewidth": 0,
             "ticks": ""
            },
            "colorscale": [
             [
              0,
              "#0d0887"
             ],
             [
              0.1111111111111111,
              "#46039f"
             ],
             [
              0.2222222222222222,
              "#7201a8"
             ],
             [
              0.3333333333333333,
              "#9c179e"
             ],
             [
              0.4444444444444444,
              "#bd3786"
             ],
             [
              0.5555555555555556,
              "#d8576b"
             ],
             [
              0.6666666666666666,
              "#ed7953"
             ],
             [
              0.7777777777777778,
              "#fb9f3a"
             ],
             [
              0.8888888888888888,
              "#fdca26"
             ],
             [
              1,
              "#f0f921"
             ]
            ],
            "type": "surface"
           }
          ],
          "table": [
           {
            "cells": {
             "fill": {
              "color": "#EBF0F8"
             },
             "line": {
              "color": "white"
             }
            },
            "header": {
             "fill": {
              "color": "#C8D4E3"
             },
             "line": {
              "color": "white"
             }
            },
            "type": "table"
           }
          ]
         },
         "layout": {
          "annotationdefaults": {
           "arrowcolor": "#2a3f5f",
           "arrowhead": 0,
           "arrowwidth": 1
          },
          "colorscale": {
           "diverging": [
            [
             0,
             "#8e0152"
            ],
            [
             0.1,
             "#c51b7d"
            ],
            [
             0.2,
             "#de77ae"
            ],
            [
             0.3,
             "#f1b6da"
            ],
            [
             0.4,
             "#fde0ef"
            ],
            [
             0.5,
             "#f7f7f7"
            ],
            [
             0.6,
             "#e6f5d0"
            ],
            [
             0.7,
             "#b8e186"
            ],
            [
             0.8,
             "#7fbc41"
            ],
            [
             0.9,
             "#4d9221"
            ],
            [
             1,
             "#276419"
            ]
           ],
           "sequential": [
            [
             0,
             "#0d0887"
            ],
            [
             0.1111111111111111,
             "#46039f"
            ],
            [
             0.2222222222222222,
             "#7201a8"
            ],
            [
             0.3333333333333333,
             "#9c179e"
            ],
            [
             0.4444444444444444,
             "#bd3786"
            ],
            [
             0.5555555555555556,
             "#d8576b"
            ],
            [
             0.6666666666666666,
             "#ed7953"
            ],
            [
             0.7777777777777778,
             "#fb9f3a"
            ],
            [
             0.8888888888888888,
             "#fdca26"
            ],
            [
             1,
             "#f0f921"
            ]
           ],
           "sequentialminus": [
            [
             0,
             "#0d0887"
            ],
            [
             0.1111111111111111,
             "#46039f"
            ],
            [
             0.2222222222222222,
             "#7201a8"
            ],
            [
             0.3333333333333333,
             "#9c179e"
            ],
            [
             0.4444444444444444,
             "#bd3786"
            ],
            [
             0.5555555555555556,
             "#d8576b"
            ],
            [
             0.6666666666666666,
             "#ed7953"
            ],
            [
             0.7777777777777778,
             "#fb9f3a"
            ],
            [
             0.8888888888888888,
             "#fdca26"
            ],
            [
             1,
             "#f0f921"
            ]
           ]
          },
          "colorway": [
           "#636efa",
           "#EF553B",
           "#00cc96",
           "#ab63fa",
           "#FFA15A",
           "#19d3f3",
           "#FF6692",
           "#B6E880",
           "#FF97FF",
           "#FECB52"
          ],
          "font": {
           "color": "#2a3f5f"
          },
          "geo": {
           "bgcolor": "white",
           "lakecolor": "white",
           "landcolor": "#E5ECF6",
           "showlakes": true,
           "showland": true,
           "subunitcolor": "white"
          },
          "hoverlabel": {
           "align": "left"
          },
          "hovermode": "closest",
          "mapbox": {
           "style": "light"
          },
          "paper_bgcolor": "white",
          "plot_bgcolor": "#E5ECF6",
          "polar": {
           "angularaxis": {
            "gridcolor": "white",
            "linecolor": "white",
            "ticks": ""
           },
           "bgcolor": "#E5ECF6",
           "radialaxis": {
            "gridcolor": "white",
            "linecolor": "white",
            "ticks": ""
           }
          },
          "scene": {
           "xaxis": {
            "backgroundcolor": "#E5ECF6",
            "gridcolor": "white",
            "gridwidth": 2,
            "linecolor": "white",
            "showbackground": true,
            "ticks": "",
            "zerolinecolor": "white"
           },
           "yaxis": {
            "backgroundcolor": "#E5ECF6",
            "gridcolor": "white",
            "gridwidth": 2,
            "linecolor": "white",
            "showbackground": true,
            "ticks": "",
            "zerolinecolor": "white"
           },
           "zaxis": {
            "backgroundcolor": "#E5ECF6",
            "gridcolor": "white",
            "gridwidth": 2,
            "linecolor": "white",
            "showbackground": true,
            "ticks": "",
            "zerolinecolor": "white"
           }
          },
          "shapedefaults": {
           "line": {
            "color": "#2a3f5f"
           }
          },
          "ternary": {
           "aaxis": {
            "gridcolor": "white",
            "linecolor": "white",
            "ticks": ""
           },
           "baxis": {
            "gridcolor": "white",
            "linecolor": "white",
            "ticks": ""
           },
           "bgcolor": "#E5ECF6",
           "caxis": {
            "gridcolor": "white",
            "linecolor": "white",
            "ticks": ""
           }
          },
          "title": {
           "x": 0.05
          },
          "xaxis": {
           "automargin": true,
           "gridcolor": "white",
           "linecolor": "white",
           "ticks": "",
           "zerolinecolor": "white",
           "zerolinewidth": 2
          },
          "yaxis": {
           "automargin": true,
           "gridcolor": "white",
           "linecolor": "white",
           "ticks": "",
           "zerolinecolor": "white",
           "zerolinewidth": 2
          }
         }
        },
        "xaxis": {
         "title": {
          "text": "x"
         }
        },
        "yaxis": {
         "title": {
          "text": "y"
         }
        }
       }
      },
      "text/html": [
       "<div>\n",
       "        \n",
       "        \n",
       "            <div id=\"87c88ba6-dfb1-4d08-888c-fec3e51a7361\" class=\"plotly-graph-div\" style=\"height:525px; width:100%;\"></div>\n",
       "            <script type=\"text/javascript\">\n",
       "                require([\"plotly\"], function(Plotly) {\n",
       "                    window.PLOTLYENV=window.PLOTLYENV || {};\n",
       "                    \n",
       "                if (document.getElementById(\"87c88ba6-dfb1-4d08-888c-fec3e51a7361\")) {\n",
       "                    Plotly.newPlot(\n",
       "                        '87c88ba6-dfb1-4d08-888c-fec3e51a7361',\n",
       "                        [{\"name\": \"z\", \"type\": \"scatter3d\", \"x\": [0, 1, 2], \"y\": [0, 1, 2], \"z\": [0, 1, 2]}, {\"anchor\": \"tail\", \"colorbar\": {\"thickness\": 20, \"ticklen\": 4}, \"colorscale\": [[0.0, \"rgb(39, 26, 44)\"], [0.1, \"rgb(53, 41, 74)\"], [0.2, \"rgb(63, 57, 108)\"], [0.3, \"rgb(64, 77, 139)\"], [0.4, \"rgb(61, 99, 148)\"], [0.5, \"rgb(65, 121, 153)\"], [0.6, \"rgb(72, 142, 157)\"], [0.7, \"rgb(80, 164, 162)\"], [0.8, \"rgb(92, 185, 163)\"], [0.9, \"rgb(121, 206, 162)\"], [1.0, \"rgb(165, 222, 166)\"]], \"showscale\": true, \"sizemode\": \"scaled\", \"sizeref\": 0.025, \"type\": \"cone\", \"u\": [5], \"v\": [5], \"w\": [5], \"x\": [0.85], \"y\": [0.85], \"z\": [0.85]}],\n",
       "                        {\"scene\": {\"aspectratio\": {\"x\": 1, \"y\": 1, \"z\": 1}, \"camera\": {\"center\": {\"x\": 0, \"y\": 0, \"z\": 0}, \"eye\": {\"x\": 1.96903462608, \"y\": -1.09022831971, \"z\": 0.405345349304}, \"up\": {\"x\": 0, \"y\": 0, \"z\": 1}}, \"dragmode\": \"turntable\"}, \"template\": {\"data\": {\"bar\": [{\"error_x\": {\"color\": \"#2a3f5f\"}, \"error_y\": {\"color\": \"#2a3f5f\"}, \"marker\": {\"line\": {\"color\": \"#E5ECF6\", \"width\": 0.5}}, \"type\": \"bar\"}], \"barpolar\": [{\"marker\": {\"line\": {\"color\": \"#E5ECF6\", \"width\": 0.5}}, \"type\": \"barpolar\"}], \"carpet\": [{\"aaxis\": {\"endlinecolor\": \"#2a3f5f\", \"gridcolor\": \"white\", \"linecolor\": \"white\", \"minorgridcolor\": \"white\", \"startlinecolor\": \"#2a3f5f\"}, \"baxis\": {\"endlinecolor\": \"#2a3f5f\", \"gridcolor\": \"white\", \"linecolor\": \"white\", \"minorgridcolor\": \"white\", \"startlinecolor\": \"#2a3f5f\"}, \"type\": \"carpet\"}], \"choropleth\": [{\"colorbar\": {\"outlinewidth\": 0, \"ticks\": \"\"}, \"type\": \"choropleth\"}], \"contour\": [{\"colorbar\": {\"outlinewidth\": 0, \"ticks\": \"\"}, \"colorscale\": [[0.0, \"#0d0887\"], [0.1111111111111111, \"#46039f\"], [0.2222222222222222, \"#7201a8\"], [0.3333333333333333, \"#9c179e\"], [0.4444444444444444, \"#bd3786\"], [0.5555555555555556, \"#d8576b\"], [0.6666666666666666, \"#ed7953\"], [0.7777777777777778, \"#fb9f3a\"], [0.8888888888888888, \"#fdca26\"], [1.0, \"#f0f921\"]], \"type\": \"contour\"}], \"contourcarpet\": [{\"colorbar\": {\"outlinewidth\": 0, \"ticks\": \"\"}, \"type\": \"contourcarpet\"}], \"heatmap\": [{\"colorbar\": {\"outlinewidth\": 0, \"ticks\": \"\"}, \"colorscale\": [[0.0, \"#0d0887\"], [0.1111111111111111, \"#46039f\"], [0.2222222222222222, \"#7201a8\"], [0.3333333333333333, \"#9c179e\"], [0.4444444444444444, \"#bd3786\"], [0.5555555555555556, \"#d8576b\"], [0.6666666666666666, \"#ed7953\"], [0.7777777777777778, \"#fb9f3a\"], [0.8888888888888888, \"#fdca26\"], [1.0, \"#f0f921\"]], \"type\": \"heatmap\"}], \"heatmapgl\": [{\"colorbar\": {\"outlinewidth\": 0, \"ticks\": \"\"}, \"colorscale\": [[0.0, \"#0d0887\"], [0.1111111111111111, \"#46039f\"], [0.2222222222222222, \"#7201a8\"], [0.3333333333333333, \"#9c179e\"], [0.4444444444444444, \"#bd3786\"], [0.5555555555555556, \"#d8576b\"], [0.6666666666666666, \"#ed7953\"], [0.7777777777777778, \"#fb9f3a\"], [0.8888888888888888, \"#fdca26\"], [1.0, \"#f0f921\"]], \"type\": \"heatmapgl\"}], \"histogram\": [{\"marker\": {\"colorbar\": {\"outlinewidth\": 0, \"ticks\": \"\"}}, \"type\": \"histogram\"}], \"histogram2d\": [{\"colorbar\": {\"outlinewidth\": 0, \"ticks\": \"\"}, \"colorscale\": [[0.0, \"#0d0887\"], [0.1111111111111111, \"#46039f\"], [0.2222222222222222, \"#7201a8\"], [0.3333333333333333, \"#9c179e\"], [0.4444444444444444, \"#bd3786\"], [0.5555555555555556, \"#d8576b\"], [0.6666666666666666, \"#ed7953\"], [0.7777777777777778, \"#fb9f3a\"], [0.8888888888888888, \"#fdca26\"], [1.0, \"#f0f921\"]], \"type\": \"histogram2d\"}], \"histogram2dcontour\": [{\"colorbar\": {\"outlinewidth\": 0, \"ticks\": \"\"}, \"colorscale\": [[0.0, \"#0d0887\"], [0.1111111111111111, \"#46039f\"], [0.2222222222222222, \"#7201a8\"], [0.3333333333333333, \"#9c179e\"], [0.4444444444444444, \"#bd3786\"], [0.5555555555555556, \"#d8576b\"], [0.6666666666666666, \"#ed7953\"], [0.7777777777777778, \"#fb9f3a\"], [0.8888888888888888, \"#fdca26\"], [1.0, \"#f0f921\"]], \"type\": \"histogram2dcontour\"}], \"mesh3d\": [{\"colorbar\": {\"outlinewidth\": 0, \"ticks\": \"\"}, \"type\": \"mesh3d\"}], \"parcoords\": [{\"line\": {\"colorbar\": {\"outlinewidth\": 0, \"ticks\": \"\"}}, \"type\": \"parcoords\"}], \"scatter\": [{\"marker\": {\"colorbar\": {\"outlinewidth\": 0, \"ticks\": \"\"}}, \"type\": \"scatter\"}], \"scatter3d\": [{\"line\": {\"colorbar\": {\"outlinewidth\": 0, \"ticks\": \"\"}}, \"marker\": {\"colorbar\": {\"outlinewidth\": 0, \"ticks\": \"\"}}, \"type\": \"scatter3d\"}], \"scattercarpet\": [{\"marker\": {\"colorbar\": {\"outlinewidth\": 0, \"ticks\": \"\"}}, \"type\": \"scattercarpet\"}], \"scattergeo\": [{\"marker\": {\"colorbar\": {\"outlinewidth\": 0, \"ticks\": \"\"}}, \"type\": \"scattergeo\"}], \"scattergl\": [{\"marker\": {\"colorbar\": {\"outlinewidth\": 0, \"ticks\": \"\"}}, \"type\": \"scattergl\"}], \"scattermapbox\": [{\"marker\": {\"colorbar\": {\"outlinewidth\": 0, \"ticks\": \"\"}}, \"type\": \"scattermapbox\"}], \"scatterpolar\": [{\"marker\": {\"colorbar\": {\"outlinewidth\": 0, \"ticks\": \"\"}}, \"type\": \"scatterpolar\"}], \"scatterpolargl\": [{\"marker\": {\"colorbar\": {\"outlinewidth\": 0, \"ticks\": \"\"}}, \"type\": \"scatterpolargl\"}], \"scatterternary\": [{\"marker\": {\"colorbar\": {\"outlinewidth\": 0, \"ticks\": \"\"}}, \"type\": \"scatterternary\"}], \"surface\": [{\"colorbar\": {\"outlinewidth\": 0, \"ticks\": \"\"}, \"colorscale\": [[0.0, \"#0d0887\"], [0.1111111111111111, \"#46039f\"], [0.2222222222222222, \"#7201a8\"], [0.3333333333333333, \"#9c179e\"], [0.4444444444444444, \"#bd3786\"], [0.5555555555555556, \"#d8576b\"], [0.6666666666666666, \"#ed7953\"], [0.7777777777777778, \"#fb9f3a\"], [0.8888888888888888, \"#fdca26\"], [1.0, \"#f0f921\"]], \"type\": \"surface\"}], \"table\": [{\"cells\": {\"fill\": {\"color\": \"#EBF0F8\"}, \"line\": {\"color\": \"white\"}}, \"header\": {\"fill\": {\"color\": \"#C8D4E3\"}, \"line\": {\"color\": \"white\"}}, \"type\": \"table\"}]}, \"layout\": {\"annotationdefaults\": {\"arrowcolor\": \"#2a3f5f\", \"arrowhead\": 0, \"arrowwidth\": 1}, \"colorscale\": {\"diverging\": [[0, \"#8e0152\"], [0.1, \"#c51b7d\"], [0.2, \"#de77ae\"], [0.3, \"#f1b6da\"], [0.4, \"#fde0ef\"], [0.5, \"#f7f7f7\"], [0.6, \"#e6f5d0\"], [0.7, \"#b8e186\"], [0.8, \"#7fbc41\"], [0.9, \"#4d9221\"], [1, \"#276419\"]], \"sequential\": [[0.0, \"#0d0887\"], [0.1111111111111111, \"#46039f\"], [0.2222222222222222, \"#7201a8\"], [0.3333333333333333, \"#9c179e\"], [0.4444444444444444, \"#bd3786\"], [0.5555555555555556, \"#d8576b\"], [0.6666666666666666, \"#ed7953\"], [0.7777777777777778, \"#fb9f3a\"], [0.8888888888888888, \"#fdca26\"], [1.0, \"#f0f921\"]], \"sequentialminus\": [[0.0, \"#0d0887\"], [0.1111111111111111, \"#46039f\"], [0.2222222222222222, \"#7201a8\"], [0.3333333333333333, \"#9c179e\"], [0.4444444444444444, \"#bd3786\"], [0.5555555555555556, \"#d8576b\"], [0.6666666666666666, \"#ed7953\"], [0.7777777777777778, \"#fb9f3a\"], [0.8888888888888888, \"#fdca26\"], [1.0, \"#f0f921\"]]}, \"colorway\": [\"#636efa\", \"#EF553B\", \"#00cc96\", \"#ab63fa\", \"#FFA15A\", \"#19d3f3\", \"#FF6692\", \"#B6E880\", \"#FF97FF\", \"#FECB52\"], \"font\": {\"color\": \"#2a3f5f\"}, \"geo\": {\"bgcolor\": \"white\", \"lakecolor\": \"white\", \"landcolor\": \"#E5ECF6\", \"showlakes\": true, \"showland\": true, \"subunitcolor\": \"white\"}, \"hoverlabel\": {\"align\": \"left\"}, \"hovermode\": \"closest\", \"mapbox\": {\"style\": \"light\"}, \"paper_bgcolor\": \"white\", \"plot_bgcolor\": \"#E5ECF6\", \"polar\": {\"angularaxis\": {\"gridcolor\": \"white\", \"linecolor\": \"white\", \"ticks\": \"\"}, \"bgcolor\": \"#E5ECF6\", \"radialaxis\": {\"gridcolor\": \"white\", \"linecolor\": \"white\", \"ticks\": \"\"}}, \"scene\": {\"xaxis\": {\"backgroundcolor\": \"#E5ECF6\", \"gridcolor\": \"white\", \"gridwidth\": 2, \"linecolor\": \"white\", \"showbackground\": true, \"ticks\": \"\", \"zerolinecolor\": \"white\"}, \"yaxis\": {\"backgroundcolor\": \"#E5ECF6\", \"gridcolor\": \"white\", \"gridwidth\": 2, \"linecolor\": \"white\", \"showbackground\": true, \"ticks\": \"\", \"zerolinecolor\": \"white\"}, \"zaxis\": {\"backgroundcolor\": \"#E5ECF6\", \"gridcolor\": \"white\", \"gridwidth\": 2, \"linecolor\": \"white\", \"showbackground\": true, \"ticks\": \"\", \"zerolinecolor\": \"white\"}}, \"shapedefaults\": {\"line\": {\"color\": \"#2a3f5f\"}}, \"ternary\": {\"aaxis\": {\"gridcolor\": \"white\", \"linecolor\": \"white\", \"ticks\": \"\"}, \"baxis\": {\"gridcolor\": \"white\", \"linecolor\": \"white\", \"ticks\": \"\"}, \"bgcolor\": \"#E5ECF6\", \"caxis\": {\"gridcolor\": \"white\", \"linecolor\": \"white\", \"ticks\": \"\"}}, \"title\": {\"x\": 0.05}, \"xaxis\": {\"automargin\": true, \"gridcolor\": \"white\", \"linecolor\": \"white\", \"ticks\": \"\", \"zerolinecolor\": \"white\", \"zerolinewidth\": 2}, \"yaxis\": {\"automargin\": true, \"gridcolor\": \"white\", \"linecolor\": \"white\", \"ticks\": \"\", \"zerolinecolor\": \"white\", \"zerolinewidth\": 2}}}, \"xaxis\": {\"title\": {\"text\": \"x\"}}, \"yaxis\": {\"title\": {\"text\": \"y\"}}},\n",
       "                        {\"responsive\": true}\n",
       "                    ).then(function(){\n",
       "                            \n",
       "var gd = document.getElementById('87c88ba6-dfb1-4d08-888c-fec3e51a7361');\n",
       "var x = new MutationObserver(function (mutations, observer) {{\n",
       "        var display = window.getComputedStyle(gd).display;\n",
       "        if (!display || display === 'none') {{\n",
       "            console.log([gd, 'removed!']);\n",
       "            Plotly.purge(gd);\n",
       "            observer.disconnect();\n",
       "        }}\n",
       "}});\n",
       "\n",
       "// Listen for the removal of the full notebook cells\n",
       "var notebookContainer = gd.closest('#notebook-container');\n",
       "if (notebookContainer) {{\n",
       "    x.observe(notebookContainer, {childList: true});\n",
       "}}\n",
       "\n",
       "// Listen for the clearing of the current output cell\n",
       "var outputEl = gd.closest('.output');\n",
       "if (outputEl) {{\n",
       "    x.observe(outputEl, {childList: true});\n",
       "}}\n",
       "\n",
       "                        })\n",
       "                };\n",
       "                });\n",
       "            </script>\n",
       "        </div>"
      ]
     },
     "metadata": {},
     "output_type": "display_data"
    }
   ],
   "source": [
    "fig = go.Figure()\n",
    "\n",
    "fig.add_trace(go.Scatter3d(\n",
    "    x=[0, 1, 2],\n",
    "    y=[0, 1, 2],\n",
    "    z=[0, 1, 2],\n",
    "    name=\"z\",\n",
    "))\n",
    "\n",
    "fig.update_layout(\n",
    "    scene=go.layout.Scene(\n",
    "        aspectratio=dict(\n",
    "            x=1,\n",
    "            y=1,\n",
    "            z=1\n",
    "        ),\n",
    "        camera=dict(\n",
    "            center=dict(\n",
    "                x=0,\n",
    "                y=0,\n",
    "                z=0\n",
    "            ),\n",
    "            eye=dict(\n",
    "                x=1.96903462608,\n",
    "                y=-1.09022831971,\n",
    "                z=0.405345349304\n",
    "            ),\n",
    "            up=dict(\n",
    "                x=0,\n",
    "                y=0,\n",
    "                z=1\n",
    "            )\n",
    "        ),\n",
    "        dragmode=\"turntable\",\n",
    "    ),\n",
    "    xaxis=dict(title_text=\"x\"),\n",
    "    yaxis=dict(title_text=\"y\")\n",
    ")\n",
    "\n",
    "\n",
    "\n",
    "\n",
    "\n",
    "\n",
    "x, y, z = np.meshgrid(np.arange(-0.8, 1, 0.2),\n",
    "                      np.arange(-0.8, 1, 0.2),\n",
    "                      np.arange(-0.8, 1, 0.8))\n",
    "\n",
    "\n",
    "u = np.sin(np.pi * x) * np.cos(np.pi * y) * np.cos(np.pi * z)\n",
    "v = -np.cos(np.pi * x) * np.sin(np.pi * y) * np.cos(np.pi * z)\n",
    "w = (np.sqrt(2.0 / 3.0) * np.cos(np.pi * x) * np.cos(np.pi * y) *\n",
    "     np.sin(np.pi * z))\n",
    "\n",
    "x, y, z, u, v, w = list(map(lambda x: x.flatten(), [x, y, z, u, v, w]))\n",
    "\n",
    "pl_deep = [[0.0, 'rgb(39, 26, 44)'],\n",
    "           [0.1, 'rgb(53, 41, 74)'],\n",
    "           [0.2, 'rgb(63, 57, 108)'],\n",
    "           [0.3, 'rgb(64, 77, 139)'],\n",
    "           [0.4, 'rgb(61, 99, 148)'],\n",
    "           [0.5, 'rgb(65, 121, 153)'],\n",
    "           [0.6, 'rgb(72, 142, 157)'],\n",
    "           [0.7, 'rgb(80, 164, 162)'],\n",
    "           [0.8, 'rgb(92, 185, 163)'],\n",
    "           [0.9, 'rgb(121, 206, 162)'],\n",
    "           [1.0, 'rgb(165, 222, 166)']]\n",
    "\n",
    "fig.add_trace(go.Cone(\n",
    "              x=[1 - .15],\n",
    "              y=[1 - .15],\n",
    "              z=[1 - .15],\n",
    "              u=[5],\n",
    "              v=[5],\n",
    "              w=[5],\n",
    "              sizemode='scaled',\n",
    "              sizeref=0.025, #this is the default value,\n",
    "              showscale=True,\n",
    "              colorscale=pl_deep, \n",
    "              colorbar=dict(thickness=20, ticklen=4), \n",
    "              anchor='tail'\n",
    "))\n",
    "\n",
    "\n",
    "fig.show()"
   ]
  },
  {
   "cell_type": "code",
   "execution_count": 165,
   "metadata": {
    "scrolled": false
   },
   "outputs": [
    {
     "data": {
      "application/vnd.plotly.v1+json": {
       "config": {
        "plotlyServerURL": "https://plot.ly"
       },
       "data": [
        {
         "anchor": "tail",
         "colorbar": {
          "thickness": 20,
          "ticklen": 4
         },
         "colorscale": [
          [
           0,
           "rgb(39, 26, 44)"
          ],
          [
           0.1,
           "rgb(53, 41, 74)"
          ],
          [
           0.2,
           "rgb(63, 57, 108)"
          ],
          [
           0.3,
           "rgb(64, 77, 139)"
          ],
          [
           0.4,
           "rgb(61, 99, 148)"
          ],
          [
           0.5,
           "rgb(65, 121, 153)"
          ],
          [
           0.6,
           "rgb(72, 142, 157)"
          ],
          [
           0.7,
           "rgb(80, 164, 162)"
          ],
          [
           0.8,
           "rgb(92, 185, 163)"
          ],
          [
           0.9,
           "rgb(121, 206, 162)"
          ],
          [
           1,
           "rgb(165, 222, 166)"
          ]
         ],
         "showscale": true,
         "sizemode": "scaled",
         "sizeref": 0.025,
         "type": "cone",
         "u": [
          100
         ],
         "v": [
          100
         ],
         "w": [
          100
         ],
         "x": [
          0
         ],
         "y": [
          0
         ],
         "z": [
          0
         ]
        }
       ],
       "layout": {
        "template": {
         "data": {
          "bar": [
           {
            "error_x": {
             "color": "#2a3f5f"
            },
            "error_y": {
             "color": "#2a3f5f"
            },
            "marker": {
             "line": {
              "color": "#E5ECF6",
              "width": 0.5
             }
            },
            "type": "bar"
           }
          ],
          "barpolar": [
           {
            "marker": {
             "line": {
              "color": "#E5ECF6",
              "width": 0.5
             }
            },
            "type": "barpolar"
           }
          ],
          "carpet": [
           {
            "aaxis": {
             "endlinecolor": "#2a3f5f",
             "gridcolor": "white",
             "linecolor": "white",
             "minorgridcolor": "white",
             "startlinecolor": "#2a3f5f"
            },
            "baxis": {
             "endlinecolor": "#2a3f5f",
             "gridcolor": "white",
             "linecolor": "white",
             "minorgridcolor": "white",
             "startlinecolor": "#2a3f5f"
            },
            "type": "carpet"
           }
          ],
          "choropleth": [
           {
            "colorbar": {
             "outlinewidth": 0,
             "ticks": ""
            },
            "type": "choropleth"
           }
          ],
          "contour": [
           {
            "colorbar": {
             "outlinewidth": 0,
             "ticks": ""
            },
            "colorscale": [
             [
              0,
              "#0d0887"
             ],
             [
              0.1111111111111111,
              "#46039f"
             ],
             [
              0.2222222222222222,
              "#7201a8"
             ],
             [
              0.3333333333333333,
              "#9c179e"
             ],
             [
              0.4444444444444444,
              "#bd3786"
             ],
             [
              0.5555555555555556,
              "#d8576b"
             ],
             [
              0.6666666666666666,
              "#ed7953"
             ],
             [
              0.7777777777777778,
              "#fb9f3a"
             ],
             [
              0.8888888888888888,
              "#fdca26"
             ],
             [
              1,
              "#f0f921"
             ]
            ],
            "type": "contour"
           }
          ],
          "contourcarpet": [
           {
            "colorbar": {
             "outlinewidth": 0,
             "ticks": ""
            },
            "type": "contourcarpet"
           }
          ],
          "heatmap": [
           {
            "colorbar": {
             "outlinewidth": 0,
             "ticks": ""
            },
            "colorscale": [
             [
              0,
              "#0d0887"
             ],
             [
              0.1111111111111111,
              "#46039f"
             ],
             [
              0.2222222222222222,
              "#7201a8"
             ],
             [
              0.3333333333333333,
              "#9c179e"
             ],
             [
              0.4444444444444444,
              "#bd3786"
             ],
             [
              0.5555555555555556,
              "#d8576b"
             ],
             [
              0.6666666666666666,
              "#ed7953"
             ],
             [
              0.7777777777777778,
              "#fb9f3a"
             ],
             [
              0.8888888888888888,
              "#fdca26"
             ],
             [
              1,
              "#f0f921"
             ]
            ],
            "type": "heatmap"
           }
          ],
          "heatmapgl": [
           {
            "colorbar": {
             "outlinewidth": 0,
             "ticks": ""
            },
            "colorscale": [
             [
              0,
              "#0d0887"
             ],
             [
              0.1111111111111111,
              "#46039f"
             ],
             [
              0.2222222222222222,
              "#7201a8"
             ],
             [
              0.3333333333333333,
              "#9c179e"
             ],
             [
              0.4444444444444444,
              "#bd3786"
             ],
             [
              0.5555555555555556,
              "#d8576b"
             ],
             [
              0.6666666666666666,
              "#ed7953"
             ],
             [
              0.7777777777777778,
              "#fb9f3a"
             ],
             [
              0.8888888888888888,
              "#fdca26"
             ],
             [
              1,
              "#f0f921"
             ]
            ],
            "type": "heatmapgl"
           }
          ],
          "histogram": [
           {
            "marker": {
             "colorbar": {
              "outlinewidth": 0,
              "ticks": ""
             }
            },
            "type": "histogram"
           }
          ],
          "histogram2d": [
           {
            "colorbar": {
             "outlinewidth": 0,
             "ticks": ""
            },
            "colorscale": [
             [
              0,
              "#0d0887"
             ],
             [
              0.1111111111111111,
              "#46039f"
             ],
             [
              0.2222222222222222,
              "#7201a8"
             ],
             [
              0.3333333333333333,
              "#9c179e"
             ],
             [
              0.4444444444444444,
              "#bd3786"
             ],
             [
              0.5555555555555556,
              "#d8576b"
             ],
             [
              0.6666666666666666,
              "#ed7953"
             ],
             [
              0.7777777777777778,
              "#fb9f3a"
             ],
             [
              0.8888888888888888,
              "#fdca26"
             ],
             [
              1,
              "#f0f921"
             ]
            ],
            "type": "histogram2d"
           }
          ],
          "histogram2dcontour": [
           {
            "colorbar": {
             "outlinewidth": 0,
             "ticks": ""
            },
            "colorscale": [
             [
              0,
              "#0d0887"
             ],
             [
              0.1111111111111111,
              "#46039f"
             ],
             [
              0.2222222222222222,
              "#7201a8"
             ],
             [
              0.3333333333333333,
              "#9c179e"
             ],
             [
              0.4444444444444444,
              "#bd3786"
             ],
             [
              0.5555555555555556,
              "#d8576b"
             ],
             [
              0.6666666666666666,
              "#ed7953"
             ],
             [
              0.7777777777777778,
              "#fb9f3a"
             ],
             [
              0.8888888888888888,
              "#fdca26"
             ],
             [
              1,
              "#f0f921"
             ]
            ],
            "type": "histogram2dcontour"
           }
          ],
          "mesh3d": [
           {
            "colorbar": {
             "outlinewidth": 0,
             "ticks": ""
            },
            "type": "mesh3d"
           }
          ],
          "parcoords": [
           {
            "line": {
             "colorbar": {
              "outlinewidth": 0,
              "ticks": ""
             }
            },
            "type": "parcoords"
           }
          ],
          "scatter": [
           {
            "marker": {
             "colorbar": {
              "outlinewidth": 0,
              "ticks": ""
             }
            },
            "type": "scatter"
           }
          ],
          "scatter3d": [
           {
            "line": {
             "colorbar": {
              "outlinewidth": 0,
              "ticks": ""
             }
            },
            "marker": {
             "colorbar": {
              "outlinewidth": 0,
              "ticks": ""
             }
            },
            "type": "scatter3d"
           }
          ],
          "scattercarpet": [
           {
            "marker": {
             "colorbar": {
              "outlinewidth": 0,
              "ticks": ""
             }
            },
            "type": "scattercarpet"
           }
          ],
          "scattergeo": [
           {
            "marker": {
             "colorbar": {
              "outlinewidth": 0,
              "ticks": ""
             }
            },
            "type": "scattergeo"
           }
          ],
          "scattergl": [
           {
            "marker": {
             "colorbar": {
              "outlinewidth": 0,
              "ticks": ""
             }
            },
            "type": "scattergl"
           }
          ],
          "scattermapbox": [
           {
            "marker": {
             "colorbar": {
              "outlinewidth": 0,
              "ticks": ""
             }
            },
            "type": "scattermapbox"
           }
          ],
          "scatterpolar": [
           {
            "marker": {
             "colorbar": {
              "outlinewidth": 0,
              "ticks": ""
             }
            },
            "type": "scatterpolar"
           }
          ],
          "scatterpolargl": [
           {
            "marker": {
             "colorbar": {
              "outlinewidth": 0,
              "ticks": ""
             }
            },
            "type": "scatterpolargl"
           }
          ],
          "scatterternary": [
           {
            "marker": {
             "colorbar": {
              "outlinewidth": 0,
              "ticks": ""
             }
            },
            "type": "scatterternary"
           }
          ],
          "surface": [
           {
            "colorbar": {
             "outlinewidth": 0,
             "ticks": ""
            },
            "colorscale": [
             [
              0,
              "#0d0887"
             ],
             [
              0.1111111111111111,
              "#46039f"
             ],
             [
              0.2222222222222222,
              "#7201a8"
             ],
             [
              0.3333333333333333,
              "#9c179e"
             ],
             [
              0.4444444444444444,
              "#bd3786"
             ],
             [
              0.5555555555555556,
              "#d8576b"
             ],
             [
              0.6666666666666666,
              "#ed7953"
             ],
             [
              0.7777777777777778,
              "#fb9f3a"
             ],
             [
              0.8888888888888888,
              "#fdca26"
             ],
             [
              1,
              "#f0f921"
             ]
            ],
            "type": "surface"
           }
          ],
          "table": [
           {
            "cells": {
             "fill": {
              "color": "#EBF0F8"
             },
             "line": {
              "color": "white"
             }
            },
            "header": {
             "fill": {
              "color": "#C8D4E3"
             },
             "line": {
              "color": "white"
             }
            },
            "type": "table"
           }
          ]
         },
         "layout": {
          "annotationdefaults": {
           "arrowcolor": "#2a3f5f",
           "arrowhead": 0,
           "arrowwidth": 1
          },
          "colorscale": {
           "diverging": [
            [
             0,
             "#8e0152"
            ],
            [
             0.1,
             "#c51b7d"
            ],
            [
             0.2,
             "#de77ae"
            ],
            [
             0.3,
             "#f1b6da"
            ],
            [
             0.4,
             "#fde0ef"
            ],
            [
             0.5,
             "#f7f7f7"
            ],
            [
             0.6,
             "#e6f5d0"
            ],
            [
             0.7,
             "#b8e186"
            ],
            [
             0.8,
             "#7fbc41"
            ],
            [
             0.9,
             "#4d9221"
            ],
            [
             1,
             "#276419"
            ]
           ],
           "sequential": [
            [
             0,
             "#0d0887"
            ],
            [
             0.1111111111111111,
             "#46039f"
            ],
            [
             0.2222222222222222,
             "#7201a8"
            ],
            [
             0.3333333333333333,
             "#9c179e"
            ],
            [
             0.4444444444444444,
             "#bd3786"
            ],
            [
             0.5555555555555556,
             "#d8576b"
            ],
            [
             0.6666666666666666,
             "#ed7953"
            ],
            [
             0.7777777777777778,
             "#fb9f3a"
            ],
            [
             0.8888888888888888,
             "#fdca26"
            ],
            [
             1,
             "#f0f921"
            ]
           ],
           "sequentialminus": [
            [
             0,
             "#0d0887"
            ],
            [
             0.1111111111111111,
             "#46039f"
            ],
            [
             0.2222222222222222,
             "#7201a8"
            ],
            [
             0.3333333333333333,
             "#9c179e"
            ],
            [
             0.4444444444444444,
             "#bd3786"
            ],
            [
             0.5555555555555556,
             "#d8576b"
            ],
            [
             0.6666666666666666,
             "#ed7953"
            ],
            [
             0.7777777777777778,
             "#fb9f3a"
            ],
            [
             0.8888888888888888,
             "#fdca26"
            ],
            [
             1,
             "#f0f921"
            ]
           ]
          },
          "colorway": [
           "#636efa",
           "#EF553B",
           "#00cc96",
           "#ab63fa",
           "#FFA15A",
           "#19d3f3",
           "#FF6692",
           "#B6E880",
           "#FF97FF",
           "#FECB52"
          ],
          "font": {
           "color": "#2a3f5f"
          },
          "geo": {
           "bgcolor": "white",
           "lakecolor": "white",
           "landcolor": "#E5ECF6",
           "showlakes": true,
           "showland": true,
           "subunitcolor": "white"
          },
          "hoverlabel": {
           "align": "left"
          },
          "hovermode": "closest",
          "mapbox": {
           "style": "light"
          },
          "paper_bgcolor": "white",
          "plot_bgcolor": "#E5ECF6",
          "polar": {
           "angularaxis": {
            "gridcolor": "white",
            "linecolor": "white",
            "ticks": ""
           },
           "bgcolor": "#E5ECF6",
           "radialaxis": {
            "gridcolor": "white",
            "linecolor": "white",
            "ticks": ""
           }
          },
          "scene": {
           "xaxis": {
            "backgroundcolor": "#E5ECF6",
            "gridcolor": "white",
            "gridwidth": 2,
            "linecolor": "white",
            "showbackground": true,
            "ticks": "",
            "zerolinecolor": "white"
           },
           "yaxis": {
            "backgroundcolor": "#E5ECF6",
            "gridcolor": "white",
            "gridwidth": 2,
            "linecolor": "white",
            "showbackground": true,
            "ticks": "",
            "zerolinecolor": "white"
           },
           "zaxis": {
            "backgroundcolor": "#E5ECF6",
            "gridcolor": "white",
            "gridwidth": 2,
            "linecolor": "white",
            "showbackground": true,
            "ticks": "",
            "zerolinecolor": "white"
           }
          },
          "shapedefaults": {
           "line": {
            "color": "#2a3f5f"
           }
          },
          "ternary": {
           "aaxis": {
            "gridcolor": "white",
            "linecolor": "white",
            "ticks": ""
           },
           "baxis": {
            "gridcolor": "white",
            "linecolor": "white",
            "ticks": ""
           },
           "bgcolor": "#E5ECF6",
           "caxis": {
            "gridcolor": "white",
            "linecolor": "white",
            "ticks": ""
           }
          },
          "title": {
           "x": 0.05
          },
          "xaxis": {
           "automargin": true,
           "gridcolor": "white",
           "linecolor": "white",
           "ticks": "",
           "zerolinecolor": "white",
           "zerolinewidth": 2
          },
          "yaxis": {
           "automargin": true,
           "gridcolor": "white",
           "linecolor": "white",
           "ticks": "",
           "zerolinecolor": "white",
           "zerolinewidth": 2
          }
         }
        }
       }
      },
      "text/html": [
       "<div>\n",
       "        \n",
       "        \n",
       "            <div id=\"26744e71-75f5-4523-8fb3-6621761bc3c8\" class=\"plotly-graph-div\" style=\"height:525px; width:100%;\"></div>\n",
       "            <script type=\"text/javascript\">\n",
       "                require([\"plotly\"], function(Plotly) {\n",
       "                    window.PLOTLYENV=window.PLOTLYENV || {};\n",
       "                    \n",
       "                if (document.getElementById(\"26744e71-75f5-4523-8fb3-6621761bc3c8\")) {\n",
       "                    Plotly.newPlot(\n",
       "                        '26744e71-75f5-4523-8fb3-6621761bc3c8',\n",
       "                        [{\"anchor\": \"tail\", \"colorbar\": {\"thickness\": 20, \"ticklen\": 4}, \"colorscale\": [[0.0, \"rgb(39, 26, 44)\"], [0.1, \"rgb(53, 41, 74)\"], [0.2, \"rgb(63, 57, 108)\"], [0.3, \"rgb(64, 77, 139)\"], [0.4, \"rgb(61, 99, 148)\"], [0.5, \"rgb(65, 121, 153)\"], [0.6, \"rgb(72, 142, 157)\"], [0.7, \"rgb(80, 164, 162)\"], [0.8, \"rgb(92, 185, 163)\"], [0.9, \"rgb(121, 206, 162)\"], [1.0, \"rgb(165, 222, 166)\"]], \"showscale\": true, \"sizemode\": \"scaled\", \"sizeref\": 0.025, \"type\": \"cone\", \"u\": [100], \"v\": [100], \"w\": [100], \"x\": [0], \"y\": [0], \"z\": [0]}],\n",
       "                        {\"template\": {\"data\": {\"bar\": [{\"error_x\": {\"color\": \"#2a3f5f\"}, \"error_y\": {\"color\": \"#2a3f5f\"}, \"marker\": {\"line\": {\"color\": \"#E5ECF6\", \"width\": 0.5}}, \"type\": \"bar\"}], \"barpolar\": [{\"marker\": {\"line\": {\"color\": \"#E5ECF6\", \"width\": 0.5}}, \"type\": \"barpolar\"}], \"carpet\": [{\"aaxis\": {\"endlinecolor\": \"#2a3f5f\", \"gridcolor\": \"white\", \"linecolor\": \"white\", \"minorgridcolor\": \"white\", \"startlinecolor\": \"#2a3f5f\"}, \"baxis\": {\"endlinecolor\": \"#2a3f5f\", \"gridcolor\": \"white\", \"linecolor\": \"white\", \"minorgridcolor\": \"white\", \"startlinecolor\": \"#2a3f5f\"}, \"type\": \"carpet\"}], \"choropleth\": [{\"colorbar\": {\"outlinewidth\": 0, \"ticks\": \"\"}, \"type\": \"choropleth\"}], \"contour\": [{\"colorbar\": {\"outlinewidth\": 0, \"ticks\": \"\"}, \"colorscale\": [[0.0, \"#0d0887\"], [0.1111111111111111, \"#46039f\"], [0.2222222222222222, \"#7201a8\"], [0.3333333333333333, \"#9c179e\"], [0.4444444444444444, \"#bd3786\"], [0.5555555555555556, \"#d8576b\"], [0.6666666666666666, \"#ed7953\"], [0.7777777777777778, \"#fb9f3a\"], [0.8888888888888888, \"#fdca26\"], [1.0, \"#f0f921\"]], \"type\": \"contour\"}], \"contourcarpet\": [{\"colorbar\": {\"outlinewidth\": 0, \"ticks\": \"\"}, \"type\": \"contourcarpet\"}], \"heatmap\": [{\"colorbar\": {\"outlinewidth\": 0, \"ticks\": \"\"}, \"colorscale\": [[0.0, \"#0d0887\"], [0.1111111111111111, \"#46039f\"], [0.2222222222222222, \"#7201a8\"], [0.3333333333333333, \"#9c179e\"], [0.4444444444444444, \"#bd3786\"], [0.5555555555555556, \"#d8576b\"], [0.6666666666666666, \"#ed7953\"], [0.7777777777777778, \"#fb9f3a\"], [0.8888888888888888, \"#fdca26\"], [1.0, \"#f0f921\"]], \"type\": \"heatmap\"}], \"heatmapgl\": [{\"colorbar\": {\"outlinewidth\": 0, \"ticks\": \"\"}, \"colorscale\": [[0.0, \"#0d0887\"], [0.1111111111111111, \"#46039f\"], [0.2222222222222222, \"#7201a8\"], [0.3333333333333333, \"#9c179e\"], [0.4444444444444444, \"#bd3786\"], [0.5555555555555556, \"#d8576b\"], [0.6666666666666666, \"#ed7953\"], [0.7777777777777778, \"#fb9f3a\"], [0.8888888888888888, \"#fdca26\"], [1.0, \"#f0f921\"]], \"type\": \"heatmapgl\"}], \"histogram\": [{\"marker\": {\"colorbar\": {\"outlinewidth\": 0, \"ticks\": \"\"}}, \"type\": \"histogram\"}], \"histogram2d\": [{\"colorbar\": {\"outlinewidth\": 0, \"ticks\": \"\"}, \"colorscale\": [[0.0, \"#0d0887\"], [0.1111111111111111, \"#46039f\"], [0.2222222222222222, \"#7201a8\"], [0.3333333333333333, \"#9c179e\"], [0.4444444444444444, \"#bd3786\"], [0.5555555555555556, \"#d8576b\"], [0.6666666666666666, \"#ed7953\"], [0.7777777777777778, \"#fb9f3a\"], [0.8888888888888888, \"#fdca26\"], [1.0, \"#f0f921\"]], \"type\": \"histogram2d\"}], \"histogram2dcontour\": [{\"colorbar\": {\"outlinewidth\": 0, \"ticks\": \"\"}, \"colorscale\": [[0.0, \"#0d0887\"], [0.1111111111111111, \"#46039f\"], [0.2222222222222222, \"#7201a8\"], [0.3333333333333333, \"#9c179e\"], [0.4444444444444444, \"#bd3786\"], [0.5555555555555556, \"#d8576b\"], [0.6666666666666666, \"#ed7953\"], [0.7777777777777778, \"#fb9f3a\"], [0.8888888888888888, \"#fdca26\"], [1.0, \"#f0f921\"]], \"type\": \"histogram2dcontour\"}], \"mesh3d\": [{\"colorbar\": {\"outlinewidth\": 0, \"ticks\": \"\"}, \"type\": \"mesh3d\"}], \"parcoords\": [{\"line\": {\"colorbar\": {\"outlinewidth\": 0, \"ticks\": \"\"}}, \"type\": \"parcoords\"}], \"scatter\": [{\"marker\": {\"colorbar\": {\"outlinewidth\": 0, \"ticks\": \"\"}}, \"type\": \"scatter\"}], \"scatter3d\": [{\"line\": {\"colorbar\": {\"outlinewidth\": 0, \"ticks\": \"\"}}, \"marker\": {\"colorbar\": {\"outlinewidth\": 0, \"ticks\": \"\"}}, \"type\": \"scatter3d\"}], \"scattercarpet\": [{\"marker\": {\"colorbar\": {\"outlinewidth\": 0, \"ticks\": \"\"}}, \"type\": \"scattercarpet\"}], \"scattergeo\": [{\"marker\": {\"colorbar\": {\"outlinewidth\": 0, \"ticks\": \"\"}}, \"type\": \"scattergeo\"}], \"scattergl\": [{\"marker\": {\"colorbar\": {\"outlinewidth\": 0, \"ticks\": \"\"}}, \"type\": \"scattergl\"}], \"scattermapbox\": [{\"marker\": {\"colorbar\": {\"outlinewidth\": 0, \"ticks\": \"\"}}, \"type\": \"scattermapbox\"}], \"scatterpolar\": [{\"marker\": {\"colorbar\": {\"outlinewidth\": 0, \"ticks\": \"\"}}, \"type\": \"scatterpolar\"}], \"scatterpolargl\": [{\"marker\": {\"colorbar\": {\"outlinewidth\": 0, \"ticks\": \"\"}}, \"type\": \"scatterpolargl\"}], \"scatterternary\": [{\"marker\": {\"colorbar\": {\"outlinewidth\": 0, \"ticks\": \"\"}}, \"type\": \"scatterternary\"}], \"surface\": [{\"colorbar\": {\"outlinewidth\": 0, \"ticks\": \"\"}, \"colorscale\": [[0.0, \"#0d0887\"], [0.1111111111111111, \"#46039f\"], [0.2222222222222222, \"#7201a8\"], [0.3333333333333333, \"#9c179e\"], [0.4444444444444444, \"#bd3786\"], [0.5555555555555556, \"#d8576b\"], [0.6666666666666666, \"#ed7953\"], [0.7777777777777778, \"#fb9f3a\"], [0.8888888888888888, \"#fdca26\"], [1.0, \"#f0f921\"]], \"type\": \"surface\"}], \"table\": [{\"cells\": {\"fill\": {\"color\": \"#EBF0F8\"}, \"line\": {\"color\": \"white\"}}, \"header\": {\"fill\": {\"color\": \"#C8D4E3\"}, \"line\": {\"color\": \"white\"}}, \"type\": \"table\"}]}, \"layout\": {\"annotationdefaults\": {\"arrowcolor\": \"#2a3f5f\", \"arrowhead\": 0, \"arrowwidth\": 1}, \"colorscale\": {\"diverging\": [[0, \"#8e0152\"], [0.1, \"#c51b7d\"], [0.2, \"#de77ae\"], [0.3, \"#f1b6da\"], [0.4, \"#fde0ef\"], [0.5, \"#f7f7f7\"], [0.6, \"#e6f5d0\"], [0.7, \"#b8e186\"], [0.8, \"#7fbc41\"], [0.9, \"#4d9221\"], [1, \"#276419\"]], \"sequential\": [[0.0, \"#0d0887\"], [0.1111111111111111, \"#46039f\"], [0.2222222222222222, \"#7201a8\"], [0.3333333333333333, \"#9c179e\"], [0.4444444444444444, \"#bd3786\"], [0.5555555555555556, \"#d8576b\"], [0.6666666666666666, \"#ed7953\"], [0.7777777777777778, \"#fb9f3a\"], [0.8888888888888888, \"#fdca26\"], [1.0, \"#f0f921\"]], \"sequentialminus\": [[0.0, \"#0d0887\"], [0.1111111111111111, \"#46039f\"], [0.2222222222222222, \"#7201a8\"], [0.3333333333333333, \"#9c179e\"], [0.4444444444444444, \"#bd3786\"], [0.5555555555555556, \"#d8576b\"], [0.6666666666666666, \"#ed7953\"], [0.7777777777777778, \"#fb9f3a\"], [0.8888888888888888, \"#fdca26\"], [1.0, \"#f0f921\"]]}, \"colorway\": [\"#636efa\", \"#EF553B\", \"#00cc96\", \"#ab63fa\", \"#FFA15A\", \"#19d3f3\", \"#FF6692\", \"#B6E880\", \"#FF97FF\", \"#FECB52\"], \"font\": {\"color\": \"#2a3f5f\"}, \"geo\": {\"bgcolor\": \"white\", \"lakecolor\": \"white\", \"landcolor\": \"#E5ECF6\", \"showlakes\": true, \"showland\": true, \"subunitcolor\": \"white\"}, \"hoverlabel\": {\"align\": \"left\"}, \"hovermode\": \"closest\", \"mapbox\": {\"style\": \"light\"}, \"paper_bgcolor\": \"white\", \"plot_bgcolor\": \"#E5ECF6\", \"polar\": {\"angularaxis\": {\"gridcolor\": \"white\", \"linecolor\": \"white\", \"ticks\": \"\"}, \"bgcolor\": \"#E5ECF6\", \"radialaxis\": {\"gridcolor\": \"white\", \"linecolor\": \"white\", \"ticks\": \"\"}}, \"scene\": {\"xaxis\": {\"backgroundcolor\": \"#E5ECF6\", \"gridcolor\": \"white\", \"gridwidth\": 2, \"linecolor\": \"white\", \"showbackground\": true, \"ticks\": \"\", \"zerolinecolor\": \"white\"}, \"yaxis\": {\"backgroundcolor\": \"#E5ECF6\", \"gridcolor\": \"white\", \"gridwidth\": 2, \"linecolor\": \"white\", \"showbackground\": true, \"ticks\": \"\", \"zerolinecolor\": \"white\"}, \"zaxis\": {\"backgroundcolor\": \"#E5ECF6\", \"gridcolor\": \"white\", \"gridwidth\": 2, \"linecolor\": \"white\", \"showbackground\": true, \"ticks\": \"\", \"zerolinecolor\": \"white\"}}, \"shapedefaults\": {\"line\": {\"color\": \"#2a3f5f\"}}, \"ternary\": {\"aaxis\": {\"gridcolor\": \"white\", \"linecolor\": \"white\", \"ticks\": \"\"}, \"baxis\": {\"gridcolor\": \"white\", \"linecolor\": \"white\", \"ticks\": \"\"}, \"bgcolor\": \"#E5ECF6\", \"caxis\": {\"gridcolor\": \"white\", \"linecolor\": \"white\", \"ticks\": \"\"}}, \"title\": {\"x\": 0.05}, \"xaxis\": {\"automargin\": true, \"gridcolor\": \"white\", \"linecolor\": \"white\", \"ticks\": \"\", \"zerolinecolor\": \"white\", \"zerolinewidth\": 2}, \"yaxis\": {\"automargin\": true, \"gridcolor\": \"white\", \"linecolor\": \"white\", \"ticks\": \"\", \"zerolinecolor\": \"white\", \"zerolinewidth\": 2}}}},\n",
       "                        {\"responsive\": true}\n",
       "                    ).then(function(){\n",
       "                            \n",
       "var gd = document.getElementById('26744e71-75f5-4523-8fb3-6621761bc3c8');\n",
       "var x = new MutationObserver(function (mutations, observer) {{\n",
       "        var display = window.getComputedStyle(gd).display;\n",
       "        if (!display || display === 'none') {{\n",
       "            console.log([gd, 'removed!']);\n",
       "            Plotly.purge(gd);\n",
       "            observer.disconnect();\n",
       "        }}\n",
       "}});\n",
       "\n",
       "// Listen for the removal of the full notebook cells\n",
       "var notebookContainer = gd.closest('#notebook-container');\n",
       "if (notebookContainer) {{\n",
       "    x.observe(notebookContainer, {childList: true});\n",
       "}}\n",
       "\n",
       "// Listen for the clearing of the current output cell\n",
       "var outputEl = gd.closest('.output');\n",
       "if (outputEl) {{\n",
       "    x.observe(outputEl, {childList: true});\n",
       "}}\n",
       "\n",
       "                        })\n",
       "                };\n",
       "                });\n",
       "            </script>\n",
       "        </div>"
      ]
     },
     "metadata": {},
     "output_type": "display_data"
    }
   ],
   "source": [
    "x, y, z = np.meshgrid(np.arange(-0.8, 1, 0.2),\n",
    "                      np.arange(-0.8, 1, 0.2),\n",
    "                      np.arange(-0.8, 1, 0.8))\n",
    "\n",
    "\n",
    "u = np.sin(np.pi * x) * np.cos(np.pi * y) * np.cos(np.pi * z)\n",
    "v = -np.cos(np.pi * x) * np.sin(np.pi * y) * np.cos(np.pi * z)\n",
    "w = (np.sqrt(2.0 / 3.0) * np.cos(np.pi * x) * np.cos(np.pi * y) *\n",
    "     np.sin(np.pi * z))\n",
    "\n",
    "x, y, z, u, v, w = list(map(lambda x: x.flatten(), [x, y, z, u, v, w]))\n",
    "\n",
    "pl_deep = [[0.0, 'rgb(39, 26, 44)'],\n",
    "           [0.1, 'rgb(53, 41, 74)'],\n",
    "           [0.2, 'rgb(63, 57, 108)'],\n",
    "           [0.3, 'rgb(64, 77, 139)'],\n",
    "           [0.4, 'rgb(61, 99, 148)'],\n",
    "           [0.5, 'rgb(65, 121, 153)'],\n",
    "           [0.6, 'rgb(72, 142, 157)'],\n",
    "           [0.7, 'rgb(80, 164, 162)'],\n",
    "           [0.8, 'rgb(92, 185, 163)'],\n",
    "           [0.9, 'rgb(121, 206, 162)'],\n",
    "           [1.0, 'rgb(165, 222, 166)']]\n",
    "\n",
    "fig = go.Figure()\n",
    "fig.add_trace(go.Cone(\n",
    "              x=[0],\n",
    "              y=[0],\n",
    "              z=[0],\n",
    "              u=[100],\n",
    "              v=[100],\n",
    "              w=[100],\n",
    "              sizemode='scaled',\n",
    "              sizeref=0.025, #this is the default value,\n",
    "              showscale=True,\n",
    "              colorscale=pl_deep, \n",
    "              colorbar=dict(thickness=20, ticklen=4), \n",
    "              anchor='tail'\n",
    "))\n",
    "fig.show()"
   ]
  },
  {
   "cell_type": "code",
   "execution_count": 144,
   "metadata": {},
   "outputs": [],
   "source": [
    "import plotly as py"
   ]
  },
  {
   "cell_type": "code",
   "execution_count": null,
   "metadata": {},
   "outputs": [],
   "source": []
  },
  {
   "cell_type": "code",
   "execution_count": null,
   "metadata": {},
   "outputs": [],
   "source": []
  }
 ],
 "metadata": {
  "kernelspec": {
   "display_name": "Python 3",
   "language": "python",
   "name": "python3"
  },
  "language_info": {
   "codemirror_mode": {
    "name": "ipython",
    "version": 3
   },
   "file_extension": ".py",
   "mimetype": "text/x-python",
   "name": "python",
   "nbconvert_exporter": "python",
   "pygments_lexer": "ipython3",
   "version": "3.7.3"
  }
 },
 "nbformat": 4,
 "nbformat_minor": 2
}
