{
 "cells": [
  {
   "cell_type": "code",
   "execution_count": 36,
   "metadata": {},
   "outputs": [],
   "source": [
    "import os\n",
    "from partition import Partition\n",
    "from generators import PartitionClass\n",
    "from abc import ABC\n",
    "from keras.models import load_model"
   ]
  },
  {
   "cell_type": "code",
   "execution_count": null,
   "metadata": {},
   "outputs": [],
   "source": [
    "Partitions"
   ]
  },
  {
   "cell_type": "code",
   "execution_count": 70,
   "metadata": {},
   "outputs": [],
   "source": [
    "def vae_loss(inputs, outputs):\n",
    "    xent_loss = original_dim * keras.losses.binary_crossentropy(inputs, outputs)\n",
    "    kl_loss = - 0.5 * K.sum(1 + z_log_var - K.square(z_mean) - K.exp(z_log_var), axis=-1)\n",
    "    vae_loss = K.mean(xent_loss + kl_loss)\n",
    "    return vae_loss\n",
    "\n",
    "\n",
    "class Model:\n",
    "    MODEL_FOLDER = '../serialization/models/'\n",
    "    \n",
    "    \n",
    "    def __init__(self, model_file_name):\n",
    "        self.model_path = os.path.join(self.MODEL_FOLDER, model_file_name)\n",
    "        self.model = load_model(self.model_path, custom_objects={'vae_loss': vae_loss})\n",
    "        self.input_shape = [x if x else -1 for x in self.model.input_shape]\n",
    "        self.max_partition_size = self.input_shape[-2]  # Assume all models receive square input and are 2D.\n",
    "        self.output_type = Partition if self.model.layers[0].output_shape == self.model.layers[-1].output_shape else float\n",
    "        \n",
    "    \n",
    "    def _partition_to_input(self, partition):\n",
    "        \"\"\" Translates partitions into a format that is acceptable for the particular model. \"\"\"\n",
    "        \n",
    "        return partition.fit_matrix(self.max_partition_size).reshape(self.input_shape)\n",
    "    \n",
    "    def _output_to_partition(self, output):\n",
    "        pass # TODO\n",
    "    \n",
    "    def _output_to_float(self, output, prob = False):\n",
    "        \"\"\" Translates model output into a single value as expected. \"\"\"\n",
    "        actual_output = output[0][0]\n",
    "        \n",
    "        return actual_output if prob else actual_output.round()\n",
    "    \n",
    "    def predict(self, partition, cast = None):\n",
    "        model_input = self._partition_to_input(partition)\n",
    "        model_output = self._output_to_float(self.model.predict_proba(model_input))\n",
    "        \n",
    "        return cast(model_output) if cast else model_output"
   ]
  },
  {
   "cell_type": "code",
   "execution_count": null,
   "metadata": {},
   "outputs": [],
   "source": [
    "model = load_model('model/multi_task/try.h5', custom_objects={'vae_loss': vae_loss})"
   ]
  },
  {
   "cell_type": "code",
   "execution_count": 71,
   "metadata": {},
   "outputs": [],
   "source": [
    "test = Model('stability.h5')"
   ]
  },
  {
   "cell_type": "code",
   "execution_count": 99,
   "metadata": {
    "scrolled": true
   },
   "outputs": [
    {
     "data": {
      "text/plain": [
       "True"
      ]
     },
     "execution_count": 99,
     "metadata": {},
     "output_type": "execute_result"
    }
   ],
   "source": [
    "test.predict(Partition(1, 19, 3, 5), cast = bool)"
   ]
  },
  {
   "cell_type": "code",
   "execution_count": 97,
   "metadata": {},
   "outputs": [
    {
     "data": {
      "text/plain": [
       "1.0"
      ]
     },
     "execution_count": 97,
     "metadata": {},
     "output_type": "execute_result"
    }
   ],
   "source": [
    "stability_model.predict_proba(test._partition_to_input(Partition([25]*29\n",
    "                                                                )))[0][0]"
   ]
  },
  {
   "cell_type": "code",
   "execution_count": null,
   "metadata": {},
   "outputs": [],
   "source": [
    "class StabilityModel(Model):\n",
    "    def __init__(self, h5=):\n",
    "        \n",
    "        \n",
    "    "
   ]
  }
 ],
 "metadata": {
  "kernelspec": {
   "display_name": "Python 3",
   "language": "python",
   "name": "python3"
  },
  "language_info": {
   "codemirror_mode": {
    "name": "ipython",
    "version": 3
   },
   "file_extension": ".py",
   "mimetype": "text/x-python",
   "name": "python",
   "nbconvert_exporter": "python",
   "pygments_lexer": "ipython3",
   "version": "3.7.3"
  }
 },
 "nbformat": 4,
 "nbformat_minor": 2
}
