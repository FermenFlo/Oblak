{
 "cells": [
  {
   "cell_type": "code",
   "execution_count": 9,
   "metadata": {
    "scrolled": false
   },
   "outputs": [],
   "source": [
    "from config import settings\n",
    "from src.partition import Partition\n",
    "from src.generators import PartitionClass\n",
    "import numpy as np\n",
    "import os\n",
    "\n",
    "from sklearn.model_selection import train_test_split\n",
    "from sklearn.preprocessing import LabelBinarizer\n",
    "from sklearn.ensemble import RandomForestClassifier\n",
    "from sklearn.metrics import roc_auc_score\n",
    "\n",
    "from keras.models import Sequential, Model, load_model\n",
    "from keras.layers import (\n",
    "    Dense, Conv2D, Flatten, \n",
    "    ConvLSTM2D, BatchNormalization,\n",
    "    Conv3D, Input, MaxPooling2D, UpSampling2D,\n",
    ")\n",
    "\n",
    "from keras.callbacks.callbacks import EarlyStopping, ReduceLROnPlateau"
   ]
  },
  {
   "cell_type": "code",
   "execution_count": null,
   "metadata": {},
   "outputs": [],
   "source": [
    "settings.model_folder_path"
   ]
  },
  {
   "cell_type": "markdown",
   "metadata": {},
   "source": [
    "# Keras Stability Model"
   ]
  },
  {
   "cell_type": "code",
   "execution_count": 2,
   "metadata": {},
   "outputs": [],
   "source": [
    "n = 50"
   ]
  },
  {
   "cell_type": "code",
   "execution_count": 3,
   "metadata": {},
   "outputs": [],
   "source": [
    "training_partitions = [p for p in PartitionClass(n).grid_group(n)]\n",
    "training_matrices = [p.fit_matrix(n) for p in training_partitions]\n",
    "training_targets = [p.is_stable for p in training_partitions]\n",
    "\n",
    "X = np.array(training_matrices)\n",
    "y = np.array(training_targets)\n",
    "\n",
    "label_binarizer = LabelBinarizer()\n",
    "y = label_binarizer.fit_transform(y)\n",
    "\n",
    "X_train, X_test, y_train, y_test = train_test_split(X, y)\n",
    "\n",
    "X_train = X_train.reshape(len(X_train), n, n, 1)\n",
    "X_test = X_test.reshape(len(X_test), n, n, 1)"
   ]
  },
  {
   "cell_type": "code",
   "execution_count": 4,
   "metadata": {},
   "outputs": [
    {
     "name": "stderr",
     "output_type": "stream",
     "text": [
      "WARNING: Logging before flag parsing goes to stderr.\n",
      "W1016 20:26:10.847763 4543968704 deprecation_wrapper.py:119] From /Library/Frameworks/Python.framework/Versions/3.7/lib/python3.7/site-packages/keras/backend/tensorflow_backend.py:4070: The name tf.nn.max_pool is deprecated. Please use tf.nn.max_pool2d instead.\n",
      "\n",
      "W1016 20:26:11.050448 4543968704 deprecation.py:323] From /Library/Frameworks/Python.framework/Versions/3.7/lib/python3.7/site-packages/tensorflow/python/ops/nn_impl.py:180: add_dispatch_support.<locals>.wrapper (from tensorflow.python.ops.array_ops) is deprecated and will be removed in a future version.\n",
      "Instructions for updating:\n",
      "Use tf.where in 2.0, which has the same broadcast rule as np.where\n"
     ]
    }
   ],
   "source": [
    "#create model\n",
    "stability_model = Sequential()\n",
    "\n",
    "#add model layers\n",
    "stability_model.add(Conv2D(64, kernel_size=3, activation=\"relu\", input_shape=(n, n, 1)))\n",
    "stability_model.add(MaxPooling2D((2, 2), padding='same'))\n",
    "stability_model.add(Conv2D(32, kernel_size=2, activation=\"relu\"))\n",
    "stability_model.add(MaxPooling2D((2, 2), padding='same'))\n",
    "stability_model.add(Conv2D(16, kernel_size=2, activation=\"relu\"))\n",
    "stability_model.add(MaxPooling2D((2, 2), padding='same'))\n",
    "stability_model.add(Flatten())\n",
    "stability_model.add(Dense(units=500, activation='relu'))\n",
    "stability_model.add(Dense(units=100, activation='relu'))\n",
    "stability_model.add(Dense(units=20, activation='relu'))\n",
    "stability_model.add(Dense(units=len(y[0]), activation='sigmoid'))\n",
    "\n",
    "stability_model.compile(optimizer='adam', loss='binary_crossentropy', metrics=['accuracy'])"
   ]
  },
  {
   "cell_type": "code",
   "execution_count": 6,
   "metadata": {},
   "outputs": [],
   "source": [
    "lr = ReduceLROnPlateau(monitor='val_loss', factor=0.2, patience=5, min_lr=0.001)\n",
    "es = EarlyStopping(monitor='val_loss', min_delta=.001, patience=5, verbose=0, mode='auto', baseline=None, restore_best_weights=False)\n",
    "cbs = [es, lr]"
   ]
  },
  {
   "cell_type": "code",
   "execution_count": 7,
   "metadata": {},
   "outputs": [
    {
     "name": "stdout",
     "output_type": "stream",
     "text": [
      "Train on 971977 samples, validate on 323993 samples\n",
      "Epoch 1/1\n",
      "971977/971977 [==============================] - 1339s 1ms/step - loss: 4.7093e-07 - accuracy: 1.0000 - val_loss: 1.6107e-07 - val_accuracy: 1.0000\n"
     ]
    },
    {
     "data": {
      "text/plain": [
       "<keras.callbacks.callbacks.History at 0x13c912630>"
      ]
     },
     "execution_count": 7,
     "metadata": {},
     "output_type": "execute_result"
    }
   ],
   "source": [
    "stability_model.fit(X_train, y_train, validation_data=(X_test, y_test), epochs=1, batch_size=1000, workers = 4)"
   ]
  },
  {
   "cell_type": "code",
   "execution_count": 11,
   "metadata": {
    "scrolled": true
   },
   "outputs": [],
   "source": [
    "model_path = os.path.join(settings.model_folder_path, 'stability.h5')\n",
    "# Serialize it\n",
    "stability_model.save(model_path)\n",
    "del stability_model\n",
    "stability_model = load_model(model_path)"
   ]
  },
  {
   "cell_type": "code",
   "execution_count": 12,
   "metadata": {
    "scrolled": true
   },
   "outputs": [
    {
     "name": "stdout",
     "output_type": "stream",
     "text": [
      "Accuracy: 100.0%\n",
      "AUC Score: 100.0%\n"
     ]
    }
   ],
   "source": [
    "# 100% accuracy\n",
    "print(f'Accuracy: {stability_model.evaluate(X_test, y_test, verbose = False)[1] * 100}%')\n",
    "print(f'AUC Score: {roc_auc_score(y_test, stability_model.predict_proba(X_test)) * 100}%')"
   ]
  }
 ],
 "metadata": {
  "kernelspec": {
   "display_name": "Python 3",
   "language": "python",
   "name": "python3"
  },
  "language_info": {
   "codemirror_mode": {
    "name": "ipython",
    "version": 3
   },
   "file_extension": ".py",
   "mimetype": "text/x-python",
   "name": "python",
   "nbconvert_exporter": "python",
   "pygments_lexer": "ipython3",
   "version": "3.7.3"
  }
 },
 "nbformat": 4,
 "nbformat_minor": 2
}
