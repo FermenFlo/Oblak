{
 "cells": [
  {
   "cell_type": "code",
   "execution_count": 1,
   "metadata": {
    "scrolled": false
   },
   "outputs": [
    {
     "name": "stderr",
     "output_type": "stream",
     "text": [
      "Using TensorFlow backend.\n"
     ]
    }
   ],
   "source": [
    "from src.partition import Partition\n",
    "from src.generators import PartitionClass\n",
    "from src.visualization import Visualizer\n",
    "import numpy as np\n",
    "import os\n",
    "\n",
    "import plotly as py\n",
    "import plotly.graph_objects as go\n",
    "import matplotlib.pyplot as plt\n",
    "\n",
    "from sklearn.model_selection import train_test_split\n",
    "from sklearn.preprocessing import LabelBinarizer\n",
    "\n",
    "from keras import backend as K\n",
    "from keras.models import Sequential, Model, load_model\n",
    "from keras.layers import (\n",
    "    Dense, Conv2D, Flatten,\n",
    "    ConvLSTM2D, BatchNormalization, Reshape,\n",
    "    Conv3D, Input, MaxPooling2D, UpSampling2D, Lambda, Conv2DTranspose\n",
    ")\n",
    "from keras.utils import plot_model\n",
    "from keras.callbacks.callbacks import EarlyStopping, ReduceLROnPlateau\n",
    "import keras"
   ]
  },
  {
   "cell_type": "code",
   "execution_count": 2,
   "metadata": {},
   "outputs": [],
   "source": [
    "# Adapted: https://www.kaggle.com/vincentman0403/vae-with-convolution-on-mnist\n",
    "n = 20"
   ]
  },
  {
   "cell_type": "code",
   "execution_count": 3,
   "metadata": {},
   "outputs": [],
   "source": [
    "training_partitions = [Partition()] + [p for p in PartitionClass(n).grid_group()]\n",
    "training_matrices = [p.fit_matrix(n) for p in training_partitions]\n",
    "training_targets = [p.fit_matrix(n) for p in training_partitions]\n",
    "\n",
    "X = np.array(training_matrices).reshape(-1, n, n, 1)\n",
    "y = np.array(training_targets).reshape(-1, n, n, 1)\n",
    "X_train, X_test, y_train, y_test = train_test_split(X, y)"
   ]
  },
  {
   "cell_type": "markdown",
   "metadata": {},
   "source": [
    "# VAE\n"
   ]
  },
  {
   "cell_type": "code",
   "execution_count": 5,
   "metadata": {},
   "outputs": [],
   "source": [
    "# reparameterization trick: instead of sampling from Q(z|X), sample epsilon = N(0,1)\n",
    "# then z = z_mean + sqrt(var)*eps\n",
    "def sampling(args):\n",
    "    z_mean, z_log_var = args\n",
    "    batch = K.shape(z_mean)[0]\n",
    "    dim = K.int_shape(z_mean)[1]\n",
    "    # by default, random_normal has mean=0 and std=1.0\n",
    "    epsilon = K.random_normal(shape=(batch, dim))\n",
    "    return z_mean + K.exp(0.5 * z_log_var) * epsilon\n",
    "def plot_results(encoder, decoder, x_test, y_test, batch_size=128):\n",
    "    # display a 2D plot of the digit classes in the latent space\n",
    "    z_mean, _, _ = encoder.predict(x_test,\n",
    "                                   batch_size=batch_size)\n",
    "    plt.figure(figsize=(12, 10))\n",
    "    plt.scatter(z_mean[:, 0], z_mean[:, 1], c=y_test)\n",
    "    plt.colorbar()\n",
    "    plt.xlabel(\"z[0]\")\n",
    "    plt.ylabel(\"z[1]\")\n",
    "    plt.show()\n",
    "\n",
    "    # display a 30x30 2D manifold of digits\n",
    "    n = 30\n",
    "    digit_size = 28\n",
    "    figure = np.zeros((digit_size * n, digit_size * n))\n",
    "    # linearly spaced coordinates corresponding to the 2D plot\n",
    "    # of digit classes in the latent space\n",
    "    grid_x = np.linspace(-4, 4, n)\n",
    "    grid_y = np.linspace(-4, 4, n)[::-1]\n",
    "\n",
    "    for i, yi in enumerate(grid_y):\n",
    "        for j, xi in enumerate(grid_x):\n",
    "            z_sample = np.array([[xi, yi]])\n",
    "            x_decoded = decoder.predict(z_sample)\n",
    "            digit = x_decoded[0].reshape(digit_size, digit_size)\n",
    "            figure[i * digit_size: (i + 1) * digit_size,\n",
    "                   j * digit_size: (j + 1) * digit_size] = digit\n",
    "\n",
    "    plt.figure(figsize=(10, 10))\n",
    "    start_range = digit_size // 2\n",
    "    end_range = n * digit_size + start_range + 1\n",
    "    pixel_range = np.arange(start_range, end_range, digit_size)\n",
    "    sample_range_x = np.round(grid_x, 1)\n",
    "    sample_range_y = np.round(grid_y, 1)\n",
    "    plt.xticks(pixel_range, sample_range_x)\n",
    "    plt.yticks(pixel_range, sample_range_y)\n",
    "    plt.xlabel(\"z[0]\")\n",
    "    plt.ylabel(\"z[1]\")\n",
    "    plt.imshow(figure, cmap='Greys_r')\n",
    "    plt.show()"
   ]
  },
  {
   "cell_type": "code",
   "execution_count": 6,
   "metadata": {},
   "outputs": [],
   "source": [
    "input_shape = (n, n, 1)\n",
    "batch_size = 32\n",
    "kernel_size = 3\n",
    "filters = 32\n",
    "latent_dim = 3\n",
    "epochs = 10000\n",
    "use_mse = False\n",
    "load_weights = False"
   ]
  },
  {
   "cell_type": "code",
   "execution_count": 7,
   "metadata": {},
   "outputs": [
    {
     "name": "stdout",
     "output_type": "stream",
     "text": [
      "Model: \"encoder\"\n",
      "__________________________________________________________________________________________________\n",
      "Layer (type)                    Output Shape         Param #     Connected to                     \n",
      "==================================================================================================\n",
      "encoder_input (InputLayer)      (None, 40, 40, 1)    0                                            \n",
      "__________________________________________________________________________________________________\n",
      "conv2d_1 (Conv2D)               (None, 20, 20, 64)   640         encoder_input[0][0]              \n",
      "__________________________________________________________________________________________________\n",
      "conv2d_2 (Conv2D)               (None, 10, 10, 128)  73856       conv2d_1[0][0]                   \n",
      "__________________________________________________________________________________________________\n",
      "flatten_1 (Flatten)             (None, 12800)        0           conv2d_2[0][0]                   \n",
      "__________________________________________________________________________________________________\n",
      "dense_1 (Dense)                 (None, 16)           204816      flatten_1[0][0]                  \n",
      "__________________________________________________________________________________________________\n",
      "z_mean (Dense)                  (None, 3)            51          dense_1[0][0]                    \n",
      "__________________________________________________________________________________________________\n",
      "z_log_var (Dense)               (None, 3)            51          dense_1[0][0]                    \n",
      "__________________________________________________________________________________________________\n",
      "z (Lambda)                      (None, 3)            0           z_mean[0][0]                     \n",
      "                                                                 z_log_var[0][0]                  \n",
      "==================================================================================================\n",
      "Total params: 279,414\n",
      "Trainable params: 279,414\n",
      "Non-trainable params: 0\n",
      "__________________________________________________________________________________________________\n"
     ]
    }
   ],
   "source": [
    "inputs = Input(shape=input_shape, name='encoder_input')\n",
    "x = inputs\n",
    "for i in range(2):\n",
    "    filters *= 2\n",
    "    x = Conv2D(filters=filters,\n",
    "               kernel_size=kernel_size,\n",
    "               activation='relu',\n",
    "               strides=2,\n",
    "               padding='same')(x)\n",
    "\n",
    "# shape info needed to build decoder model\n",
    "shape = K.int_shape(x)\n",
    "\n",
    "# generate latent vector Q(z|X)\n",
    "x = Flatten()(x)\n",
    "x = Dense(16, activation='relu')(x)\n",
    "z_mean = Dense(latent_dim, name='z_mean')(x)\n",
    "z_log_var = Dense(latent_dim, name='z_log_var')(x)\n",
    "\n",
    "# use reparameterization trick to push the sampling out as input\n",
    "# note that \"output_shape\" isn't necessary with the TensorFlow backend\n",
    "z = Lambda(sampling, output_shape=(latent_dim,), name='z')([z_mean, z_log_var])\n",
    "\n",
    "# instantiate encoder model\n",
    "encoder = Model(inputs, [z_mean, z_log_var, z], name='encoder')\n",
    "encoder.summary()"
   ]
  },
  {
   "cell_type": "code",
   "execution_count": 13,
   "metadata": {
    "scrolled": true
   },
   "outputs": [
    {
     "name": "stdout",
     "output_type": "stream",
     "text": [
      "Model: \"decoder\"\n",
      "_________________________________________________________________\n",
      "Layer (type)                 Output Shape              Param #   \n",
      "=================================================================\n",
      "z_sampling (InputLayer)      (None, 3)                 0         \n",
      "_________________________________________________________________\n",
      "dense_3 (Dense)              (None, 12800)             51200     \n",
      "_________________________________________________________________\n",
      "reshape_2 (Reshape)          (None, 10, 10, 128)       0         \n",
      "_________________________________________________________________\n",
      "conv2d_transpose_3 (Conv2DTr (None, 20, 20, 32)        36896     \n",
      "_________________________________________________________________\n",
      "conv2d_transpose_4 (Conv2DTr (None, 40, 40, 16)        4624      \n",
      "_________________________________________________________________\n",
      "decoder_output (Conv2DTransp (None, 40, 40, 1)         145       \n",
      "=================================================================\n",
      "Total params: 92,865\n",
      "Trainable params: 92,865\n",
      "Non-trainable params: 0\n",
      "_________________________________________________________________\n"
     ]
    }
   ],
   "source": [
    "latent_inputs = Input(shape=(latent_dim,), name='z_sampling')\n",
    "x = Dense(shape[1] * shape[2] * shape[3], activation='relu')(latent_inputs)\n",
    "x = Reshape((shape[1], shape[2], shape[3]))(x)\n",
    "\n",
    "# use Conv2DTranspose to reverse the conv layers from the encoder\n",
    "for i in range(2):\n",
    "    x = Conv2DTranspose(filters=filters,\n",
    "                        kernel_size=kernel_size,\n",
    "                        activation='relu',\n",
    "                        strides=2,\n",
    "                        padding='same')(x)\n",
    "    filters //= 2\n",
    "\n",
    "outputs = Conv2DTranspose(filters=1,\n",
    "                          kernel_size=kernel_size,\n",
    "                          activation='sigmoid',\n",
    "                          padding='same',\n",
    "                          name='decoder_output')(x)\n",
    "\n",
    "# instantiate decoder model\n",
    "decoder = Model(latent_inputs, outputs, name='decoder')\n",
    "decoder.summary()"
   ]
  },
  {
   "cell_type": "code",
   "execution_count": 14,
   "metadata": {},
   "outputs": [],
   "source": [
    "outputs = decoder(encoder(inputs)[2])\n",
    "vae = Model(inputs, outputs, name='vae')"
   ]
  },
  {
   "cell_type": "code",
   "execution_count": 15,
   "metadata": {},
   "outputs": [],
   "source": [
    "if use_mse:\n",
    "    reconstruction_loss = keras.losses.mse\n",
    "else:\n",
    "    reconstruction_loss = keras.losses.binary_crossentropy\n",
    "\n",
    "    \n",
    "xent_loss = (n * n) * reconstruction_loss(K.flatten(inputs), K.flatten(outputs))\n",
    "kl_loss = - 0.5 * K.sum(1 + z_log_var - K.square(z_mean) - K.exp(z_log_var), axis=-1)\n",
    "vae_loss = K.mean(xent_loss + (kl_loss))\n",
    "\n",
    "# reconstruction_loss *= n * n\n",
    "# kl_loss = 1 + z_log_var - K.square(z_mean) - K.exp(z_log_var)\n",
    "# kl_loss = K.sum(kl_loss, axis=-1)\n",
    "# kl_loss *= -0.5\n",
    "# vae_loss = K.mean(reconstruction_loss + kl_loss)\n",
    "vae.add_loss(vae_loss)"
   ]
  },
  {
   "cell_type": "code",
   "execution_count": 16,
   "metadata": {},
   "outputs": [
    {
     "name": "stdout",
     "output_type": "stream",
     "text": [
      "Model: \"vae\"\n",
      "_________________________________________________________________\n",
      "Layer (type)                 Output Shape              Param #   \n",
      "=================================================================\n",
      "encoder_input (InputLayer)   (None, 40, 40, 1)         0         \n",
      "_________________________________________________________________\n",
      "encoder (Model)              [(None, 3), (None, 3), (N 279414    \n",
      "_________________________________________________________________\n",
      "decoder (Model)              (None, 40, 40, 1)         92865     \n",
      "=================================================================\n",
      "Total params: 372,279\n",
      "Trainable params: 372,279\n",
      "Non-trainable params: 0\n",
      "_________________________________________________________________\n"
     ]
    },
    {
     "name": "stderr",
     "output_type": "stream",
     "text": [
      "/Library/Frameworks/Python.framework/Versions/3.7/lib/python3.7/site-packages/keras/engine/training_utils.py:819: UserWarning:\n",
      "\n",
      "Output decoder missing from loss dictionary. We assume this was done on purpose. The fit and evaluate APIs will not be expecting any data to be passed to decoder.\n",
      "\n"
     ]
    }
   ],
   "source": [
    "vae.compile(optimizer='rmsprop')\n",
    "lr = ReduceLROnPlateau(monitor='val_loss', factor=0.2, patience=5, min_lr=0.000001)\n",
    "es = EarlyStopping(monitor='val_loss', min_delta=.001, patience=1000, verbose=0, mode='auto', baseline=None, restore_best_weights=False)\n",
    "cbs = [es, lr]\n",
    "\n",
    "vae.summary()"
   ]
  },
  {
   "cell_type": "code",
   "execution_count": 17,
   "metadata": {
    "scrolled": true
   },
   "outputs": [
    {
     "name": "stdout",
     "output_type": "stream",
     "text": [
      "Train on 161481 samples, validate on 53827 samples\n",
      "Epoch 1/10000\n",
      "161481/161481 [==============================] - 258s 2ms/step - loss: 26.0732 - val_loss: 17.6058\n",
      "Epoch 2/10000\n",
      "161481/161481 [==============================] - 237s 1ms/step - loss: 17.0631 - val_loss: 16.5710\n",
      "Epoch 3/10000\n",
      "161481/161481 [==============================] - 237s 1ms/step - loss: 16.3666 - val_loss: 16.2392\n",
      "Epoch 4/10000\n",
      "161481/161481 [==============================] - 282s 2ms/step - loss: 16.1202 - val_loss: 16.1285\n",
      "Epoch 5/10000\n",
      "161481/161481 [==============================] - 248s 2ms/step - loss: 15.9726 - val_loss: 15.9286\n",
      "Epoch 6/10000\n",
      "161481/161481 [==============================] - 254s 2ms/step - loss: 15.8630 - val_loss: 15.8418\n",
      "Epoch 7/10000\n",
      "161481/161481 [==============================] - 267s 2ms/step - loss: 15.7901 - val_loss: 15.7212\n",
      "Epoch 8/10000\n",
      "161481/161481 [==============================] - 248s 2ms/step - loss: 15.7257 - val_loss: 15.5715\n",
      "Epoch 9/10000\n",
      "  3700/161481 [..............................] - ETA: 3:45 - loss: 15.6843"
     ]
    },
    {
     "ename": "KeyboardInterrupt",
     "evalue": "",
     "output_type": "error",
     "traceback": [
      "\u001b[0;31m---------------------------------------------------------------------------\u001b[0m",
      "\u001b[0;31mKeyboardInterrupt\u001b[0m                         Traceback (most recent call last)",
      "\u001b[0;32m<ipython-input-17-121a47f9e5c5>\u001b[0m in \u001b[0;36m<module>\u001b[0;34m\u001b[0m\n\u001b[1;32m      3\u001b[0m         \u001b[0mbatch_size\u001b[0m\u001b[0;34m=\u001b[0m\u001b[0;36m100\u001b[0m\u001b[0;34m,\u001b[0m\u001b[0;34m\u001b[0m\u001b[0;34m\u001b[0m\u001b[0m\n\u001b[1;32m      4\u001b[0m         \u001b[0mvalidation_data\u001b[0m\u001b[0;34m=\u001b[0m\u001b[0;34m(\u001b[0m\u001b[0mX_test\u001b[0m\u001b[0;34m,\u001b[0m \u001b[0;32mNone\u001b[0m\u001b[0;34m)\u001b[0m\u001b[0;34m,\u001b[0m\u001b[0;34m\u001b[0m\u001b[0;34m\u001b[0m\u001b[0m\n\u001b[0;32m----> 5\u001b[0;31m         callbacks = cbs[:1])\n\u001b[0m",
      "\u001b[0;32m/Library/Frameworks/Python.framework/Versions/3.7/lib/python3.7/site-packages/keras/engine/training.py\u001b[0m in \u001b[0;36mfit\u001b[0;34m(self, x, y, batch_size, epochs, verbose, callbacks, validation_split, validation_data, shuffle, class_weight, sample_weight, initial_epoch, steps_per_epoch, validation_steps, validation_freq, max_queue_size, workers, use_multiprocessing, **kwargs)\u001b[0m\n\u001b[1;32m   1237\u001b[0m                                         \u001b[0msteps_per_epoch\u001b[0m\u001b[0;34m=\u001b[0m\u001b[0msteps_per_epoch\u001b[0m\u001b[0;34m,\u001b[0m\u001b[0;34m\u001b[0m\u001b[0;34m\u001b[0m\u001b[0m\n\u001b[1;32m   1238\u001b[0m                                         \u001b[0mvalidation_steps\u001b[0m\u001b[0;34m=\u001b[0m\u001b[0mvalidation_steps\u001b[0m\u001b[0;34m,\u001b[0m\u001b[0;34m\u001b[0m\u001b[0;34m\u001b[0m\u001b[0m\n\u001b[0;32m-> 1239\u001b[0;31m                                         validation_freq=validation_freq)\n\u001b[0m\u001b[1;32m   1240\u001b[0m \u001b[0;34m\u001b[0m\u001b[0m\n\u001b[1;32m   1241\u001b[0m     def evaluate(self,\n",
      "\u001b[0;32m/Library/Frameworks/Python.framework/Versions/3.7/lib/python3.7/site-packages/keras/engine/training_arrays.py\u001b[0m in \u001b[0;36mfit_loop\u001b[0;34m(model, fit_function, fit_inputs, out_labels, batch_size, epochs, verbose, callbacks, val_function, val_inputs, shuffle, initial_epoch, steps_per_epoch, validation_steps, validation_freq)\u001b[0m\n\u001b[1;32m    194\u001b[0m                     \u001b[0mins_batch\u001b[0m\u001b[0;34m[\u001b[0m\u001b[0mi\u001b[0m\u001b[0;34m]\u001b[0m \u001b[0;34m=\u001b[0m \u001b[0mins_batch\u001b[0m\u001b[0;34m[\u001b[0m\u001b[0mi\u001b[0m\u001b[0;34m]\u001b[0m\u001b[0;34m.\u001b[0m\u001b[0mtoarray\u001b[0m\u001b[0;34m(\u001b[0m\u001b[0;34m)\u001b[0m\u001b[0;34m\u001b[0m\u001b[0;34m\u001b[0m\u001b[0m\n\u001b[1;32m    195\u001b[0m \u001b[0;34m\u001b[0m\u001b[0m\n\u001b[0;32m--> 196\u001b[0;31m                 \u001b[0mouts\u001b[0m \u001b[0;34m=\u001b[0m \u001b[0mfit_function\u001b[0m\u001b[0;34m(\u001b[0m\u001b[0mins_batch\u001b[0m\u001b[0;34m)\u001b[0m\u001b[0;34m\u001b[0m\u001b[0;34m\u001b[0m\u001b[0m\n\u001b[0m\u001b[1;32m    197\u001b[0m                 \u001b[0mouts\u001b[0m \u001b[0;34m=\u001b[0m \u001b[0mto_list\u001b[0m\u001b[0;34m(\u001b[0m\u001b[0mouts\u001b[0m\u001b[0;34m)\u001b[0m\u001b[0;34m\u001b[0m\u001b[0;34m\u001b[0m\u001b[0m\n\u001b[1;32m    198\u001b[0m                 \u001b[0;32mfor\u001b[0m \u001b[0ml\u001b[0m\u001b[0;34m,\u001b[0m \u001b[0mo\u001b[0m \u001b[0;32min\u001b[0m \u001b[0mzip\u001b[0m\u001b[0;34m(\u001b[0m\u001b[0mout_labels\u001b[0m\u001b[0;34m,\u001b[0m \u001b[0mouts\u001b[0m\u001b[0;34m)\u001b[0m\u001b[0;34m:\u001b[0m\u001b[0;34m\u001b[0m\u001b[0;34m\u001b[0m\u001b[0m\n",
      "\u001b[0;32m/Library/Frameworks/Python.framework/Versions/3.7/lib/python3.7/site-packages/tensorflow/python/keras/backend.py\u001b[0m in \u001b[0;36m__call__\u001b[0;34m(self, inputs)\u001b[0m\n\u001b[1;32m   3290\u001b[0m \u001b[0;34m\u001b[0m\u001b[0m\n\u001b[1;32m   3291\u001b[0m     fetched = self._callable_fn(*array_vals,\n\u001b[0;32m-> 3292\u001b[0;31m                                 run_metadata=self.run_metadata)\n\u001b[0m\u001b[1;32m   3293\u001b[0m     \u001b[0mself\u001b[0m\u001b[0;34m.\u001b[0m\u001b[0m_call_fetch_callbacks\u001b[0m\u001b[0;34m(\u001b[0m\u001b[0mfetched\u001b[0m\u001b[0;34m[\u001b[0m\u001b[0;34m-\u001b[0m\u001b[0mlen\u001b[0m\u001b[0;34m(\u001b[0m\u001b[0mself\u001b[0m\u001b[0;34m.\u001b[0m\u001b[0m_fetches\u001b[0m\u001b[0;34m)\u001b[0m\u001b[0;34m:\u001b[0m\u001b[0;34m]\u001b[0m\u001b[0;34m)\u001b[0m\u001b[0;34m\u001b[0m\u001b[0;34m\u001b[0m\u001b[0m\n\u001b[1;32m   3294\u001b[0m     output_structure = nest.pack_sequence_as(\n",
      "\u001b[0;32m/Library/Frameworks/Python.framework/Versions/3.7/lib/python3.7/site-packages/tensorflow/python/client/session.py\u001b[0m in \u001b[0;36m__call__\u001b[0;34m(self, *args, **kwargs)\u001b[0m\n\u001b[1;32m   1456\u001b[0m         ret = tf_session.TF_SessionRunCallable(self._session._session,\n\u001b[1;32m   1457\u001b[0m                                                \u001b[0mself\u001b[0m\u001b[0;34m.\u001b[0m\u001b[0m_handle\u001b[0m\u001b[0;34m,\u001b[0m \u001b[0margs\u001b[0m\u001b[0;34m,\u001b[0m\u001b[0;34m\u001b[0m\u001b[0;34m\u001b[0m\u001b[0m\n\u001b[0;32m-> 1458\u001b[0;31m                                                run_metadata_ptr)\n\u001b[0m\u001b[1;32m   1459\u001b[0m         \u001b[0;32mif\u001b[0m \u001b[0mrun_metadata\u001b[0m\u001b[0;34m:\u001b[0m\u001b[0;34m\u001b[0m\u001b[0;34m\u001b[0m\u001b[0m\n\u001b[1;32m   1460\u001b[0m           \u001b[0mproto_data\u001b[0m \u001b[0;34m=\u001b[0m \u001b[0mtf_session\u001b[0m\u001b[0;34m.\u001b[0m\u001b[0mTF_GetBuffer\u001b[0m\u001b[0;34m(\u001b[0m\u001b[0mrun_metadata_ptr\u001b[0m\u001b[0;34m)\u001b[0m\u001b[0;34m\u001b[0m\u001b[0;34m\u001b[0m\u001b[0m\n",
      "\u001b[0;31mKeyboardInterrupt\u001b[0m: "
     ]
    }
   ],
   "source": [
    "vae.fit(X_train,\n",
    "        epochs=epochs,\n",
    "        batch_size=100,\n",
    "        validation_data=(X_test, None),\n",
    "        callbacks = cbs[:1])"
   ]
  },
  {
   "cell_type": "code",
   "execution_count": 18,
   "metadata": {},
   "outputs": [],
   "source": [
    "vae.save(f'serialization/models/cnn_vae_{n}_all.h5')"
   ]
  },
  {
   "cell_type": "markdown",
   "metadata": {},
   "source": [
    "# Validation"
   ]
  },
  {
   "cell_type": "code",
   "execution_count": 4,
   "metadata": {
    "scrolled": true
   },
   "outputs": [],
   "source": [
    "visualizer = Visualizer(f'serialization/models/cnn_vae_{n}_all.h5', full_path = True)"
   ]
  },
  {
   "cell_type": "code",
   "execution_count": 5,
   "metadata": {},
   "outputs": [],
   "source": [
    "# test = sorted([(p, p._next_oblak_step[1]) for p in PartitionClass(n).grid_group()], key = len)"
   ]
  },
  {
   "cell_type": "code",
   "execution_count": 6,
   "metadata": {},
   "outputs": [],
   "source": [
    "partitions = [p for p in [Partition([])] + [p for p in PartitionClass(n).grid_group()]]\n",
    "\n",
    "# partitions = [p for p in PartitionClass(n).grid_group() if p.is_stable or p.is_almost_rectangular()]"
   ]
  },
  {
   "cell_type": "code",
   "execution_count": 7,
   "metadata": {},
   "outputs": [],
   "source": [
    "test = []\n",
    "for p in partitions:#PartitionClass(n).grid_group():\n",
    "    reduction_group = [p]\n",
    "    \n",
    "    while not p.is_stable:\n",
    "        p = p._next_oblak_step[1]\n",
    "        \n",
    "        reduction_group.append(p)\n",
    "        \n",
    "    if reduction_group[-1] != Partition([]):\n",
    "        reduction_group.append(Partition([]))\n",
    "        \n",
    "    test.append(reduction_group)\n",
    "    \n",
    "test = sorted(test, key = len)"
   ]
  },
  {
   "cell_type": "code",
   "execution_count": 14,
   "metadata": {},
   "outputs": [],
   "source": [
    "import pandas as pd"
   ]
  },
  {
   "cell_type": "code",
   "execution_count": 6,
   "metadata": {},
   "outputs": [
    {
     "ename": "NameError",
     "evalue": "name 'pd' is not defined",
     "output_type": "error",
     "traceback": [
      "\u001b[0;31m---------------------------------------------------------------------------\u001b[0m",
      "\u001b[0;31mNameError\u001b[0m                                 Traceback (most recent call last)",
      "\u001b[0;32m<ipython-input-6-96dd1ad6e6f9>\u001b[0m in \u001b[0;36m<module>\u001b[0;34m\u001b[0m\n\u001b[0;32m----> 1\u001b[0;31m \u001b[0mpd\u001b[0m\u001b[0;34m.\u001b[0m\u001b[0mDataFrame\u001b[0m\u001b[0;34m(\u001b[0m\u001b[0;34m[\u001b[0m\u001b[0;34m(\u001b[0m\u001b[0mp\u001b[0m\u001b[0;34m,\u001b[0m \u001b[0mp\u001b[0m\u001b[0;34m.\u001b[0m\u001b[0mnum_corners\u001b[0m\u001b[0;34m,\u001b[0m \u001b[0mp\u001b[0m\u001b[0;34m.\u001b[0m\u001b[0mbox_size\u001b[0m\u001b[0;34m)\u001b[0m \u001b[0;32mfor\u001b[0m \u001b[0mp\u001b[0m \u001b[0;32min\u001b[0m \u001b[0mpartitions\u001b[0m \u001b[0;32mif\u001b[0m \u001b[0mp\u001b[0m\u001b[0;34m.\u001b[0m\u001b[0mis_stable\u001b[0m\u001b[0;34m]\u001b[0m\u001b[0;34m)\u001b[0m\u001b[0;34m[\u001b[0m\u001b[0;36m1\u001b[0m\u001b[0;34m]\u001b[0m\u001b[0;34m.\u001b[0m\u001b[0mvalue_counts\u001b[0m\u001b[0;34m(\u001b[0m\u001b[0;34m)\u001b[0m\u001b[0;34m\u001b[0m\u001b[0;34m\u001b[0m\u001b[0m\n\u001b[0m",
      "\u001b[0;31mNameError\u001b[0m: name 'pd' is not defined"
     ]
    }
   ],
   "source": [
    "pd.DataFrame([(p, p.num_corners, p.box_size) for p in partitions if p.is_stable])[1].value_counts()"
   ]
  },
  {
   "cell_type": "code",
   "execution_count": null,
   "metadata": {},
   "outputs": [],
   "source": []
  },
  {
   "cell_type": "code",
   "execution_count": 9,
   "metadata": {
    "scrolled": false
   },
   "outputs": [
    {
     "data": {
      "text/plain": [
       "(15, 7, 1, 1, 1)"
      ]
     },
     "execution_count": 9,
     "metadata": {},
     "output_type": "execute_result"
    }
   ],
   "source": [
    "visualizer.model.predict(Partition((15, 8, 1, 1, 1)))"
   ]
  },
  {
   "cell_type": "code",
   "execution_count": 8,
   "metadata": {},
   "outputs": [
    {
     "data": {
      "text/plain": [
       "(0, 0)"
      ]
     },
     "execution_count": 8,
     "metadata": {},
     "output_type": "execute_result"
    }
   ],
   "source": [
    "Partition(0, 0)"
   ]
  },
  {
   "cell_type": "code",
   "execution_count": 15,
   "metadata": {
    "scrolled": false
   },
   "outputs": [
    {
     "data": {
      "text/plain": [
       "array([9.9997932e-01, 1.0000000e+00, 1.0000000e+00, 1.0000000e+00,\n",
       "       1.5467405e-05, 0.0000000e+00, 0.0000000e+00, 0.0000000e+00,\n",
       "       0.0000000e+00, 0.0000000e+00, 0.0000000e+00, 0.0000000e+00,\n",
       "       0.0000000e+00, 0.0000000e+00, 0.0000000e+00, 0.0000000e+00,\n",
       "       0.0000000e+00, 0.0000000e+00, 0.0000000e+00, 0.0000000e+00],\n",
       "      dtype=float32)"
      ]
     },
     "execution_count": 15,
     "metadata": {},
     "output_type": "execute_result"
    }
   ],
   "source": [
    "out.reshape(20, 20)[0]"
   ]
  },
  {
   "cell_type": "code",
   "execution_count": 12,
   "metadata": {
    "scrolled": false
   },
   "outputs": [
    {
     "data": {
      "application/vnd.plotly.v1+json": {
       "config": {
        "plotlyServerURL": "https://plot.ly"
       },
       "data": [
        {
         "marker": {
          "color": [
           0,
           0,
           1,
           1,
           1,
           1,
           1,
           1,
           1,
           2,
           1,
           1,
           2,
           1,
           1,
           2,
           2,
           1,
           2,
           1,
           2,
           2,
           1,
           2,
           1,
           2,
           2,
           2,
           1,
           2,
           2,
           1,
           2,
           2,
           2,
           1,
           2,
           2,
           1,
           3,
           2,
           2,
           2,
           2,
           1,
           2,
           2,
           2,
           1,
           3,
           2,
           2,
           2,
           2,
           1,
           2,
           2,
           2,
           1,
           3,
           3,
           2,
           2,
           2,
           2,
           2,
           1,
           2,
           2,
           2,
           2,
           1,
           3,
           3,
           2,
           3,
           2,
           2,
           2,
           2,
           1,
           3,
           2,
           2,
           2,
           2,
           1,
           3,
           3,
           3,
           2,
           3,
           2,
           2,
           2,
           2,
           2,
           1,
           3,
           2,
           2,
           2,
           2,
           2,
           1,
           3,
           3,
           3,
           2,
           3,
           3,
           2,
           2,
           2,
           2,
           2,
           1,
           3,
           3,
           2,
           2,
           2,
           2,
           2,
           1,
           3,
           3,
           3,
           3,
           2,
           3,
           3,
           2,
           3,
           2,
           2,
           2,
           2,
           2,
           1,
           3,
           3,
           2,
           3,
           2,
           2,
           2,
           2,
           2,
           1,
           3,
           3,
           3,
           3,
           2,
           3,
           3,
           3,
           2,
           3,
           2,
           2,
           2,
           2,
           2,
           1,
           3,
           3,
           3,
           2,
           3,
           2,
           2,
           2,
           2,
           2,
           1,
           4,
           3,
           3,
           3,
           3,
           3,
           2,
           3,
           3,
           3,
           2,
           3,
           3,
           2,
           2,
           2,
           2,
           2,
           2,
           1
          ],
          "colorscale": [
           [
            0,
            "#440154"
           ],
           [
            0.1111111111111111,
            "#482878"
           ],
           [
            0.2222222222222222,
            "#3e4989"
           ],
           [
            0.3333333333333333,
            "#31688e"
           ],
           [
            0.4444444444444444,
            "#26828e"
           ],
           [
            0.5555555555555556,
            "#1f9e89"
           ],
           [
            0.6666666666666666,
            "#35b779"
           ],
           [
            0.7777777777777778,
            "#6ece58"
           ],
           [
            0.8888888888888888,
            "#b5de2b"
           ],
           [
            1,
            "#fde725"
           ]
          ],
          "size": 10
         },
         "mode": "markers",
         "name": "z",
         "text": [
          "()",
          "(1,)",
          "(2,)",
          "(3,)",
          "(3, 1)",
          "(4,)",
          "(4, 1)",
          "(5,)",
          "(5, 1)",
          "(4, 2)",
          "(6,)",
          "(6, 1)",
          "(5, 2)",
          "(7,)",
          "(7, 1)",
          "(6, 2)",
          "(5, 3)",
          "(8,)",
          "(5, 3, 1)",
          "(8, 1)",
          "(7, 2)",
          "(6, 3)",
          "(9,)",
          "(6, 3, 1)",
          "(9, 1)",
          "(8, 2)",
          "(7, 3)",
          "(6, 4)",
          "(10,)",
          "(7, 3, 1)",
          "(6, 4, 1)",
          "(10, 1)",
          "(9, 2)",
          "(8, 3)",
          "(7, 4)",
          "(11,)",
          "(8, 3, 1)",
          "(7, 4, 1)",
          "(11, 1)",
          "(6, 4, 2)",
          "(10, 2)",
          "(9, 3)",
          "(8, 4)",
          "(7, 5)",
          "(12,)",
          "(9, 3, 1)",
          "(8, 4, 1)",
          "(7, 5, 1)",
          "(12, 1)",
          "(7, 4, 2)",
          "(11, 2)",
          "(10, 3)",
          "(9, 4)",
          "(8, 5)",
          "(13,)",
          "(10, 3, 1)",
          "(9, 4, 1)",
          "(8, 5, 1)",
          "(13, 1)",
          "(8, 4, 2)",
          "(7, 5, 2)",
          "(12, 2)",
          "(11, 3)",
          "(10, 4)",
          "(9, 5)",
          "(8, 6)",
          "(14,)",
          "(11, 3, 1)",
          "(10, 4, 1)",
          "(9, 5, 1)",
          "(8, 6, 1)",
          "(14, 1)",
          "(9, 4, 2)",
          "(8, 5, 2)",
          "(13, 2)",
          "(7, 5, 3)",
          "(12, 3)",
          "(11, 4)",
          "(10, 5)",
          "(9, 6)",
          "(15,)",
          "(7, 5, 3, 1)",
          "(12, 3, 1)",
          "(11, 4, 1)",
          "(10, 5, 1)",
          "(9, 6, 1)",
          "(15, 1)",
          "(10, 4, 2)",
          "(9, 5, 2)",
          "(8, 6, 2)",
          "(14, 2)",
          "(8, 5, 3)",
          "(13, 3)",
          "(12, 4)",
          "(11, 5)",
          "(10, 6)",
          "(9, 7)",
          "(16,)",
          "(8, 5, 3, 1)",
          "(13, 3, 1)",
          "(12, 4, 1)",
          "(11, 5, 1)",
          "(10, 6, 1)",
          "(9, 7, 1)",
          "(16, 1)",
          "(11, 4, 2)",
          "(10, 5, 2)",
          "(9, 6, 2)",
          "(15, 2)",
          "(9, 5, 3)",
          "(8, 6, 3)",
          "(14, 3)",
          "(13, 4)",
          "(12, 5)",
          "(11, 6)",
          "(10, 7)",
          "(17,)",
          "(9, 5, 3, 1)",
          "(8, 6, 3, 1)",
          "(14, 3, 1)",
          "(13, 4, 1)",
          "(12, 5, 1)",
          "(11, 6, 1)",
          "(10, 7, 1)",
          "(17, 1)",
          "(12, 4, 2)",
          "(11, 5, 2)",
          "(10, 6, 2)",
          "(9, 7, 2)",
          "(16, 2)",
          "(10, 5, 3)",
          "(9, 6, 3)",
          "(15, 3)",
          "(8, 6, 4)",
          "(14, 4)",
          "(13, 5)",
          "(12, 6)",
          "(11, 7)",
          "(10, 8)",
          "(18,)",
          "(10, 5, 3, 1)",
          "(9, 6, 3, 1)",
          "(15, 3, 1)",
          "(8, 6, 4, 1)",
          "(14, 4, 1)",
          "(13, 5, 1)",
          "(12, 6, 1)",
          "(11, 7, 1)",
          "(10, 8, 1)",
          "(18, 1)",
          "(13, 4, 2)",
          "(12, 5, 2)",
          "(11, 6, 2)",
          "(10, 7, 2)",
          "(17, 2)",
          "(11, 5, 3)",
          "(10, 6, 3)",
          "(9, 7, 3)",
          "(16, 3)",
          "(9, 6, 4)",
          "(15, 4)",
          "(14, 5)",
          "(13, 6)",
          "(12, 7)",
          "(11, 8)",
          "(19,)",
          "(11, 5, 3, 1)",
          "(10, 6, 3, 1)",
          "(9, 7, 3, 1)",
          "(16, 3, 1)",
          "(9, 6, 4, 1)",
          "(15, 4, 1)",
          "(14, 5, 1)",
          "(13, 6, 1)",
          "(12, 7, 1)",
          "(11, 8, 1)",
          "(19, 1)",
          "(8, 6, 4, 2)",
          "(14, 4, 2)",
          "(13, 5, 2)",
          "(12, 6, 2)",
          "(11, 7, 2)",
          "(10, 8, 2)",
          "(18, 2)",
          "(12, 5, 3)",
          "(11, 6, 3)",
          "(10, 7, 3)",
          "(17, 3)",
          "(10, 6, 4)",
          "(9, 7, 4)",
          "(16, 4)",
          "(15, 5)",
          "(14, 6)",
          "(13, 7)",
          "(12, 8)",
          "(11, 9)",
          "(20,)"
         ],
         "type": "scatter3d",
         "x": [
          1.4394903182983398,
          1.3889565467834473,
          1.3810639381408691,
          1.5210747718811035,
          1.4561574459075928,
          1.7014429569244385,
          1.5411548614501953,
          1.8436956405639648,
          1.5760154724121094,
          1.3355045318603516,
          1.8774950504302979,
          1.6144382953643799,
          1.3477364778518677,
          1.9108343124389648,
          1.6857001781463623,
          1.355351448059082,
          1.110917091369629,
          1.9047865867614746,
          1.041395902633667,
          1.679652452468872,
          1.4072144031524658,
          1.133135199546814,
          1.8856151103973389,
          1.0187947750091553,
          1.6604809761047363,
          1.4011666774749756,
          1.201697826385498,
          0.7365492582321167,
          1.8628723621368408,
          1.0695513486862183,
          0.6512550115585327,
          1.6377384662628174,
          1.3819952011108398,
          1.1945579051971436,
          0.7852107286453247,
          1.853912353515625,
          1.0624113082885742,
          0.6935129761695862,
          1.6287784576416016,
          0.4660230576992035,
          1.3592525720596313,
          1.1748806238174438,
          0.7791630625724792,
          0.3095013499259949,
          1.8619937896728516,
          1.038269281387329,
          0.6823835372924805,
          0.17418032884597778,
          1.625117301940918,
          0.48769867420196533,
          1.350292682647705,
          1.1543447971343994,
          0.7599917650222778,
          0.30624914169311523,
          1.839984655380249,
          1.0047523975372314,
          0.6512877345085144,
          0.13983950018882751,
          1.5950162410736084,
          0.45629018545150757,
          -0.04145079851150513,
          1.324905514717102,
          1.1300745010375977,
          0.7372490763664246,
          0.28249454498291016,
          -0.15838629007339478,
          1.8014962673187256,
          0.9644172787666321,
          0.6154296398162842,
          0.11608493328094482,
          -0.3193870782852173,
          1.556527853012085,
          0.4251944422721863,
          -0.07579159736633301,
          1.294804334640503,
          -0.14801687002182007,
          1.1002317667007446,
          0.701434314250946,
          0.2386314868927002,
          -0.14475160837173462,
          1.7776880264282227,
          -0.36306750774383545,
          0.9355236291885376,
          0.574457049369812,
          0.07222157716751099,
          -0.30575233697891235,
          1.532719373703003,
          0.3893362879753113,
          -0.09954649209976196,
          -0.5598454475402832,
          1.2563161849975586,
          -0.18235766887664795,
          1.0701305866241455,
          0.6715917587280273,
          0.19330739974975586,
          -0.11505156755447388,
          -0.5645247101783752,
          1.7555744647979736,
          -0.39626049995422363,
          0.9041653275489807,
          0.5446144342422485,
          0.026897907257080078,
          -0.27605241537094116,
          -0.7000924944877625,
          1.510606050491333,
          0.34836381673812866,
          -0.14340943098068237,
          -0.5462107062339783,
          1.2325078248977661,
          -0.20611220598220825,
          -0.7451217770576477,
          1.0316424369812012,
          0.6414905786514282,
          0.16346484422683716,
          -0.15393823385238647,
          -0.6141782402992249,
          1.683811902999878,
          -0.4198775291442871,
          -1.0297677516937256,
          0.867143452167511,
          0.5145132541656494,
          -0.0029449462890625,
          -0.31493932008743286,
          -0.7497460246086121,
          1.4383571147918701,
          0.31852108240127563,
          -0.18873357772827148,
          -0.5165106654167175,
          -0.9320593476295471,
          1.2103941440582275,
          -0.2499755620956421,
          -0.731486976146698,
          1.0078339576721191,
          -0.8184903264045715,
          0.6030024886131287,
          0.13336342573165894,
          -0.1837809681892395,
          -0.6374461054801941,
          -1.1874840259552002,
          1.6852726936340332,
          -0.4622902274131775,
          -1.0155994892120361,
          0.8423642516136169,
          -0.9405120015144348,
          0.4760250449180603,
          -0.03304636478424072,
          -0.3447818160057068,
          -0.77301424741745,
          -1.3230516910552979,
          1.4403042793273926,
          0.28841984272003174,
          -0.2185760736465454,
          -0.5553975105285645,
          -0.9817128777503967,
          1.136819839477539,
          -0.295299232006073,
          -0.7017868161201477,
          -1.0372824668884277,
          0.9854082465171814,
          -0.8048556447029114,
          0.5791935324668884,
          0.0948755145072937,
          -0.21388232707977295,
          -0.6672887206077576,
          -1.186713695526123,
          1.837254524230957,
          -0.5065352320671082,
          -0.9814092516899109,
          -1.3066816329956055,
          0.818979799747467,
          -0.9268773198127747,
          0.45221656560897827,
          -0.07153433561325073,
          -0.37488311529159546,
          -0.8028567433357239,
          -1.3222815990447998,
          1.5922861099243164,
          -1.1669652462005615,
          0.24993157386779785,
          -0.2486773133277893,
          -0.5852401852607727,
          -1.0049810409545898,
          -1.555018424987793,
          1.140092372894287,
          -0.325141966342926,
          -0.7406737208366394,
          -1.0869357585906982,
          0.9089974761009216,
          -0.7751553654670715,
          -1.0829167366027832,
          0.5570798516273499,
          0.07106691598892212,
          -0.2523702383041382,
          -0.6973900198936462,
          -1.2165565490722656,
          -1.695544719696045,
          2.108354091644287
         ],
         "y": [
          -1.6573642492294312,
          -1.5020790100097656,
          -1.3869082927703857,
          -1.4546737670898438,
          -1.4406925439834595,
          -1.5412012338638306,
          -1.54757821559906,
          -1.500088095664978,
          -1.5410445928573608,
          -1.5985380411148071,
          -1.4706064462661743,
          -1.5550658702850342,
          -1.6000398397445679,
          -1.42426598072052,
          -1.519453525543213,
          -1.5573770999908447,
          -1.865043044090271,
          -1.333518147468567,
          -1.5955860614776611,
          -1.4287056922912598,
          -1.5001847743988037,
          -1.8798092603683472,
          -1.2315335273742676,
          -1.5993483066558838,
          -1.32672119140625,
          -1.409436821937561,
          -1.8609570264816284,
          -2.34890079498291,
          -1.1360235214233398,
          -1.5543837547302246,
          -2.0871388912200928,
          -1.2312113046646118,
          -1.3074522018432617,
          -1.764428734779358,
          -2.3066446781158447,
          -1.0164061784744263,
          -1.4578558206558228,
          -2.0335590839385986,
          -1.1115938425064087,
          -1.9014840126037598,
          -1.2119420766830444,
          -1.659766435623169,
          -2.2158966064453125,
          -2.6981046199798584,
          -0.9142688512802124,
          -1.3484108448028564,
          -1.9373680353164673,
          -2.4504687786102295,
          -0.9968782067298889,
          -1.8286491632461548,
          -1.0923247337341309,
          -1.5759363174438477,
          -2.1139118671417236,
          -2.582547903060913,
          -0.7717991471290588,
          -1.2512422800064087,
          -1.8226101398468018,
          -2.3016104698181152,
          -0.8457407355308533,
          -1.7107356786727905,
          -2.1743764877319336,
          -0.9543371200561523,
          -1.439918875694275,
          -2.018401861190796,
          -2.4378223419189453,
          -2.8274776935577393,
          -0.5783575773239136,
          -1.1007070541381836,
          -1.7130513191223145,
          -2.1568849086761475,
          -2.5061166286468506,
          -0.6522992849349976,
          -1.595978021621704,
          -2.0255179405212402,
          -0.8031997084617615,
          -1.971152424812317,
          -1.2971587181091309,
          -1.870018720626831,
          -2.3214242458343506,
          -2.6537837982177734,
          -0.4138296842575073,
          -1.6219656467437744,
          -0.9629691243171692,
          -1.55914306640625,
          -2.040487051010132,
          -2.3324227333068848,
          -0.4877714216709137,
          -1.4864190816879272,
          -1.8807928562164307,
          -2.24283766746521,
          -0.6097582578659058,
          -1.822293996810913,
          -1.1460213661193848,
          -1.7272584438323975,
          -2.1657321453094482,
          -2.4585516452789307,
          -2.7697501182556152,
          -0.2783997058868408,
          -1.479182481765747,
          -0.8051784634590149,
          -1.4163825511932373,
          -1.8847945928573608,
          -2.137190580368042,
          -2.4401650428771973,
          -0.3523414731025696,
          -1.3325107097625732,
          -1.7643946409225464,
          -2.0691442489624023,
          -0.4452301859855652,
          -1.6775685548782349,
          -2.0838263034820557,
          -0.952579915523529,
          -1.5761207342147827,
          -2.0229713916778564,
          -2.307854175567627,
          -2.6273717880249023,
          -0.12425820529460907,
          -1.3351846933364868,
          -1.670235276222229,
          -0.619497537612915,
          -1.2652453184127808,
          -1.7420345544815063,
          -1.9864928722381592,
          -2.2977869510650635,
          -0.1956252008676529,
          -1.1897506713867188,
          -1.608702301979065,
          -1.8739116191864014,
          -2.1802518367767334,
          -0.3098002076148987,
          -1.5611706972122192,
          -1.9101322889328003,
          -0.7880520820617676,
          -1.9198685884475708,
          -1.3826793432235718,
          -1.8718341588974,
          -2.1650938987731934,
          -2.4586005210876465,
          -2.797866106033325,
          0.0243522971868515,
          -1.226462721824646,
          -1.4993655681610107,
          -0.4498330056667328,
          -1.737779974937439,
          -1.0718036890029907,
          -1.5908970832824707,
          -1.8437327146530151,
          -2.1290156841278076,
          -2.4682810306549072,
          -0.049589529633522034,
          -1.0386133193969727,
          -1.465942144393921,
          -1.7232141494750977,
          -2.0378737449645996,
          -0.14606916904449463,
          -1.4054783582687378,
          -1.7149001359939575,
          -2.0066683292388916,
          -0.6509715914726257,
          -1.746174931526184,
          -1.218151569366455,
          -1.6783925294876099,
          -2.0139565467834473,
          -2.315840244293213,
          -2.6253058910369873,
          -0.06453262269496918,
          -1.0764803886413574,
          -1.3278955221176147,
          -1.6287779808044434,
          -0.30767664313316345,
          -1.5640863180160522,
          -0.9072760939598083,
          -1.3974554538726807,
          -1.6925952434539795,
          -1.986255168914795,
          -2.2957212924957275,
          -0.1384742707014084,
          -1.2511383295059204,
          -0.8451717495918274,
          -1.3148046731948853,
          -1.580453872680664,
          -1.8691025972366333,
          -2.2083678245544434,
          -0.007048308849334717,
          -1.262717843055725,
          -1.5642026662826538,
          -1.8642898797988892,
          -0.4722290635108948,
          -1.5509425401687622,
          -1.806205153465271,
          -1.0827215909957886,
          -1.5138647556304932,
          -1.8205150365829468,
          -2.1647026538848877,
          -2.482546091079712,
          -2.740990400314331,
          -0.4464685320854187
         ],
         "z": [
          -0.5191175937652588,
          -0.4076669216156006,
          -0.28447604179382324,
          -0.15384691953659058,
          -0.19081085920333862,
          0.05153921991586685,
          0.0012448504567146301,
          0.38937753438949585,
          0.3148830831050873,
          -0.04154949635267258,
          0.6200348138809204,
          0.5679407715797424,
          0.2273830771446228,
          0.8683789968490601,
          0.832542896270752,
          0.535478949546814,
          0.21192920207977295,
          1.0949583053588867,
          0.16826635599136353,
          1.0591222047805786,
          0.7938390970230103,
          0.4960264563560486,
          1.3439631462097168,
          0.3984218239784241,
          1.3081268072128296,
          1.020418643951416,
          0.7761266827583313,
          0.5274168252944946,
          1.5799238681793213,
          0.6689193844795227,
          0.4195479154586792,
          1.5440876483917236,
          1.269423484802246,
          0.9977751970291138,
          0.7805203199386597,
          1.866352915763855,
          0.8905675411224365,
          0.6675887703895569,
          1.8305164575576782,
          0.31786632537841797,
          1.5053843259811401,
          1.2444957494735718,
          1.0070997476577759,
          0.7123720645904541,
          2.106006622314453,
          1.1437928676605225,
          0.9015713930130005,
          0.5929000377655029,
          2.08727765083313,
          0.5965690612792969,
          1.791812777519226,
          1.4904201030731201,
          1.256104826927185,
          0.9770652055740356,
          2.4013679027557373,
          1.4094301462173462,
          1.1679487228393555,
          0.902885913848877,
          2.394428014755249,
          0.8600960373878479,
          0.5760748386383057,
          2.080225944519043,
          1.7991540431976318,
          1.4920650720596313,
          1.2702085971832275,
          1.0535475015640259,
          2.756977081298828,
          1.745375156402588,
          1.4230164289474487,
          1.1960289478302002,
          0.9840009212493896,
          2.7500367164611816,
          1.126473069190979,
          0.886060357093811,
          2.387375831604004,
          0.5263895988464355,
          2.0940585136413574,
          1.8176181316375732,
          1.5523183345794678,
          1.370840072631836,
          3.1499176025390625,
          0.4828697443008423,
          2.0445632934570312,
          1.7560837268829346,
          1.4781384468078613,
          1.3012936115264893,
          3.142976999282837,
          1.381541132926941,
          1.1792035102844238,
          0.9610637426376343,
          2.742985248565674,
          0.8363751173019409,
          2.4012086391448975,
          2.1125218868255615,
          1.8904451131820679,
          1.68319571018219,
          1.4661667346954346,
          3.494192123413086,
          0.7980378866195679,
          2.3460378646850586,
          2.050987720489502,
          1.8162657022476196,
          1.6136491298675537,
          1.3682721853256226,
          3.4872519969940186,
          1.7146083116531372,
          1.461313247680664,
          1.2783559560775757,
          3.135925769805908,
          1.1295181512832642,
          0.8867518901824951,
          2.7568178176879883,
          2.4196722507476807,
          2.185349702835083,
          2.003394603729248,
          1.7737841606140137,
          3.846518039703369,
          1.0918020009994507,
          0.8293477296829224,
          2.7082674503326416,
          2.358138084411621,
          2.1111695766448975,
          1.9338480234146118,
          1.6758893728256226,
          3.837381362915039,
          2.009512424468994,
          1.7994403839111328,
          1.5907121896743774,
          1.3265118598937988,
          3.4802005290985107,
          1.411628007888794,
          1.2040446996688843,
          3.1497578620910645,
          0.8131908178329468,
          2.7752816677093506,
          2.492499828338623,
          2.2982985973358154,
          2.120513677597046,
          1.967260479927063,
          4.24106502532959,
          1.3804599046707153,
          1.149049162864685,
          3.09682559967041,
          0.7605618238449097,
          2.713747262954712,
          2.4183201789855957,
          2.2287521362304688,
          2.0226192474365234,
          1.86936616897583,
          4.234124660491943,
          2.316662549972534,
          2.0943446159362793,
          1.9109106063842773,
          1.6341291666030884,
          3.824345588684082,
          1.7497550249099731,
          1.5164002180099487,
          1.2357254028320312,
          3.4926247596740723,
          1.1304831504821777,
          3.1682214736938477,
          2.848109006881714,
          2.6054487228393555,
          2.4154176712036133,
          2.304750919342041,
          4.473310947418213,
          1.723457932472229,
          1.4816757440567017,
          1.2136644124984741,
          3.4353623390197754,
          1.0778545141220093,
          3.106687307357788,
          2.7739291191101074,
          2.5359020233154297,
          2.31752347946167,
          2.2068562507629395,
          4.466371059417725,
          0.6515496969223022,
          2.672271728515625,
          2.4014945030212402,
          2.205814838409424,
          1.9808589220046997,
          1.8276057243347168,
          4.227072715759277,
          2.04465913772583,
          1.8365989923477173,
          1.5433428287506104,
          3.8239645957946777,
          1.4428391456604004,
          1.1854912042617798,
          3.5124964714050293,
          3.24104905128479,
          2.9610579013824463,
          2.7225680351257324,
          2.59965443611145,
          2.522317886352539,
          4.315528392791748
         ]
        }
       ],
       "layout": {
        "autosize": false,
        "height": 1000,
        "scene": {
         "xaxis": {
          "nticks": 4,
          "range": [
           -4,
           4
          ]
         },
         "yaxis": {
          "nticks": 4,
          "range": [
           -4,
           4
          ]
         },
         "zaxis": {
          "nticks": 4,
          "range": [
           -4,
           4
          ]
         }
        },
        "template": {
         "data": {
          "bar": [
           {
            "error_x": {
             "color": "#2a3f5f"
            },
            "error_y": {
             "color": "#2a3f5f"
            },
            "marker": {
             "line": {
              "color": "#E5ECF6",
              "width": 0.5
             }
            },
            "type": "bar"
           }
          ],
          "barpolar": [
           {
            "marker": {
             "line": {
              "color": "#E5ECF6",
              "width": 0.5
             }
            },
            "type": "barpolar"
           }
          ],
          "carpet": [
           {
            "aaxis": {
             "endlinecolor": "#2a3f5f",
             "gridcolor": "white",
             "linecolor": "white",
             "minorgridcolor": "white",
             "startlinecolor": "#2a3f5f"
            },
            "baxis": {
             "endlinecolor": "#2a3f5f",
             "gridcolor": "white",
             "linecolor": "white",
             "minorgridcolor": "white",
             "startlinecolor": "#2a3f5f"
            },
            "type": "carpet"
           }
          ],
          "choropleth": [
           {
            "colorbar": {
             "outlinewidth": 0,
             "ticks": ""
            },
            "type": "choropleth"
           }
          ],
          "contour": [
           {
            "colorbar": {
             "outlinewidth": 0,
             "ticks": ""
            },
            "colorscale": [
             [
              0,
              "#0d0887"
             ],
             [
              0.1111111111111111,
              "#46039f"
             ],
             [
              0.2222222222222222,
              "#7201a8"
             ],
             [
              0.3333333333333333,
              "#9c179e"
             ],
             [
              0.4444444444444444,
              "#bd3786"
             ],
             [
              0.5555555555555556,
              "#d8576b"
             ],
             [
              0.6666666666666666,
              "#ed7953"
             ],
             [
              0.7777777777777778,
              "#fb9f3a"
             ],
             [
              0.8888888888888888,
              "#fdca26"
             ],
             [
              1,
              "#f0f921"
             ]
            ],
            "type": "contour"
           }
          ],
          "contourcarpet": [
           {
            "colorbar": {
             "outlinewidth": 0,
             "ticks": ""
            },
            "type": "contourcarpet"
           }
          ],
          "heatmap": [
           {
            "colorbar": {
             "outlinewidth": 0,
             "ticks": ""
            },
            "colorscale": [
             [
              0,
              "#0d0887"
             ],
             [
              0.1111111111111111,
              "#46039f"
             ],
             [
              0.2222222222222222,
              "#7201a8"
             ],
             [
              0.3333333333333333,
              "#9c179e"
             ],
             [
              0.4444444444444444,
              "#bd3786"
             ],
             [
              0.5555555555555556,
              "#d8576b"
             ],
             [
              0.6666666666666666,
              "#ed7953"
             ],
             [
              0.7777777777777778,
              "#fb9f3a"
             ],
             [
              0.8888888888888888,
              "#fdca26"
             ],
             [
              1,
              "#f0f921"
             ]
            ],
            "type": "heatmap"
           }
          ],
          "heatmapgl": [
           {
            "colorbar": {
             "outlinewidth": 0,
             "ticks": ""
            },
            "colorscale": [
             [
              0,
              "#0d0887"
             ],
             [
              0.1111111111111111,
              "#46039f"
             ],
             [
              0.2222222222222222,
              "#7201a8"
             ],
             [
              0.3333333333333333,
              "#9c179e"
             ],
             [
              0.4444444444444444,
              "#bd3786"
             ],
             [
              0.5555555555555556,
              "#d8576b"
             ],
             [
              0.6666666666666666,
              "#ed7953"
             ],
             [
              0.7777777777777778,
              "#fb9f3a"
             ],
             [
              0.8888888888888888,
              "#fdca26"
             ],
             [
              1,
              "#f0f921"
             ]
            ],
            "type": "heatmapgl"
           }
          ],
          "histogram": [
           {
            "marker": {
             "colorbar": {
              "outlinewidth": 0,
              "ticks": ""
             }
            },
            "type": "histogram"
           }
          ],
          "histogram2d": [
           {
            "colorbar": {
             "outlinewidth": 0,
             "ticks": ""
            },
            "colorscale": [
             [
              0,
              "#0d0887"
             ],
             [
              0.1111111111111111,
              "#46039f"
             ],
             [
              0.2222222222222222,
              "#7201a8"
             ],
             [
              0.3333333333333333,
              "#9c179e"
             ],
             [
              0.4444444444444444,
              "#bd3786"
             ],
             [
              0.5555555555555556,
              "#d8576b"
             ],
             [
              0.6666666666666666,
              "#ed7953"
             ],
             [
              0.7777777777777778,
              "#fb9f3a"
             ],
             [
              0.8888888888888888,
              "#fdca26"
             ],
             [
              1,
              "#f0f921"
             ]
            ],
            "type": "histogram2d"
           }
          ],
          "histogram2dcontour": [
           {
            "colorbar": {
             "outlinewidth": 0,
             "ticks": ""
            },
            "colorscale": [
             [
              0,
              "#0d0887"
             ],
             [
              0.1111111111111111,
              "#46039f"
             ],
             [
              0.2222222222222222,
              "#7201a8"
             ],
             [
              0.3333333333333333,
              "#9c179e"
             ],
             [
              0.4444444444444444,
              "#bd3786"
             ],
             [
              0.5555555555555556,
              "#d8576b"
             ],
             [
              0.6666666666666666,
              "#ed7953"
             ],
             [
              0.7777777777777778,
              "#fb9f3a"
             ],
             [
              0.8888888888888888,
              "#fdca26"
             ],
             [
              1,
              "#f0f921"
             ]
            ],
            "type": "histogram2dcontour"
           }
          ],
          "mesh3d": [
           {
            "colorbar": {
             "outlinewidth": 0,
             "ticks": ""
            },
            "type": "mesh3d"
           }
          ],
          "parcoords": [
           {
            "line": {
             "colorbar": {
              "outlinewidth": 0,
              "ticks": ""
             }
            },
            "type": "parcoords"
           }
          ],
          "scatter": [
           {
            "marker": {
             "colorbar": {
              "outlinewidth": 0,
              "ticks": ""
             }
            },
            "type": "scatter"
           }
          ],
          "scatter3d": [
           {
            "line": {
             "colorbar": {
              "outlinewidth": 0,
              "ticks": ""
             }
            },
            "marker": {
             "colorbar": {
              "outlinewidth": 0,
              "ticks": ""
             }
            },
            "type": "scatter3d"
           }
          ],
          "scattercarpet": [
           {
            "marker": {
             "colorbar": {
              "outlinewidth": 0,
              "ticks": ""
             }
            },
            "type": "scattercarpet"
           }
          ],
          "scattergeo": [
           {
            "marker": {
             "colorbar": {
              "outlinewidth": 0,
              "ticks": ""
             }
            },
            "type": "scattergeo"
           }
          ],
          "scattergl": [
           {
            "marker": {
             "colorbar": {
              "outlinewidth": 0,
              "ticks": ""
             }
            },
            "type": "scattergl"
           }
          ],
          "scattermapbox": [
           {
            "marker": {
             "colorbar": {
              "outlinewidth": 0,
              "ticks": ""
             }
            },
            "type": "scattermapbox"
           }
          ],
          "scatterpolar": [
           {
            "marker": {
             "colorbar": {
              "outlinewidth": 0,
              "ticks": ""
             }
            },
            "type": "scatterpolar"
           }
          ],
          "scatterpolargl": [
           {
            "marker": {
             "colorbar": {
              "outlinewidth": 0,
              "ticks": ""
             }
            },
            "type": "scatterpolargl"
           }
          ],
          "scatterternary": [
           {
            "marker": {
             "colorbar": {
              "outlinewidth": 0,
              "ticks": ""
             }
            },
            "type": "scatterternary"
           }
          ],
          "surface": [
           {
            "colorbar": {
             "outlinewidth": 0,
             "ticks": ""
            },
            "colorscale": [
             [
              0,
              "#0d0887"
             ],
             [
              0.1111111111111111,
              "#46039f"
             ],
             [
              0.2222222222222222,
              "#7201a8"
             ],
             [
              0.3333333333333333,
              "#9c179e"
             ],
             [
              0.4444444444444444,
              "#bd3786"
             ],
             [
              0.5555555555555556,
              "#d8576b"
             ],
             [
              0.6666666666666666,
              "#ed7953"
             ],
             [
              0.7777777777777778,
              "#fb9f3a"
             ],
             [
              0.8888888888888888,
              "#fdca26"
             ],
             [
              1,
              "#f0f921"
             ]
            ],
            "type": "surface"
           }
          ],
          "table": [
           {
            "cells": {
             "fill": {
              "color": "#EBF0F8"
             },
             "line": {
              "color": "white"
             }
            },
            "header": {
             "fill": {
              "color": "#C8D4E3"
             },
             "line": {
              "color": "white"
             }
            },
            "type": "table"
           }
          ]
         },
         "layout": {
          "annotationdefaults": {
           "arrowcolor": "#2a3f5f",
           "arrowhead": 0,
           "arrowwidth": 1
          },
          "colorscale": {
           "diverging": [
            [
             0,
             "#8e0152"
            ],
            [
             0.1,
             "#c51b7d"
            ],
            [
             0.2,
             "#de77ae"
            ],
            [
             0.3,
             "#f1b6da"
            ],
            [
             0.4,
             "#fde0ef"
            ],
            [
             0.5,
             "#f7f7f7"
            ],
            [
             0.6,
             "#e6f5d0"
            ],
            [
             0.7,
             "#b8e186"
            ],
            [
             0.8,
             "#7fbc41"
            ],
            [
             0.9,
             "#4d9221"
            ],
            [
             1,
             "#276419"
            ]
           ],
           "sequential": [
            [
             0,
             "#0d0887"
            ],
            [
             0.1111111111111111,
             "#46039f"
            ],
            [
             0.2222222222222222,
             "#7201a8"
            ],
            [
             0.3333333333333333,
             "#9c179e"
            ],
            [
             0.4444444444444444,
             "#bd3786"
            ],
            [
             0.5555555555555556,
             "#d8576b"
            ],
            [
             0.6666666666666666,
             "#ed7953"
            ],
            [
             0.7777777777777778,
             "#fb9f3a"
            ],
            [
             0.8888888888888888,
             "#fdca26"
            ],
            [
             1,
             "#f0f921"
            ]
           ],
           "sequentialminus": [
            [
             0,
             "#0d0887"
            ],
            [
             0.1111111111111111,
             "#46039f"
            ],
            [
             0.2222222222222222,
             "#7201a8"
            ],
            [
             0.3333333333333333,
             "#9c179e"
            ],
            [
             0.4444444444444444,
             "#bd3786"
            ],
            [
             0.5555555555555556,
             "#d8576b"
            ],
            [
             0.6666666666666666,
             "#ed7953"
            ],
            [
             0.7777777777777778,
             "#fb9f3a"
            ],
            [
             0.8888888888888888,
             "#fdca26"
            ],
            [
             1,
             "#f0f921"
            ]
           ]
          },
          "colorway": [
           "#636efa",
           "#EF553B",
           "#00cc96",
           "#ab63fa",
           "#FFA15A",
           "#19d3f3",
           "#FF6692",
           "#B6E880",
           "#FF97FF",
           "#FECB52"
          ],
          "font": {
           "color": "#2a3f5f"
          },
          "geo": {
           "bgcolor": "white",
           "lakecolor": "white",
           "landcolor": "#E5ECF6",
           "showlakes": true,
           "showland": true,
           "subunitcolor": "white"
          },
          "hoverlabel": {
           "align": "left"
          },
          "hovermode": "closest",
          "mapbox": {
           "style": "light"
          },
          "paper_bgcolor": "white",
          "plot_bgcolor": "#E5ECF6",
          "polar": {
           "angularaxis": {
            "gridcolor": "white",
            "linecolor": "white",
            "ticks": ""
           },
           "bgcolor": "#E5ECF6",
           "radialaxis": {
            "gridcolor": "white",
            "linecolor": "white",
            "ticks": ""
           }
          },
          "scene": {
           "xaxis": {
            "backgroundcolor": "#E5ECF6",
            "gridcolor": "white",
            "gridwidth": 2,
            "linecolor": "white",
            "showbackground": true,
            "ticks": "",
            "zerolinecolor": "white"
           },
           "yaxis": {
            "backgroundcolor": "#E5ECF6",
            "gridcolor": "white",
            "gridwidth": 2,
            "linecolor": "white",
            "showbackground": true,
            "ticks": "",
            "zerolinecolor": "white"
           },
           "zaxis": {
            "backgroundcolor": "#E5ECF6",
            "gridcolor": "white",
            "gridwidth": 2,
            "linecolor": "white",
            "showbackground": true,
            "ticks": "",
            "zerolinecolor": "white"
           }
          },
          "shapedefaults": {
           "line": {
            "color": "#2a3f5f"
           }
          },
          "ternary": {
           "aaxis": {
            "gridcolor": "white",
            "linecolor": "white",
            "ticks": ""
           },
           "baxis": {
            "gridcolor": "white",
            "linecolor": "white",
            "ticks": ""
           },
           "bgcolor": "#E5ECF6",
           "caxis": {
            "gridcolor": "white",
            "linecolor": "white",
            "ticks": ""
           }
          },
          "title": {
           "x": 0.05
          },
          "xaxis": {
           "automargin": true,
           "gridcolor": "white",
           "linecolor": "white",
           "ticks": "",
           "zerolinecolor": "white",
           "zerolinewidth": 2
          },
          "yaxis": {
           "automargin": true,
           "gridcolor": "white",
           "linecolor": "white",
           "ticks": "",
           "zerolinecolor": "white",
           "zerolinewidth": 2
          }
         }
        },
        "width": 1000
       }
      },
      "text/html": [
       "<div>\n",
       "        \n",
       "        \n",
       "            <div id=\"98e58360-9119-45d4-acca-8a47a08268ad\" class=\"plotly-graph-div\" style=\"height:1000px; width:1000px;\"></div>\n",
       "            <script type=\"text/javascript\">\n",
       "                require([\"plotly\"], function(Plotly) {\n",
       "                    window.PLOTLYENV=window.PLOTLYENV || {};\n",
       "                    \n",
       "                if (document.getElementById(\"98e58360-9119-45d4-acca-8a47a08268ad\")) {\n",
       "                    Plotly.newPlot(\n",
       "                        '98e58360-9119-45d4-acca-8a47a08268ad',\n",
       "                        [{\"marker\": {\"color\": [0, 0, 1, 1, 1, 1, 1, 1, 1, 2, 1, 1, 2, 1, 1, 2, 2, 1, 2, 1, 2, 2, 1, 2, 1, 2, 2, 2, 1, 2, 2, 1, 2, 2, 2, 1, 2, 2, 1, 3, 2, 2, 2, 2, 1, 2, 2, 2, 1, 3, 2, 2, 2, 2, 1, 2, 2, 2, 1, 3, 3, 2, 2, 2, 2, 2, 1, 2, 2, 2, 2, 1, 3, 3, 2, 3, 2, 2, 2, 2, 1, 3, 2, 2, 2, 2, 1, 3, 3, 3, 2, 3, 2, 2, 2, 2, 2, 1, 3, 2, 2, 2, 2, 2, 1, 3, 3, 3, 2, 3, 3, 2, 2, 2, 2, 2, 1, 3, 3, 2, 2, 2, 2, 2, 1, 3, 3, 3, 3, 2, 3, 3, 2, 3, 2, 2, 2, 2, 2, 1, 3, 3, 2, 3, 2, 2, 2, 2, 2, 1, 3, 3, 3, 3, 2, 3, 3, 3, 2, 3, 2, 2, 2, 2, 2, 1, 3, 3, 3, 2, 3, 2, 2, 2, 2, 2, 1, 4, 3, 3, 3, 3, 3, 2, 3, 3, 3, 2, 3, 3, 2, 2, 2, 2, 2, 2, 1], \"colorscale\": [[0.0, \"#440154\"], [0.1111111111111111, \"#482878\"], [0.2222222222222222, \"#3e4989\"], [0.3333333333333333, \"#31688e\"], [0.4444444444444444, \"#26828e\"], [0.5555555555555556, \"#1f9e89\"], [0.6666666666666666, \"#35b779\"], [0.7777777777777778, \"#6ece58\"], [0.8888888888888888, \"#b5de2b\"], [1.0, \"#fde725\"]], \"size\": 10}, \"mode\": \"markers\", \"name\": \"z\", \"text\": [\"()\", \"(1,)\", \"(2,)\", \"(3,)\", \"(3, 1)\", \"(4,)\", \"(4, 1)\", \"(5,)\", \"(5, 1)\", \"(4, 2)\", \"(6,)\", \"(6, 1)\", \"(5, 2)\", \"(7,)\", \"(7, 1)\", \"(6, 2)\", \"(5, 3)\", \"(8,)\", \"(5, 3, 1)\", \"(8, 1)\", \"(7, 2)\", \"(6, 3)\", \"(9,)\", \"(6, 3, 1)\", \"(9, 1)\", \"(8, 2)\", \"(7, 3)\", \"(6, 4)\", \"(10,)\", \"(7, 3, 1)\", \"(6, 4, 1)\", \"(10, 1)\", \"(9, 2)\", \"(8, 3)\", \"(7, 4)\", \"(11,)\", \"(8, 3, 1)\", \"(7, 4, 1)\", \"(11, 1)\", \"(6, 4, 2)\", \"(10, 2)\", \"(9, 3)\", \"(8, 4)\", \"(7, 5)\", \"(12,)\", \"(9, 3, 1)\", \"(8, 4, 1)\", \"(7, 5, 1)\", \"(12, 1)\", \"(7, 4, 2)\", \"(11, 2)\", \"(10, 3)\", \"(9, 4)\", \"(8, 5)\", \"(13,)\", \"(10, 3, 1)\", \"(9, 4, 1)\", \"(8, 5, 1)\", \"(13, 1)\", \"(8, 4, 2)\", \"(7, 5, 2)\", \"(12, 2)\", \"(11, 3)\", \"(10, 4)\", \"(9, 5)\", \"(8, 6)\", \"(14,)\", \"(11, 3, 1)\", \"(10, 4, 1)\", \"(9, 5, 1)\", \"(8, 6, 1)\", \"(14, 1)\", \"(9, 4, 2)\", \"(8, 5, 2)\", \"(13, 2)\", \"(7, 5, 3)\", \"(12, 3)\", \"(11, 4)\", \"(10, 5)\", \"(9, 6)\", \"(15,)\", \"(7, 5, 3, 1)\", \"(12, 3, 1)\", \"(11, 4, 1)\", \"(10, 5, 1)\", \"(9, 6, 1)\", \"(15, 1)\", \"(10, 4, 2)\", \"(9, 5, 2)\", \"(8, 6, 2)\", \"(14, 2)\", \"(8, 5, 3)\", \"(13, 3)\", \"(12, 4)\", \"(11, 5)\", \"(10, 6)\", \"(9, 7)\", \"(16,)\", \"(8, 5, 3, 1)\", \"(13, 3, 1)\", \"(12, 4, 1)\", \"(11, 5, 1)\", \"(10, 6, 1)\", \"(9, 7, 1)\", \"(16, 1)\", \"(11, 4, 2)\", \"(10, 5, 2)\", \"(9, 6, 2)\", \"(15, 2)\", \"(9, 5, 3)\", \"(8, 6, 3)\", \"(14, 3)\", \"(13, 4)\", \"(12, 5)\", \"(11, 6)\", \"(10, 7)\", \"(17,)\", \"(9, 5, 3, 1)\", \"(8, 6, 3, 1)\", \"(14, 3, 1)\", \"(13, 4, 1)\", \"(12, 5, 1)\", \"(11, 6, 1)\", \"(10, 7, 1)\", \"(17, 1)\", \"(12, 4, 2)\", \"(11, 5, 2)\", \"(10, 6, 2)\", \"(9, 7, 2)\", \"(16, 2)\", \"(10, 5, 3)\", \"(9, 6, 3)\", \"(15, 3)\", \"(8, 6, 4)\", \"(14, 4)\", \"(13, 5)\", \"(12, 6)\", \"(11, 7)\", \"(10, 8)\", \"(18,)\", \"(10, 5, 3, 1)\", \"(9, 6, 3, 1)\", \"(15, 3, 1)\", \"(8, 6, 4, 1)\", \"(14, 4, 1)\", \"(13, 5, 1)\", \"(12, 6, 1)\", \"(11, 7, 1)\", \"(10, 8, 1)\", \"(18, 1)\", \"(13, 4, 2)\", \"(12, 5, 2)\", \"(11, 6, 2)\", \"(10, 7, 2)\", \"(17, 2)\", \"(11, 5, 3)\", \"(10, 6, 3)\", \"(9, 7, 3)\", \"(16, 3)\", \"(9, 6, 4)\", \"(15, 4)\", \"(14, 5)\", \"(13, 6)\", \"(12, 7)\", \"(11, 8)\", \"(19,)\", \"(11, 5, 3, 1)\", \"(10, 6, 3, 1)\", \"(9, 7, 3, 1)\", \"(16, 3, 1)\", \"(9, 6, 4, 1)\", \"(15, 4, 1)\", \"(14, 5, 1)\", \"(13, 6, 1)\", \"(12, 7, 1)\", \"(11, 8, 1)\", \"(19, 1)\", \"(8, 6, 4, 2)\", \"(14, 4, 2)\", \"(13, 5, 2)\", \"(12, 6, 2)\", \"(11, 7, 2)\", \"(10, 8, 2)\", \"(18, 2)\", \"(12, 5, 3)\", \"(11, 6, 3)\", \"(10, 7, 3)\", \"(17, 3)\", \"(10, 6, 4)\", \"(9, 7, 4)\", \"(16, 4)\", \"(15, 5)\", \"(14, 6)\", \"(13, 7)\", \"(12, 8)\", \"(11, 9)\", \"(20,)\"], \"type\": \"scatter3d\", \"x\": [1.4394903182983398, 1.3889565467834473, 1.3810639381408691, 1.5210747718811035, 1.4561574459075928, 1.7014429569244385, 1.5411548614501953, 1.8436956405639648, 1.5760154724121094, 1.3355045318603516, 1.8774950504302979, 1.6144382953643799, 1.3477364778518677, 1.9108343124389648, 1.6857001781463623, 1.355351448059082, 1.110917091369629, 1.9047865867614746, 1.041395902633667, 1.679652452468872, 1.4072144031524658, 1.133135199546814, 1.8856151103973389, 1.0187947750091553, 1.6604809761047363, 1.4011666774749756, 1.201697826385498, 0.7365492582321167, 1.8628723621368408, 1.0695513486862183, 0.6512550115585327, 1.6377384662628174, 1.3819952011108398, 1.1945579051971436, 0.7852107286453247, 1.853912353515625, 1.0624113082885742, 0.6935129761695862, 1.6287784576416016, 0.4660230576992035, 1.3592525720596313, 1.1748806238174438, 0.7791630625724792, 0.3095013499259949, 1.8619937896728516, 1.038269281387329, 0.6823835372924805, 0.17418032884597778, 1.625117301940918, 0.48769867420196533, 1.350292682647705, 1.1543447971343994, 0.7599917650222778, 0.30624914169311523, 1.839984655380249, 1.0047523975372314, 0.6512877345085144, 0.13983950018882751, 1.5950162410736084, 0.45629018545150757, -0.04145079851150513, 1.324905514717102, 1.1300745010375977, 0.7372490763664246, 0.28249454498291016, -0.15838629007339478, 1.8014962673187256, 0.9644172787666321, 0.6154296398162842, 0.11608493328094482, -0.3193870782852173, 1.556527853012085, 0.4251944422721863, -0.07579159736633301, 1.294804334640503, -0.14801687002182007, 1.1002317667007446, 0.701434314250946, 0.2386314868927002, -0.14475160837173462, 1.7776880264282227, -0.36306750774383545, 0.9355236291885376, 0.574457049369812, 0.07222157716751099, -0.30575233697891235, 1.532719373703003, 0.3893362879753113, -0.09954649209976196, -0.5598454475402832, 1.2563161849975586, -0.18235766887664795, 1.0701305866241455, 0.6715917587280273, 0.19330739974975586, -0.11505156755447388, -0.5645247101783752, 1.7555744647979736, -0.39626049995422363, 0.9041653275489807, 0.5446144342422485, 0.026897907257080078, -0.27605241537094116, -0.7000924944877625, 1.510606050491333, 0.34836381673812866, -0.14340943098068237, -0.5462107062339783, 1.2325078248977661, -0.20611220598220825, -0.7451217770576477, 1.0316424369812012, 0.6414905786514282, 0.16346484422683716, -0.15393823385238647, -0.6141782402992249, 1.683811902999878, -0.4198775291442871, -1.0297677516937256, 0.867143452167511, 0.5145132541656494, -0.0029449462890625, -0.31493932008743286, -0.7497460246086121, 1.4383571147918701, 0.31852108240127563, -0.18873357772827148, -0.5165106654167175, -0.9320593476295471, 1.2103941440582275, -0.2499755620956421, -0.731486976146698, 1.0078339576721191, -0.8184903264045715, 0.6030024886131287, 0.13336342573165894, -0.1837809681892395, -0.6374461054801941, -1.1874840259552002, 1.6852726936340332, -0.4622902274131775, -1.0155994892120361, 0.8423642516136169, -0.9405120015144348, 0.4760250449180603, -0.03304636478424072, -0.3447818160057068, -0.77301424741745, -1.3230516910552979, 1.4403042793273926, 0.28841984272003174, -0.2185760736465454, -0.5553975105285645, -0.9817128777503967, 1.136819839477539, -0.295299232006073, -0.7017868161201477, -1.0372824668884277, 0.9854082465171814, -0.8048556447029114, 0.5791935324668884, 0.0948755145072937, -0.21388232707977295, -0.6672887206077576, -1.186713695526123, 1.837254524230957, -0.5065352320671082, -0.9814092516899109, -1.3066816329956055, 0.818979799747467, -0.9268773198127747, 0.45221656560897827, -0.07153433561325073, -0.37488311529159546, -0.8028567433357239, -1.3222815990447998, 1.5922861099243164, -1.1669652462005615, 0.24993157386779785, -0.2486773133277893, -0.5852401852607727, -1.0049810409545898, -1.555018424987793, 1.140092372894287, -0.325141966342926, -0.7406737208366394, -1.0869357585906982, 0.9089974761009216, -0.7751553654670715, -1.0829167366027832, 0.5570798516273499, 0.07106691598892212, -0.2523702383041382, -0.6973900198936462, -1.2165565490722656, -1.695544719696045, 2.108354091644287], \"y\": [-1.6573642492294312, -1.5020790100097656, -1.3869082927703857, -1.4546737670898438, -1.4406925439834595, -1.5412012338638306, -1.54757821559906, -1.500088095664978, -1.5410445928573608, -1.5985380411148071, -1.4706064462661743, -1.5550658702850342, -1.6000398397445679, -1.42426598072052, -1.519453525543213, -1.5573770999908447, -1.865043044090271, -1.333518147468567, -1.5955860614776611, -1.4287056922912598, -1.5001847743988037, -1.8798092603683472, -1.2315335273742676, -1.5993483066558838, -1.32672119140625, -1.409436821937561, -1.8609570264816284, -2.34890079498291, -1.1360235214233398, -1.5543837547302246, -2.0871388912200928, -1.2312113046646118, -1.3074522018432617, -1.764428734779358, -2.3066446781158447, -1.0164061784744263, -1.4578558206558228, -2.0335590839385986, -1.1115938425064087, -1.9014840126037598, -1.2119420766830444, -1.659766435623169, -2.2158966064453125, -2.6981046199798584, -0.9142688512802124, -1.3484108448028564, -1.9373680353164673, -2.4504687786102295, -0.9968782067298889, -1.8286491632461548, -1.0923247337341309, -1.5759363174438477, -2.1139118671417236, -2.582547903060913, -0.7717991471290588, -1.2512422800064087, -1.8226101398468018, -2.3016104698181152, -0.8457407355308533, -1.7107356786727905, -2.1743764877319336, -0.9543371200561523, -1.439918875694275, -2.018401861190796, -2.4378223419189453, -2.8274776935577393, -0.5783575773239136, -1.1007070541381836, -1.7130513191223145, -2.1568849086761475, -2.5061166286468506, -0.6522992849349976, -1.595978021621704, -2.0255179405212402, -0.8031997084617615, -1.971152424812317, -1.2971587181091309, -1.870018720626831, -2.3214242458343506, -2.6537837982177734, -0.4138296842575073, -1.6219656467437744, -0.9629691243171692, -1.55914306640625, -2.040487051010132, -2.3324227333068848, -0.4877714216709137, -1.4864190816879272, -1.8807928562164307, -2.24283766746521, -0.6097582578659058, -1.822293996810913, -1.1460213661193848, -1.7272584438323975, -2.1657321453094482, -2.4585516452789307, -2.7697501182556152, -0.2783997058868408, -1.479182481765747, -0.8051784634590149, -1.4163825511932373, -1.8847945928573608, -2.137190580368042, -2.4401650428771973, -0.3523414731025696, -1.3325107097625732, -1.7643946409225464, -2.0691442489624023, -0.4452301859855652, -1.6775685548782349, -2.0838263034820557, -0.952579915523529, -1.5761207342147827, -2.0229713916778564, -2.307854175567627, -2.6273717880249023, -0.12425820529460907, -1.3351846933364868, -1.670235276222229, -0.619497537612915, -1.2652453184127808, -1.7420345544815063, -1.9864928722381592, -2.2977869510650635, -0.1956252008676529, -1.1897506713867188, -1.608702301979065, -1.8739116191864014, -2.1802518367767334, -0.3098002076148987, -1.5611706972122192, -1.9101322889328003, -0.7880520820617676, -1.9198685884475708, -1.3826793432235718, -1.8718341588974, -2.1650938987731934, -2.4586005210876465, -2.797866106033325, 0.0243522971868515, -1.226462721824646, -1.4993655681610107, -0.4498330056667328, -1.737779974937439, -1.0718036890029907, -1.5908970832824707, -1.8437327146530151, -2.1290156841278076, -2.4682810306549072, -0.049589529633522034, -1.0386133193969727, -1.465942144393921, -1.7232141494750977, -2.0378737449645996, -0.14606916904449463, -1.4054783582687378, -1.7149001359939575, -2.0066683292388916, -0.6509715914726257, -1.746174931526184, -1.218151569366455, -1.6783925294876099, -2.0139565467834473, -2.315840244293213, -2.6253058910369873, -0.06453262269496918, -1.0764803886413574, -1.3278955221176147, -1.6287779808044434, -0.30767664313316345, -1.5640863180160522, -0.9072760939598083, -1.3974554538726807, -1.6925952434539795, -1.986255168914795, -2.2957212924957275, -0.1384742707014084, -1.2511383295059204, -0.8451717495918274, -1.3148046731948853, -1.580453872680664, -1.8691025972366333, -2.2083678245544434, -0.007048308849334717, -1.262717843055725, -1.5642026662826538, -1.8642898797988892, -0.4722290635108948, -1.5509425401687622, -1.806205153465271, -1.0827215909957886, -1.5138647556304932, -1.8205150365829468, -2.1647026538848877, -2.482546091079712, -2.740990400314331, -0.4464685320854187], \"z\": [-0.5191175937652588, -0.4076669216156006, -0.28447604179382324, -0.15384691953659058, -0.19081085920333862, 0.05153921991586685, 0.0012448504567146301, 0.38937753438949585, 0.3148830831050873, -0.04154949635267258, 0.6200348138809204, 0.5679407715797424, 0.2273830771446228, 0.8683789968490601, 0.832542896270752, 0.535478949546814, 0.21192920207977295, 1.0949583053588867, 0.16826635599136353, 1.0591222047805786, 0.7938390970230103, 0.4960264563560486, 1.3439631462097168, 0.3984218239784241, 1.3081268072128296, 1.020418643951416, 0.7761266827583313, 0.5274168252944946, 1.5799238681793213, 0.6689193844795227, 0.4195479154586792, 1.5440876483917236, 1.269423484802246, 0.9977751970291138, 0.7805203199386597, 1.866352915763855, 0.8905675411224365, 0.6675887703895569, 1.8305164575576782, 0.31786632537841797, 1.5053843259811401, 1.2444957494735718, 1.0070997476577759, 0.7123720645904541, 2.106006622314453, 1.1437928676605225, 0.9015713930130005, 0.5929000377655029, 2.08727765083313, 0.5965690612792969, 1.791812777519226, 1.4904201030731201, 1.256104826927185, 0.9770652055740356, 2.4013679027557373, 1.4094301462173462, 1.1679487228393555, 0.902885913848877, 2.394428014755249, 0.8600960373878479, 0.5760748386383057, 2.080225944519043, 1.7991540431976318, 1.4920650720596313, 1.2702085971832275, 1.0535475015640259, 2.756977081298828, 1.745375156402588, 1.4230164289474487, 1.1960289478302002, 0.9840009212493896, 2.7500367164611816, 1.126473069190979, 0.886060357093811, 2.387375831604004, 0.5263895988464355, 2.0940585136413574, 1.8176181316375732, 1.5523183345794678, 1.370840072631836, 3.1499176025390625, 0.4828697443008423, 2.0445632934570312, 1.7560837268829346, 1.4781384468078613, 1.3012936115264893, 3.142976999282837, 1.381541132926941, 1.1792035102844238, 0.9610637426376343, 2.742985248565674, 0.8363751173019409, 2.4012086391448975, 2.1125218868255615, 1.8904451131820679, 1.68319571018219, 1.4661667346954346, 3.494192123413086, 0.7980378866195679, 2.3460378646850586, 2.050987720489502, 1.8162657022476196, 1.6136491298675537, 1.3682721853256226, 3.4872519969940186, 1.7146083116531372, 1.461313247680664, 1.2783559560775757, 3.135925769805908, 1.1295181512832642, 0.8867518901824951, 2.7568178176879883, 2.4196722507476807, 2.185349702835083, 2.003394603729248, 1.7737841606140137, 3.846518039703369, 1.0918020009994507, 0.8293477296829224, 2.7082674503326416, 2.358138084411621, 2.1111695766448975, 1.9338480234146118, 1.6758893728256226, 3.837381362915039, 2.009512424468994, 1.7994403839111328, 1.5907121896743774, 1.3265118598937988, 3.4802005290985107, 1.411628007888794, 1.2040446996688843, 3.1497578620910645, 0.8131908178329468, 2.7752816677093506, 2.492499828338623, 2.2982985973358154, 2.120513677597046, 1.967260479927063, 4.24106502532959, 1.3804599046707153, 1.149049162864685, 3.09682559967041, 0.7605618238449097, 2.713747262954712, 2.4183201789855957, 2.2287521362304688, 2.0226192474365234, 1.86936616897583, 4.234124660491943, 2.316662549972534, 2.0943446159362793, 1.9109106063842773, 1.6341291666030884, 3.824345588684082, 1.7497550249099731, 1.5164002180099487, 1.2357254028320312, 3.4926247596740723, 1.1304831504821777, 3.1682214736938477, 2.848109006881714, 2.6054487228393555, 2.4154176712036133, 2.304750919342041, 4.473310947418213, 1.723457932472229, 1.4816757440567017, 1.2136644124984741, 3.4353623390197754, 1.0778545141220093, 3.106687307357788, 2.7739291191101074, 2.5359020233154297, 2.31752347946167, 2.2068562507629395, 4.466371059417725, 0.6515496969223022, 2.672271728515625, 2.4014945030212402, 2.205814838409424, 1.9808589220046997, 1.8276057243347168, 4.227072715759277, 2.04465913772583, 1.8365989923477173, 1.5433428287506104, 3.8239645957946777, 1.4428391456604004, 1.1854912042617798, 3.5124964714050293, 3.24104905128479, 2.9610579013824463, 2.7225680351257324, 2.59965443611145, 2.522317886352539, 4.315528392791748]}],\n",
       "                        {\"autosize\": false, \"height\": 1000, \"scene\": {\"xaxis\": {\"nticks\": 4, \"range\": [-4, 4]}, \"yaxis\": {\"nticks\": 4, \"range\": [-4, 4]}, \"zaxis\": {\"nticks\": 4, \"range\": [-4, 4]}}, \"template\": {\"data\": {\"bar\": [{\"error_x\": {\"color\": \"#2a3f5f\"}, \"error_y\": {\"color\": \"#2a3f5f\"}, \"marker\": {\"line\": {\"color\": \"#E5ECF6\", \"width\": 0.5}}, \"type\": \"bar\"}], \"barpolar\": [{\"marker\": {\"line\": {\"color\": \"#E5ECF6\", \"width\": 0.5}}, \"type\": \"barpolar\"}], \"carpet\": [{\"aaxis\": {\"endlinecolor\": \"#2a3f5f\", \"gridcolor\": \"white\", \"linecolor\": \"white\", \"minorgridcolor\": \"white\", \"startlinecolor\": \"#2a3f5f\"}, \"baxis\": {\"endlinecolor\": \"#2a3f5f\", \"gridcolor\": \"white\", \"linecolor\": \"white\", \"minorgridcolor\": \"white\", \"startlinecolor\": \"#2a3f5f\"}, \"type\": \"carpet\"}], \"choropleth\": [{\"colorbar\": {\"outlinewidth\": 0, \"ticks\": \"\"}, \"type\": \"choropleth\"}], \"contour\": [{\"colorbar\": {\"outlinewidth\": 0, \"ticks\": \"\"}, \"colorscale\": [[0.0, \"#0d0887\"], [0.1111111111111111, \"#46039f\"], [0.2222222222222222, \"#7201a8\"], [0.3333333333333333, \"#9c179e\"], [0.4444444444444444, \"#bd3786\"], [0.5555555555555556, \"#d8576b\"], [0.6666666666666666, \"#ed7953\"], [0.7777777777777778, \"#fb9f3a\"], [0.8888888888888888, \"#fdca26\"], [1.0, \"#f0f921\"]], \"type\": \"contour\"}], \"contourcarpet\": [{\"colorbar\": {\"outlinewidth\": 0, \"ticks\": \"\"}, \"type\": \"contourcarpet\"}], \"heatmap\": [{\"colorbar\": {\"outlinewidth\": 0, \"ticks\": \"\"}, \"colorscale\": [[0.0, \"#0d0887\"], [0.1111111111111111, \"#46039f\"], [0.2222222222222222, \"#7201a8\"], [0.3333333333333333, \"#9c179e\"], [0.4444444444444444, \"#bd3786\"], [0.5555555555555556, \"#d8576b\"], [0.6666666666666666, \"#ed7953\"], [0.7777777777777778, \"#fb9f3a\"], [0.8888888888888888, \"#fdca26\"], [1.0, \"#f0f921\"]], \"type\": \"heatmap\"}], \"heatmapgl\": [{\"colorbar\": {\"outlinewidth\": 0, \"ticks\": \"\"}, \"colorscale\": [[0.0, \"#0d0887\"], [0.1111111111111111, \"#46039f\"], [0.2222222222222222, \"#7201a8\"], [0.3333333333333333, \"#9c179e\"], [0.4444444444444444, \"#bd3786\"], [0.5555555555555556, \"#d8576b\"], [0.6666666666666666, \"#ed7953\"], [0.7777777777777778, \"#fb9f3a\"], [0.8888888888888888, \"#fdca26\"], [1.0, \"#f0f921\"]], \"type\": \"heatmapgl\"}], \"histogram\": [{\"marker\": {\"colorbar\": {\"outlinewidth\": 0, \"ticks\": \"\"}}, \"type\": \"histogram\"}], \"histogram2d\": [{\"colorbar\": {\"outlinewidth\": 0, \"ticks\": \"\"}, \"colorscale\": [[0.0, \"#0d0887\"], [0.1111111111111111, \"#46039f\"], [0.2222222222222222, \"#7201a8\"], [0.3333333333333333, \"#9c179e\"], [0.4444444444444444, \"#bd3786\"], [0.5555555555555556, \"#d8576b\"], [0.6666666666666666, \"#ed7953\"], [0.7777777777777778, \"#fb9f3a\"], [0.8888888888888888, \"#fdca26\"], [1.0, \"#f0f921\"]], \"type\": \"histogram2d\"}], \"histogram2dcontour\": [{\"colorbar\": {\"outlinewidth\": 0, \"ticks\": \"\"}, \"colorscale\": [[0.0, \"#0d0887\"], [0.1111111111111111, \"#46039f\"], [0.2222222222222222, \"#7201a8\"], [0.3333333333333333, \"#9c179e\"], [0.4444444444444444, \"#bd3786\"], [0.5555555555555556, \"#d8576b\"], [0.6666666666666666, \"#ed7953\"], [0.7777777777777778, \"#fb9f3a\"], [0.8888888888888888, \"#fdca26\"], [1.0, \"#f0f921\"]], \"type\": \"histogram2dcontour\"}], \"mesh3d\": [{\"colorbar\": {\"outlinewidth\": 0, \"ticks\": \"\"}, \"type\": \"mesh3d\"}], \"parcoords\": [{\"line\": {\"colorbar\": {\"outlinewidth\": 0, \"ticks\": \"\"}}, \"type\": \"parcoords\"}], \"scatter\": [{\"marker\": {\"colorbar\": {\"outlinewidth\": 0, \"ticks\": \"\"}}, \"type\": \"scatter\"}], \"scatter3d\": [{\"line\": {\"colorbar\": {\"outlinewidth\": 0, \"ticks\": \"\"}}, \"marker\": {\"colorbar\": {\"outlinewidth\": 0, \"ticks\": \"\"}}, \"type\": \"scatter3d\"}], \"scattercarpet\": [{\"marker\": {\"colorbar\": {\"outlinewidth\": 0, \"ticks\": \"\"}}, \"type\": \"scattercarpet\"}], \"scattergeo\": [{\"marker\": {\"colorbar\": {\"outlinewidth\": 0, \"ticks\": \"\"}}, \"type\": \"scattergeo\"}], \"scattergl\": [{\"marker\": {\"colorbar\": {\"outlinewidth\": 0, \"ticks\": \"\"}}, \"type\": \"scattergl\"}], \"scattermapbox\": [{\"marker\": {\"colorbar\": {\"outlinewidth\": 0, \"ticks\": \"\"}}, \"type\": \"scattermapbox\"}], \"scatterpolar\": [{\"marker\": {\"colorbar\": {\"outlinewidth\": 0, \"ticks\": \"\"}}, \"type\": \"scatterpolar\"}], \"scatterpolargl\": [{\"marker\": {\"colorbar\": {\"outlinewidth\": 0, \"ticks\": \"\"}}, \"type\": \"scatterpolargl\"}], \"scatterternary\": [{\"marker\": {\"colorbar\": {\"outlinewidth\": 0, \"ticks\": \"\"}}, \"type\": \"scatterternary\"}], \"surface\": [{\"colorbar\": {\"outlinewidth\": 0, \"ticks\": \"\"}, \"colorscale\": [[0.0, \"#0d0887\"], [0.1111111111111111, \"#46039f\"], [0.2222222222222222, \"#7201a8\"], [0.3333333333333333, \"#9c179e\"], [0.4444444444444444, \"#bd3786\"], [0.5555555555555556, \"#d8576b\"], [0.6666666666666666, \"#ed7953\"], [0.7777777777777778, \"#fb9f3a\"], [0.8888888888888888, \"#fdca26\"], [1.0, \"#f0f921\"]], \"type\": \"surface\"}], \"table\": [{\"cells\": {\"fill\": {\"color\": \"#EBF0F8\"}, \"line\": {\"color\": \"white\"}}, \"header\": {\"fill\": {\"color\": \"#C8D4E3\"}, \"line\": {\"color\": \"white\"}}, \"type\": \"table\"}]}, \"layout\": {\"annotationdefaults\": {\"arrowcolor\": \"#2a3f5f\", \"arrowhead\": 0, \"arrowwidth\": 1}, \"colorscale\": {\"diverging\": [[0, \"#8e0152\"], [0.1, \"#c51b7d\"], [0.2, \"#de77ae\"], [0.3, \"#f1b6da\"], [0.4, \"#fde0ef\"], [0.5, \"#f7f7f7\"], [0.6, \"#e6f5d0\"], [0.7, \"#b8e186\"], [0.8, \"#7fbc41\"], [0.9, \"#4d9221\"], [1, \"#276419\"]], \"sequential\": [[0.0, \"#0d0887\"], [0.1111111111111111, \"#46039f\"], [0.2222222222222222, \"#7201a8\"], [0.3333333333333333, \"#9c179e\"], [0.4444444444444444, \"#bd3786\"], [0.5555555555555556, \"#d8576b\"], [0.6666666666666666, \"#ed7953\"], [0.7777777777777778, \"#fb9f3a\"], [0.8888888888888888, \"#fdca26\"], [1.0, \"#f0f921\"]], \"sequentialminus\": [[0.0, \"#0d0887\"], [0.1111111111111111, \"#46039f\"], [0.2222222222222222, \"#7201a8\"], [0.3333333333333333, \"#9c179e\"], [0.4444444444444444, \"#bd3786\"], [0.5555555555555556, \"#d8576b\"], [0.6666666666666666, \"#ed7953\"], [0.7777777777777778, \"#fb9f3a\"], [0.8888888888888888, \"#fdca26\"], [1.0, \"#f0f921\"]]}, \"colorway\": [\"#636efa\", \"#EF553B\", \"#00cc96\", \"#ab63fa\", \"#FFA15A\", \"#19d3f3\", \"#FF6692\", \"#B6E880\", \"#FF97FF\", \"#FECB52\"], \"font\": {\"color\": \"#2a3f5f\"}, \"geo\": {\"bgcolor\": \"white\", \"lakecolor\": \"white\", \"landcolor\": \"#E5ECF6\", \"showlakes\": true, \"showland\": true, \"subunitcolor\": \"white\"}, \"hoverlabel\": {\"align\": \"left\"}, \"hovermode\": \"closest\", \"mapbox\": {\"style\": \"light\"}, \"paper_bgcolor\": \"white\", \"plot_bgcolor\": \"#E5ECF6\", \"polar\": {\"angularaxis\": {\"gridcolor\": \"white\", \"linecolor\": \"white\", \"ticks\": \"\"}, \"bgcolor\": \"#E5ECF6\", \"radialaxis\": {\"gridcolor\": \"white\", \"linecolor\": \"white\", \"ticks\": \"\"}}, \"scene\": {\"xaxis\": {\"backgroundcolor\": \"#E5ECF6\", \"gridcolor\": \"white\", \"gridwidth\": 2, \"linecolor\": \"white\", \"showbackground\": true, \"ticks\": \"\", \"zerolinecolor\": \"white\"}, \"yaxis\": {\"backgroundcolor\": \"#E5ECF6\", \"gridcolor\": \"white\", \"gridwidth\": 2, \"linecolor\": \"white\", \"showbackground\": true, \"ticks\": \"\", \"zerolinecolor\": \"white\"}, \"zaxis\": {\"backgroundcolor\": \"#E5ECF6\", \"gridcolor\": \"white\", \"gridwidth\": 2, \"linecolor\": \"white\", \"showbackground\": true, \"ticks\": \"\", \"zerolinecolor\": \"white\"}}, \"shapedefaults\": {\"line\": {\"color\": \"#2a3f5f\"}}, \"ternary\": {\"aaxis\": {\"gridcolor\": \"white\", \"linecolor\": \"white\", \"ticks\": \"\"}, \"baxis\": {\"gridcolor\": \"white\", \"linecolor\": \"white\", \"ticks\": \"\"}, \"bgcolor\": \"#E5ECF6\", \"caxis\": {\"gridcolor\": \"white\", \"linecolor\": \"white\", \"ticks\": \"\"}}, \"title\": {\"x\": 0.05}, \"xaxis\": {\"automargin\": true, \"gridcolor\": \"white\", \"linecolor\": \"white\", \"ticks\": \"\", \"zerolinecolor\": \"white\", \"zerolinewidth\": 2}, \"yaxis\": {\"automargin\": true, \"gridcolor\": \"white\", \"linecolor\": \"white\", \"ticks\": \"\", \"zerolinecolor\": \"white\", \"zerolinewidth\": 2}}}, \"width\": 1000},\n",
       "                        {\"responsive\": true}\n",
       "                    ).then(function(){\n",
       "                            \n",
       "var gd = document.getElementById('98e58360-9119-45d4-acca-8a47a08268ad');\n",
       "var x = new MutationObserver(function (mutations, observer) {{\n",
       "        var display = window.getComputedStyle(gd).display;\n",
       "        if (!display || display === 'none') {{\n",
       "            console.log([gd, 'removed!']);\n",
       "            Plotly.purge(gd);\n",
       "            observer.disconnect();\n",
       "        }}\n",
       "}});\n",
       "\n",
       "// Listen for the removal of the full notebook cells\n",
       "var notebookContainer = gd.closest('#notebook-container');\n",
       "if (notebookContainer) {{\n",
       "    x.observe(notebookContainer, {childList: true});\n",
       "}}\n",
       "\n",
       "// Listen for the clearing of the current output cell\n",
       "var outputEl = gd.closest('.output');\n",
       "if (outputEl) {{\n",
       "    x.observe(outputEl, {childList: true});\n",
       "}}\n",
       "\n",
       "                        })\n",
       "                };\n",
       "                });\n",
       "            </script>\n",
       "        </div>"
      ]
     },
     "metadata": {},
     "output_type": "display_data"
    }
   ],
   "source": [
    "visualizer.visualize([p for p in partitions if p.is_stable],\n",
    "                     color = lambda x: x.num_corners, lines = False)"
   ]
  },
  {
   "cell_type": "code",
   "execution_count": 30,
   "metadata": {},
   "outputs": [
    {
     "data": {
      "text/plain": [
       "41"
      ]
     },
     "execution_count": 30,
     "metadata": {},
     "output_type": "execute_result"
    }
   ],
   "source": [
    "len([np.random.randint(40) + 1 for x in range(41)])"
   ]
  },
  {
   "cell_type": "code",
   "execution_count": null,
   "metadata": {},
   "outputs": [],
   "source": []
  },
  {
   "cell_type": "code",
   "execution_count": 130,
   "metadata": {},
   "outputs": [],
   "source": [
    "vae_inputs = visualizer._partitions_to_inputs(partitions)"
   ]
  },
  {
   "cell_type": "code",
   "execution_count": 97,
   "metadata": {},
   "outputs": [
    {
     "data": {
      "text/plain": [
       "(2714, 3)"
      ]
     },
     "execution_count": 97,
     "metadata": {},
     "output_type": "execute_result"
    }
   ],
   "source": [
    "visualizer.encoder.predict(vae_inputs)[0].shape"
   ]
  },
  {
   "cell_type": "code",
   "execution_count": 37,
   "metadata": {
    "scrolled": false
   },
   "outputs": [
    {
     "ename": "IndexError",
     "evalue": "index 2 is out of bounds for axis 1 with size 2",
     "output_type": "error",
     "traceback": [
      "\u001b[0;31m---------------------------------------------------------------------------\u001b[0m",
      "\u001b[0;31mIndexError\u001b[0m                                Traceback (most recent call last)",
      "\u001b[0;32m<ipython-input-37-ddfc8b8266eb>\u001b[0m in \u001b[0;36m<module>\u001b[0;34m\u001b[0m\n\u001b[1;32m      7\u001b[0m     \u001b[0mx\u001b[0m\u001b[0;34m=\u001b[0m\u001b[0mz_mean\u001b[0m\u001b[0;34m[\u001b[0m\u001b[0;34m:\u001b[0m\u001b[0;34m,\u001b[0m \u001b[0;36m0\u001b[0m\u001b[0;34m]\u001b[0m\u001b[0;34m,\u001b[0m\u001b[0;34m\u001b[0m\u001b[0;34m\u001b[0m\u001b[0m\n\u001b[1;32m      8\u001b[0m     \u001b[0my\u001b[0m \u001b[0;34m=\u001b[0m \u001b[0mz_mean\u001b[0m\u001b[0;34m[\u001b[0m\u001b[0;34m:\u001b[0m\u001b[0;34m,\u001b[0m \u001b[0;36m1\u001b[0m\u001b[0;34m]\u001b[0m\u001b[0;34m,\u001b[0m\u001b[0;34m\u001b[0m\u001b[0;34m\u001b[0m\u001b[0m\n\u001b[0;32m----> 9\u001b[0;31m     \u001b[0mz\u001b[0m \u001b[0;34m=\u001b[0m \u001b[0mz_mean\u001b[0m\u001b[0;34m[\u001b[0m\u001b[0;34m:\u001b[0m\u001b[0;34m,\u001b[0m \u001b[0;36m2\u001b[0m\u001b[0;34m]\u001b[0m\u001b[0;34m,\u001b[0m\u001b[0;34m\u001b[0m\u001b[0;34m\u001b[0m\u001b[0m\n\u001b[0m\u001b[1;32m     10\u001b[0m     \u001b[0mname\u001b[0m\u001b[0;34m=\u001b[0m\u001b[0;34m\"z\"\u001b[0m\u001b[0;34m,\u001b[0m\u001b[0;34m\u001b[0m\u001b[0;34m\u001b[0m\u001b[0m\n\u001b[1;32m     11\u001b[0m     \u001b[0mmode\u001b[0m\u001b[0;34m=\u001b[0m\u001b[0;34m'markers'\u001b[0m\u001b[0;34m,\u001b[0m\u001b[0;34m\u001b[0m\u001b[0;34m\u001b[0m\u001b[0m\n",
      "\u001b[0;31mIndexError\u001b[0m: index 2 is out of bounds for axis 1 with size 2"
     ]
    }
   ],
   "source": [
    "encoder = vae.layers[1]\n",
    "\n",
    "z_mean, _, _ = encoder.predict(np.concatenate([X_train, X_test]),\n",
    "                                   batch_size=batch_size)\n",
    "\n",
    "fig = go.Figure((go.Scatter3d(\n",
    "    x=z_mean[:, 0],\n",
    "    y = z_mean[:, 1],\n",
    "    z = z_mean[:, 2],\n",
    "    name=\"z\",\n",
    "    mode='markers',\n",
    "    text = [repr(p) for p in partitions],\n",
    "    marker=dict(\n",
    "        size=10,\n",
    "        color = colorings,\n",
    "        colorscale='Viridis',\n",
    "    )\n",
    ")))\n",
    "\n",
    "fig.update_layout(\n",
    "    autosize=False,\n",
    "    width=1000,\n",
    "    height=1000,\n",
    ")\n",
    "\n",
    "fig.show()"
   ]
  },
  {
   "cell_type": "code",
   "execution_count": 38,
   "metadata": {},
   "outputs": [],
   "source": [
    "partitions = []\n",
    "for ptn_matrix in np.concatenate([y_train, y_test]).reshape(-1, n, n):\n",
    "    parts = []\n",
    "    for row in ptn_matrix:\n",
    "        row_sum = sum(row)\n",
    "        if not row_sum:\n",
    "            break\n",
    "        parts.append(int(row_sum))\n",
    "        \n",
    "    partitions.append(Partition(parts))\n",
    "    \n",
    "\n",
    "colorings = [p.is_stable for p in partitions]"
   ]
  },
  {
   "cell_type": "code",
   "execution_count": 63,
   "metadata": {},
   "outputs": [],
   "source": [
    "def plot_results(models,\n",
    "                 data,\n",
    "                 batch_size=128,\n",
    "                 model_name=\"vae_mnist\"):\n",
    "    \"\"\"Plots labels and MNIST digits as a function of the 2D latent vector\n",
    "\n",
    "    # Arguments\n",
    "        models (tuple): encoder and decoder models\n",
    "        data (tuple): test data and label\n",
    "        batch_size (int): prediction batch size\n",
    "        model_name (string): which model is using this function\n",
    "    \"\"\"\n",
    "\n",
    "    encoder, decoder = models\n",
    "    X_test, y_test = data\n",
    "    os.makedirs(model_name, exist_ok=True)\n",
    "\n",
    "    filename = os.path.join(model_name, \"vae_mean.png\")\n",
    "    # display a 2D plot of the digit classes in the latent space\n",
    "    z_mean, _, _ = encoder.predict(X_test,\n",
    "                                   batch_size=batch_size)\n",
    "    plt.figure(figsize=(12, 10))\n",
    "    plt.scatter(z_mean[:, 0], z_mean[:, 1], c=colorings, cmap = 'winter')\n",
    "    plt.colorbar()\n",
    "    plt.xlabel(\"z[0]\")\n",
    "    plt.ylabel(\"z[1]\")\n",
    "    plt.savefig(filename, transparent = True)\n",
    "    plt.show()\n",
    "\n",
    "    filename = os.path.join(model_name, \"partitions_over_latent.png\")\n",
    "    # display a 30x30 2D manifold of digits\n",
    "    grid = 20\n",
    "    digit_size = n\n",
    "    figure = np.zeros((digit_size * grid, digit_size * grid))\n",
    "    # linearly spaced coordinates corresponding to the 2D plot\n",
    "    # of digit classes in the latent space\n",
    "    \n",
    "    if latent_dim == 2:\n",
    "        grid_x = np.linspace(-4, 4, grid)\n",
    "        grid_y = np.linspace(-4, 4, grid)[::-1]\n",
    "\n",
    "        for i, yi in enumerate(grid_y):\n",
    "            for j, xi in enumerate(grid_x):\n",
    "                z_sample = np.array([[xi, yi]])\n",
    "                x_decoded = decoder.predict(z_sample)\n",
    "                digit = x_decoded[0].reshape(digit_size, digit_size)\n",
    "                figure[i * digit_size: (i + 1) * digit_size,\n",
    "                       j * digit_size: (j + 1) * digit_size] = digit\n",
    "\n",
    "    else:\n",
    "        grid_x = np.linspace(-4, 4, grid)\n",
    "        grid_y = np.linspace(-4, 4, grid)[::-1]\n",
    "        grid_z = np.linspace(-4, 4, grid)[::-1]\n",
    "\n",
    "        for i, zi in enumerate(grid_z):\n",
    "            for i, yi in enumerate(grid_y):\n",
    "                for j, xi in enumerate(grid_x):\n",
    "                    z_sample = np.array([[xi, yi]])\n",
    "                    x_decoded = decoder.predict(z_sample)\n",
    "                    digit = x_decoded[0].reshape(digit_size, digit_size)\n",
    "                    figure[i * digit_size: (i + 1) * digit_size,\n",
    "                           j * digit_size: (j + 1) * digit_size] = digit\n",
    "                \n",
    "                \n",
    "    scale = 2\n",
    "    plt.figure(figsize=(grid * scale, grid * scale))\n",
    "    start_range = digit_size // 2\n",
    "    end_range = (grid - 1) * digit_size + start_range + 1\n",
    "    pixel_range = np.arange(start_range, end_range, digit_size)\n",
    "    sample_range_x = np.round(grid_x, 1)\n",
    "    sample_range_y = np.round(grid_y, 1)\n",
    "    plt.xticks(pixel_range, sample_range_x)\n",
    "    plt.yticks(pixel_range, sample_range_y)\n",
    "    plt.xlabel(\"z[0]\")\n",
    "    plt.ylabel(\"z[1]\")\n",
    "    plt.imshow(figure, cmap='Greys_r')\n",
    "    plt.savefig(filename, transparent = True)\n",
    "    plt.show()"
   ]
  },
  {
   "cell_type": "code",
   "execution_count": 64,
   "metadata": {
    "scrolled": false
   },
   "outputs": [
    {
     "data": {
      "image/png": "[encoded data removed]",
      "text/plain": [
       "<Figure size 864x720 with 2 Axes>"
      ]
     },
     "metadata": {
      "needs_background": "light"
     },
     "output_type": "display_data"
    },
    {
     "data": {
      "image/png": "[encoded data removed]",
      "text/plain": [
       "<Figure size 2880x2880 with 1 Axes>"
      ]
     },
     "metadata": {
      "needs_background": "light"
     },
     "output_type": "display_data"
    }
   ],
   "source": [
    "plot_results(vae.layers[1:], (np.concatenate([X_train, X_test]), np.concatenate([y_train, y_test])),\n",
    "             batch_size=batch_size, model_name=\"vae_mlp\")"
   ]
  }
 ],
 "metadata": {
  "kernelspec": {
   "display_name": "Python 3",
   "language": "python",
   "name": "python3"
  },
  "language_info": {
   "codemirror_mode": {
    "name": "ipython",
    "version": 3
   },
   "file_extension": ".py",
   "mimetype": "text/x-python",
   "name": "python",
   "nbconvert_exporter": "python",
   "pygments_lexer": "ipython3",
   "version": "3.7.3"
  }
 },
 "nbformat": 4,
 "nbformat_minor": 2
}
